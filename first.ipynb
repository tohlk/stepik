{
 "cells": [
  {
   "cell_type": "code",
   "execution_count": 2,
   "id": "c6a8922e",
   "metadata": {},
   "outputs": [
    {
     "name": "stdout",
     "output_type": "stream",
     "text": [
      "A great man doesn't seek to lead.\n",
      "He's called to it. And he answers.\n"
     ]
    }
   ],
   "source": [
    "print(\"A great man doesn't seek to lead.\")\n",
    "print(\"He's called to it. And he answers.\")"
   ]
  },
  {
   "cell_type": "code",
   "execution_count": 1,
   "id": "4f9f1105",
   "metadata": {},
   "outputs": [
    {
     "name": "stdout",
     "output_type": "stream",
     "text": [
      "A great man doesn't seek to lead.\n",
      "He's called to it. And he answers.\n"
     ]
    }
   ],
   "source": [
    "print(\"A great man doesn't seek to lead.\", end='\\n')\n",
    "print(\"He's called to it. And he answers.\", end='\\n')"
   ]
  },
  {
   "cell_type": "code",
   "execution_count": 3,
   "id": "eeba3a79",
   "metadata": {},
   "outputs": [
    {
     "name": "stdout",
     "output_type": "stream",
     "text": [
      "Python\n",
      "\n",
      "C#\n",
      "Java\n",
      "\n",
      "JavaScript\n"
     ]
    }
   ],
   "source": [
    "print('Python')\n",
    "print()\n",
    "print('C#')\n",
    "print('Java')\n",
    "print()\n",
    "print('JavaScript')"
   ]
  },
  {
   "cell_type": "code",
   "execution_count": 4,
   "id": "fde61f9c",
   "metadata": {},
   "outputs": [
    {
     "name": "stdout",
     "output_type": "stream",
     "text": [
      "a*\n",
      "*b*\n",
      "*c#"
     ]
    }
   ],
   "source": [
    "print('a', '\\n', 'b', '\\n', 'c', sep='*', end='#')"
   ]
  },
  {
   "cell_type": "code",
   "execution_count": 5,
   "id": "2bc211f2",
   "metadata": {},
   "outputs": [
    {
     "name": "stdout",
     "output_type": "stream",
     "text": [
      "a*b*cfinish"
     ]
    }
   ],
   "source": [
    "print('a', 'b', 'c', sep='*', end='finish')\n"
   ]
  },
  {
   "cell_type": "code",
   "execution_count": 6,
   "id": "d0e29628",
   "metadata": {},
   "outputs": [
    {
     "name": "stdout",
     "output_type": "stream",
     "text": [
      "Hello_-_everyone! How are you in 2024?+++"
     ]
    }
   ],
   "source": [
    "arg1 = 'Hello'\n",
    "sep1 = '_-_'\n",
    "end2 = '+++'\n",
    "\n",
    "print(arg1, 'everyone', sep=sep1, end='! ')\n",
    "print('How', 'are', 'you', 'in', '2024?', sep=' ', end=end2)\n"
   ]
  },
  {
   "cell_type": "code",
   "execution_count": 8,
   "id": "64838e61",
   "metadata": {},
   "outputs": [
    {
     "name": "stdout",
     "output_type": "stream",
     "text": [
      "Python\n",
      "\n",
      "\n",
      "loh\n"
     ]
    }
   ],
   "source": [
    "print('Python', end='\\n\\n\\n')\n",
    "print(\"loh\")"
   ]
  },
  {
   "cell_type": "code",
   "execution_count": 12,
   "id": "190725ee",
   "metadata": {},
   "outputs": [
    {
     "name": "stdout",
     "output_type": "stream",
     "text": [
      "Python  777  123123\n"
     ]
    }
   ],
   "source": [
    "print('Python', \"123123\",sep='  777  ')\n"
   ]
  },
  {
   "cell_type": "code",
   "execution_count": 13,
   "id": "0b994564",
   "metadata": {},
   "outputs": [
    {
     "name": "stdout",
     "output_type": "stream",
     "text": [
      "31-"
     ]
    }
   ],
   "source": [
    "print('31', end='-')"
   ]
  },
  {
   "cell_type": "code",
   "execution_count": 14,
   "id": "d6fee473",
   "metadata": {},
   "outputs": [
    {
     "name": "stdout",
     "output_type": "stream",
     "text": [
      "31/12/2019\n"
     ]
    }
   ],
   "source": [
    "print('31', '12', '2019', sep='/')\n"
   ]
  },
  {
   "cell_type": "code",
   "execution_count": 15,
   "id": "505ff343",
   "metadata": {},
   "outputs": [
    {
     "name": "stdout",
     "output_type": "stream",
     "text": [
      "a+b\n"
     ]
    }
   ],
   "source": [
    "delimiter = '+'\n",
    "print('a', 'b', sep=delimiter)"
   ]
  },
  {
   "cell_type": "code",
   "execution_count": 16,
   "id": "1dfa2dd0",
   "metadata": {},
   "outputs": [
    {
     "name": "stdout",
     "output_type": "stream",
     "text": [
      "YES#NO!"
     ]
    }
   ],
   "source": [
    "print('YES', sep='!', end='#')\n",
    "print('NO', sep='#', end='!')"
   ]
  },
  {
   "cell_type": "code",
   "execution_count": 17,
   "id": "75d98e14",
   "metadata": {},
   "outputs": [
    {
     "name": "stdout",
     "output_type": "stream",
     "text": [
      "a/b+c*d/"
     ]
    }
   ],
   "source": [
    "delimiter = '/'\n",
    "print('a', 'b', sep=delimiter, end='+')\n",
    "print('c', 'd', sep='*', end=delimiter)"
   ]
  },
  {
   "cell_type": "code",
   "execution_count": 18,
   "id": "c2192f52",
   "metadata": {},
   "outputs": [
    {
     "name": "stdout",
     "output_type": "stream",
     "text": [
      "Mercury*Venus!Mars**Jupiter?"
     ]
    }
   ],
   "source": [
    "print('Mercury', 'Venus', sep='*', end='!')\n",
    "print('Mars', 'Jupiter', sep='**', end='?')\n"
   ]
  },
  {
   "cell_type": "code",
   "execution_count": 19,
   "id": "a09df46f",
   "metadata": {},
   "outputs": [
    {
     "name": "stdout",
     "output_type": "stream",
     "text": [
      "YES#NO+MAYBE*NEVER?"
     ]
    }
   ],
   "source": [
    "sep1 = '#'\n",
    "end2 = '?'\n",
    "print('YES', 'NO', sep=sep1, end='+')\n",
    "print('MAYBE', 'NEVER', sep='*', end=end2)"
   ]
  },
  {
   "cell_type": "code",
   "execution_count": 20,
   "id": "bebf10c6",
   "metadata": {},
   "outputs": [
    {
     "name": "stdout",
     "output_type": "stream",
     "text": [
      "a*b*c\n",
      "d**e**fg+h+i%j-k-l\n",
      "m/n/o!p1q1r%s&t&u\n",
      "v%w%x\n",
      "y/z!"
     ]
    }
   ],
   "source": [
    "print('a', 'b', 'c', sep='*')\n",
    "print('d', 'e', 'f', sep='**', end='')\n",
    "print('g', 'h', 'i', sep='+', end='%')\n",
    "print('j', 'k', 'l', sep='-', end='\\n')\n",
    "print('m', 'n', 'o', sep='/', end='!')\n",
    "print('p', 'q', 'r', sep='1', end='%')\n",
    "print('s', 't', 'u', sep='&', end='\\n')\n",
    "print('v', 'w', 'x', sep='%')\n",
    "print('y', 'z', sep='/', end='!')\n"
   ]
  },
  {
   "cell_type": "code",
   "execution_count": 23,
   "id": "99d97db3",
   "metadata": {},
   "outputs": [
    {
     "name": "stdout",
     "output_type": "stream",
     "text": [
      "БЕСКОНЕЧНОСТЬ_НЕ_ПРЕДЕЛ!\n",
      "БЕСКОНЕЧНОСТЬ_НЕ_ПРЕДЕЛ!\n"
     ]
    }
   ],
   "source": [
    "print('БЕСКОНЕЧНОСТЬ', 'НЕ', 'ПРЕДЕЛ', sep='_', end='')\n",
    "print('!')\n",
    "print('БЕСКОНЕЧНОСТЬ_НЕ_ПРЕДЕЛ', end='')\n",
    "print('!')"
   ]
  },
  {
   "cell_type": "code",
   "execution_count": 25,
   "id": "2523356f",
   "metadata": {},
   "outputs": [
    {
     "name": "stdout",
     "output_type": "stream",
     "text": [
      "БЕСКОНЕЧНОСТЬ_НЕ_ПРЕДЕЛ_!\n"
     ]
    }
   ],
   "source": [
    "print('БЕСКОНЕЧНОСТЬ', 'НЕ', 'ПРЕДЕЛ', '!', sep='_')"
   ]
  },
  {
   "cell_type": "code",
   "execution_count": 26,
   "id": "b3ae07a3",
   "metadata": {},
   "outputs": [
    {
     "name": "stdout",
     "output_type": "stream",
     "text": [
      "БЕСКОНЕЧНОСТЬ_НЕ_ПРЕДЕЛ_!\n",
      "БЕСКОНЕЧНОСТЬ_НЕ_ПРЕДЕЛ!\n",
      "БЕСКОНЕЧНОСТЬ_НЕ_ПРЕДЕЛ!!БЕСКОНЕЧНОСТЬ_НЕ_ПРЕДЕЛ!\n",
      "БЕСКОНЕЧНОСТЬ_НЕ_ПРЕДЕЛ!\n",
      "БЕСКОНЕЧНОСТЬ_НЕ_ПРЕДЕЛ!"
     ]
    }
   ],
   "source": [
    "print('БЕСКОНЕЧНОСТЬ', 'НЕ', 'ПРЕДЕЛ', '!', sep='_')\n",
    "\n",
    "print('БЕСКОНЕЧНОСТЬ_НЕ_ПРЕДЕЛ!')\n",
    "\n",
    "print('БЕСКОНЕЧНОСТЬ', 'НЕ', 'ПРЕДЕЛ!', sep='_', end='!')\n",
    "\n",
    "print('БЕСКОНЕЧНОСТЬ', 'НЕ', 'ПРЕДЕЛ', sep='_', end='')\n",
    "print('!')\n",
    "\n",
    "print('БЕСКОНЕЧНОСТЬ_НЕ_ПРЕДЕЛ', end='')\n",
    "print('!')\n",
    "\n",
    "print('БЕСКОНЕЧНОСТЬ_', 'НЕ_', 'ПРЕДЕЛ!', sep='', end='')"
   ]
  },
  {
   "cell_type": "code",
   "execution_count": 30,
   "id": "c520ad5b",
   "metadata": {},
   "outputs": [
    {
     "name": "stdout",
     "output_type": "stream",
     "text": [
      "БЕСКОНЕЧНОСТЬ_НЕ_ПРЕДЕЛ!!"
     ]
    }
   ],
   "source": [
    "\n",
    "print('БЕСКОНЕЧНОСТЬ', 'НЕ', 'ПРЕДЕЛ!', sep='_', end='!')\n",
    "\n"
   ]
  },
  {
   "cell_type": "code",
   "execution_count": 33,
   "id": "756669f3",
   "metadata": {},
   "outputs": [
    {
     "name": "stdout",
     "output_type": "stream",
     "text": [
      "<вторая строка><строка-разделитель><третья строка><строка-разделитель><четвертая строка>\n"
     ]
    }
   ],
   "source": [
    " # Считываем данные\n",
    "separator = input()      # строка-разделитель\n",
    "line1 = input()          # вторая строка\n",
    "line2 = input()          # третья строка\n",
    "line3 = input()          # четвёртая строка\n",
    "\n",
    "# Выводим с использованием sep\n",
    "print(line1, line2, line3, sep=separator)\n"
   ]
  },
  {
   "cell_type": "code",
   "execution_count": 36,
   "id": "e07f4b38",
   "metadata": {},
   "outputs": [
    {
     "name": "stdout",
     "output_type": "stream",
     "text": [
      "Gvido Timur\n",
      "Timur Gvido\n"
     ]
    }
   ],
   "source": [
    "name1 = 'Timur'\n",
    "name2 = 'Gvido'\n",
    "\n",
    "name1, name2 = name2, name1\n",
    "print(name1 , name2)\n",
    "print(name2 , name1)"
   ]
  },
  {
   "cell_type": "code",
   "execution_count": 37,
   "id": "adabd5e3",
   "metadata": {},
   "outputs": [
    {
     "name": "stdout",
     "output_type": "stream",
     "text": [
      "My name**is**Python+My name**is**Python+"
     ]
    }
   ],
   "source": [
    "print(\"My name\", \"is\", \"Python\", sep=\"**\", end=\"+\")\n",
    "print(\"My name\", \"is\", \"Python\", sep=\"**\", end=\"+\")"
   ]
  },
  {
   "cell_type": "code",
   "execution_count": 38,
   "id": "48600df9",
   "metadata": {},
   "outputs": [
    {
     "name": "stdout",
     "output_type": "stream",
     "text": [
      "Follow PEP8!\n",
      "Follow PEP8!\n",
      "Follow PEP8!\n",
      "Follow PEP8!\n",
      "Follow**PEP8\n",
      "Follow**PEP8\n"
     ]
    }
   ],
   "source": [
    "print(\"Follow PEP8!\")\n",
    "\n",
    "print(\"Follow PEP8!\")\n",
    "\n",
    "print(\"Follow\", \"PEP8!\")\n",
    "\n",
    "print(\"Follow\", \"PEP8!\")\n",
    "\n",
    "print(\"Follow\", \"PEP8\", sep=\"**\")\n",
    "\n",
    "print(\"Follow\", \"PEP8\", sep=\"**\")\n",
    "\n",
    "name = input()\n",
    "\n",
    "name = input()"
   ]
  },
  {
   "cell_type": "code",
   "execution_count": 39,
   "id": "ac2237b6",
   "metadata": {},
   "outputs": [
    {
     "name": "stdout",
     "output_type": "stream",
     "text": [
      "Follow PEP8!\n",
      "Follow PEP8!\n",
      "Follow PEP8!\n",
      "Follow PEP8!\n",
      "Follow**PEP8\n",
      "Follow**PEP8\n"
     ]
    },
    {
     "ename": "KeyboardInterrupt",
     "evalue": "Interrupted by user",
     "output_type": "error",
     "traceback": [
      "\u001b[31m---------------------------------------------------------------------------\u001b[39m",
      "\u001b[31mKeyboardInterrupt\u001b[39m                         Traceback (most recent call last)",
      "\u001b[36mCell\u001b[39m\u001b[36m \u001b[39m\u001b[32mIn[39]\u001b[39m\u001b[32m, line 13\u001b[39m\n\u001b[32m      9\u001b[39m \u001b[38;5;28mprint\u001b[39m(\u001b[33m'\u001b[39m\u001b[33mFollow\u001b[39m\u001b[33m'\u001b[39m,\u001b[33m'\u001b[39m\u001b[33mPEP8\u001b[39m\u001b[33m'\u001b[39m, sep = \u001b[33m'\u001b[39m\u001b[33m**\u001b[39m\u001b[33m'\u001b[39m)\n\u001b[32m     11\u001b[39m \u001b[38;5;28mprint\u001b[39m(\u001b[33m'\u001b[39m\u001b[33mFollow\u001b[39m\u001b[33m'\u001b[39m, \u001b[33m'\u001b[39m\u001b[33mPEP8\u001b[39m\u001b[33m'\u001b[39m, sep=\u001b[33m'\u001b[39m\u001b[33m**\u001b[39m\u001b[33m'\u001b[39m)\n\u001b[32m---> \u001b[39m\u001b[32m13\u001b[39m name = \u001b[38;5;28;43minput\u001b[39;49m\u001b[43m(\u001b[49m\u001b[43m)\u001b[49m\n\u001b[32m     15\u001b[39m name=\u001b[38;5;28minput\u001b[39m()\n",
      "\u001b[36mFile \u001b[39m\u001b[32m~/Library/Python/3.13/lib/python/site-packages/ipykernel/kernelbase.py:1275\u001b[39m, in \u001b[36mKernel.raw_input\u001b[39m\u001b[34m(self, prompt)\u001b[39m\n\u001b[32m   1273\u001b[39m     msg = \u001b[33m\"\u001b[39m\u001b[33mraw_input was called, but this frontend does not support input requests.\u001b[39m\u001b[33m\"\u001b[39m\n\u001b[32m   1274\u001b[39m     \u001b[38;5;28;01mraise\u001b[39;00m StdinNotImplementedError(msg)\n\u001b[32m-> \u001b[39m\u001b[32m1275\u001b[39m \u001b[38;5;28;01mreturn\u001b[39;00m \u001b[38;5;28;43mself\u001b[39;49m\u001b[43m.\u001b[49m\u001b[43m_input_request\u001b[49m\u001b[43m(\u001b[49m\n\u001b[32m   1276\u001b[39m \u001b[43m    \u001b[49m\u001b[38;5;28;43mstr\u001b[39;49m\u001b[43m(\u001b[49m\u001b[43mprompt\u001b[49m\u001b[43m)\u001b[49m\u001b[43m,\u001b[49m\n\u001b[32m   1277\u001b[39m \u001b[43m    \u001b[49m\u001b[38;5;28;43mself\u001b[39;49m\u001b[43m.\u001b[49m\u001b[43m_parent_ident\u001b[49m\u001b[43m[\u001b[49m\u001b[33;43m\"\u001b[39;49m\u001b[33;43mshell\u001b[39;49m\u001b[33;43m\"\u001b[39;49m\u001b[43m]\u001b[49m\u001b[43m,\u001b[49m\n\u001b[32m   1278\u001b[39m \u001b[43m    \u001b[49m\u001b[38;5;28;43mself\u001b[39;49m\u001b[43m.\u001b[49m\u001b[43mget_parent\u001b[49m\u001b[43m(\u001b[49m\u001b[33;43m\"\u001b[39;49m\u001b[33;43mshell\u001b[39;49m\u001b[33;43m\"\u001b[39;49m\u001b[43m)\u001b[49m\u001b[43m,\u001b[49m\n\u001b[32m   1279\u001b[39m \u001b[43m    \u001b[49m\u001b[43mpassword\u001b[49m\u001b[43m=\u001b[49m\u001b[38;5;28;43;01mFalse\u001b[39;49;00m\u001b[43m,\u001b[49m\n\u001b[32m   1280\u001b[39m \u001b[43m\u001b[49m\u001b[43m)\u001b[49m\n",
      "\u001b[36mFile \u001b[39m\u001b[32m~/Library/Python/3.13/lib/python/site-packages/ipykernel/kernelbase.py:1320\u001b[39m, in \u001b[36mKernel._input_request\u001b[39m\u001b[34m(self, prompt, ident, parent, password)\u001b[39m\n\u001b[32m   1317\u001b[39m \u001b[38;5;28;01mexcept\u001b[39;00m \u001b[38;5;167;01mKeyboardInterrupt\u001b[39;00m:\n\u001b[32m   1318\u001b[39m     \u001b[38;5;66;03m# re-raise KeyboardInterrupt, to truncate traceback\u001b[39;00m\n\u001b[32m   1319\u001b[39m     msg = \u001b[33m\"\u001b[39m\u001b[33mInterrupted by user\u001b[39m\u001b[33m\"\u001b[39m\n\u001b[32m-> \u001b[39m\u001b[32m1320\u001b[39m     \u001b[38;5;28;01mraise\u001b[39;00m \u001b[38;5;167;01mKeyboardInterrupt\u001b[39;00m(msg) \u001b[38;5;28;01mfrom\u001b[39;00m\u001b[38;5;250m \u001b[39m\u001b[38;5;28;01mNone\u001b[39;00m\n\u001b[32m   1321\u001b[39m \u001b[38;5;28;01mexcept\u001b[39;00m \u001b[38;5;167;01mException\u001b[39;00m:\n\u001b[32m   1322\u001b[39m     \u001b[38;5;28mself\u001b[39m.log.warning(\u001b[33m\"\u001b[39m\u001b[33mInvalid Message:\u001b[39m\u001b[33m\"\u001b[39m, exc_info=\u001b[38;5;28;01mTrue\u001b[39;00m)\n",
      "\u001b[31mKeyboardInterrupt\u001b[39m: Interrupted by user"
     ]
    }
   ],
   "source": [
    "print('Follow PEP8!')\n",
    "\n",
    "print ('Follow PEP8!')\n",
    "\n",
    "print('Follow', 'PEP8!')\n",
    "\n",
    "print('Follow','PEP8!')\n",
    "\n",
    "print('Follow','PEP8', sep = '**')\n",
    "\n",
    "print('Follow', 'PEP8', sep='**')\n",
    "\n",
    "name = input()\n",
    "\n",
    "name=input()"
   ]
  },
  {
   "cell_type": "code",
   "execution_count": 40,
   "id": "3127bbd1",
   "metadata": {},
   "outputs": [
    {
     "name": "stdout",
     "output_type": "stream",
     "text": [
      "Python+C#=awesome\n"
     ]
    }
   ],
   "source": [
    "# print('Java')\n",
    "# print('Ruby')\n",
    "# print('Scala')\n",
    "print('Python', end='+')  # print('C++')\n",
    "# print('GO')\n",
    "print('C#', end='=')  # print('C')\n",
    "print('awesome')\n",
    "# finish"
   ]
  },
  {
   "cell_type": "code",
   "execution_count": 44,
   "id": "099be65e",
   "metadata": {},
   "outputs": [
    {
     "name": "stdout",
     "output_type": "stream",
     "text": [
      "-3\n",
      "1\n",
      "-7\n",
      "1.0\n",
      "-3.0\n"
     ]
    }
   ],
   "source": [
    "a = 7\n",
    "b = -3\n",
    "\n",
    "print(-a + b + 7)\n",
    "print(a + 2 * b)\n",
    "print(-a + b + 3)\n",
    "print((a + b) / 4)\n",
    "print((a + 2) / b)"
   ]
  },
  {
   "cell_type": "code",
   "execution_count": 46,
   "id": "b769066f",
   "metadata": {},
   "outputs": [
    {
     "name": "stdout",
     "output_type": "stream",
     "text": [
      "-50\n"
     ]
    }
   ],
   "source": [
    "s = 0\n",
    "k = 30\n",
    "d = k - 5\n",
    "k = 2 * d\n",
    "s = k - 100\n",
    "\n",
    "print(s)"
   ]
  },
  {
   "cell_type": "code",
   "execution_count": 48,
   "id": "1e68c8e3",
   "metadata": {},
   "outputs": [
    {
     "name": "stdout",
     "output_type": "stream",
     "text": [
      "20\n"
     ]
    }
   ],
   "source": [
    "x = 3 \n",
    "y = 4 \n",
    "z = x + y \n",
    "z = z + 1 \n",
    "x = y \n",
    "y = 5\n",
    "x = z + y + 7\n",
    "\n",
    "print(x)"
   ]
  },
  {
   "cell_type": "code",
   "execution_count": 55,
   "id": "4b8ca966",
   "metadata": {},
   "outputs": [
    {
     "name": "stdout",
     "output_type": "stream",
     "text": [
      "1 2 3\n"
     ]
    }
   ],
   "source": [
    "name = input()\n",
    "name_2 = int(name) + 1\n",
    "name_3 = int(name) + 2\n",
    "print(name,name_2,name_3)"
   ]
  },
  {
   "cell_type": "code",
   "execution_count": 63,
   "id": "478b8914",
   "metadata": {},
   "outputs": [
    {
     "name": "stdout",
     "output_type": "stream",
     "text": [
      "369\n"
     ]
    }
   ],
   "source": [
    "name = int(input())\n",
    "name_2 = int(input())\n",
    "name_3 = int(input())\n",
    "s = name + name_2 + name_3\n",
    "print(int(s))"
   ]
  },
  {
   "cell_type": "code",
   "execution_count": 65,
   "id": "3fe77d81",
   "metadata": {},
   "outputs": [
    {
     "ename": "ValueError",
     "evalue": "invalid literal for int() with base 10: ''",
     "output_type": "error",
     "traceback": [
      "\u001b[31m---------------------------------------------------------------------------\u001b[39m",
      "\u001b[31mValueError\u001b[39m                                Traceback (most recent call last)",
      "\u001b[36mCell\u001b[39m\u001b[36m \u001b[39m\u001b[32mIn[65]\u001b[39m\u001b[32m, line 1\u001b[39m\n\u001b[32m----> \u001b[39m\u001b[32m1\u001b[39m name = \u001b[38;5;28;43mint\u001b[39;49m\u001b[43m(\u001b[49m\u001b[38;5;28;43minput\u001b[39;49m\u001b[43m(\u001b[49m\u001b[43m)\u001b[49m\u001b[43m)\u001b[49m\n\u001b[32m      2\u001b[39m name_2 = \u001b[38;5;28mint\u001b[39m(\u001b[38;5;28minput\u001b[39m())\n\u001b[32m      3\u001b[39m name_3 = \u001b[38;5;28mint\u001b[39m(\u001b[38;5;28minput\u001b[39m())\n",
      "\u001b[31mValueError\u001b[39m: invalid literal for int() with base 10: ''"
     ]
    }
   ],
   "source": [
    "name = int(input())\n",
    "name_2 = int(input())\n",
    "name_3 = int(input())\n",
    "name_4 = int(input())\n",
    "s = name + name_2 + name_3 + name_4\n",
    "summa = s * 3\n",
    "print(summa)"
   ]
  },
  {
   "cell_type": "code",
   "execution_count": 67,
   "id": "2ded472c",
   "metadata": {},
   "outputs": [
    {
     "name": "stdout",
     "output_type": "stream",
     "text": [
      "27\n"
     ]
    }
   ],
   "source": [
    "a = 3 ** 3\n",
    "print(a)"
   ]
  },
  {
   "cell_type": "code",
   "execution_count": 73,
   "id": "dff35f70",
   "metadata": {},
   "outputs": [
    {
     "name": "stdout",
     "output_type": "stream",
     "text": [
      "131\n"
     ]
    }
   ],
   "source": [
    "a = int(input())\n",
    "b = int(input())\n",
    "\n",
    "\n",
    "\n",
    "future = 3 * ((a + b) ** 3) + 275 * (b ** 2) - 127 * a - 41\n",
    "print(future)\n"
   ]
  },
  {
   "cell_type": "code",
   "execution_count": 76,
   "id": "22f19d86",
   "metadata": {},
   "outputs": [
    {
     "name": "stdout",
     "output_type": "stream",
     "text": [
      "Следующее за числом 11 число: 12\n",
      "Для числа 11 предыдущее число: 10\n"
     ]
    }
   ],
   "source": [
    "name = int(input())\n",
    "name_2 = name - 1\n",
    "name_3 = name + 1 \n",
    "print(\"Следующее за числом\" , name , \"число:\" , name_3)\n",
    "print(\"Для числа\", name , \"предыдущее число:\" , name_2)"
   ]
  },
  {
   "cell_type": "code",
   "execution_count": 79,
   "id": "025ee309",
   "metadata": {},
   "outputs": [
    {
     "name": "stdout",
     "output_type": "stream",
     "text": [
      "Объем = 15625\n",
      "Площадь полной поверхности = 3750\n"
     ]
    }
   ],
   "source": [
    "a = int(input())\n",
    "V = a ** 3\n",
    "S =  6 * (a ** 2)\n",
    "print(\"Объем =\" , V)\n",
    "print(\"Площадь полной поверхности =\" , S )"
   ]
  },
  {
   "cell_type": "code",
   "execution_count": null,
   "id": "4f8fcc5a",
   "metadata": {},
   "outputs": [
    {
     "name": "stdout",
     "output_type": "stream",
     "text": [
      "2 + 7 = 9\n",
      "2 - 7 = -5\n",
      "2 * 7 = 14\n"
     ]
    }
   ],
   "source": [
    "a = int(input())\n",
    "b = int(input())\n",
    "S = a + b\n",
    "R = a - b \n",
    "P = a * b\n",
    "print( a , \"+\" , b ,\"=\" , S )\n",
    "print(a , \"-\" , b , \"=\" , R )\n",
    "print(a , \"*\", b ,  \"=\",  P)\n"
   ]
  },
  {
   "cell_type": "code",
   "execution_count": 95,
   "id": "7898d6ad",
   "metadata": {},
   "outputs": [
    {
     "name": "stdout",
     "output_type": "stream",
     "text": [
      "11\n"
     ]
    }
   ],
   "source": [
    "# Считываем входные данные\n",
    "a1 = int(input())  # первый член прогрессии\n",
    "d = int(input())   # разность прогрессии\n",
    "n = int(input())   # номер члена прогрессии\n",
    "\n",
    "# Формула n-го члена арифметической прогрессии\n",
    "an = a1 + d * (n - 1)\n",
    "\n",
    "# Вывод результата\n",
    "print(an)\n"
   ]
  },
  {
   "cell_type": "code",
   "execution_count": null,
   "id": "735f4a17",
   "metadata": {},
   "outputs": [
    {
     "name": "stdout",
     "output_type": "stream",
     "text": [
      "7--14--42--28--35\n"
     ]
    }
   ],
   "source": [
    "a1 = int(input())\n",
    "a2 = a1 * 2\n",
    "a3 = a2 * 3\n",
    "a4 = a1 * 4\n",
    "a5 = a1 * 5\n",
    "print(a1, a2, a3, a4, a5, sep=\"---\")"
   ]
  },
  {
   "cell_type": "code",
   "execution_count": 99,
   "id": "77e5bbce",
   "metadata": {},
   "outputs": [
    {
     "name": "stdout",
     "output_type": "stream",
     "text": [
      "256\n",
      "5\n",
      "3\n",
      "0\n",
      "0\n"
     ]
    }
   ],
   "source": [
    "print(2 ** 2 ** 3)     # 2 ** (2 ** 3) = 2 ** 8\n",
    "print(5 % 9)\n",
    "print(3 % 13)\n",
    "print(5 // 9)\n",
    "print(3 // 13)\n",
    "#Обратите внимание: при 0 < n < m результатом деления n % m является число n, а результатом деления n // m является число 0."
   ]
  },
  {
   "cell_type": "code",
   "execution_count": 107,
   "id": "5fe049aa",
   "metadata": {},
   "outputs": [
    {
     "name": "stdout",
     "output_type": "stream",
     "text": [
      "6\n"
     ]
    }
   ],
   "source": [
    "print(18 % 12)\n"
   ]
  },
  {
   "cell_type": "code",
   "execution_count": 109,
   "id": "0d5e1890",
   "metadata": {},
   "outputs": [
    {
     "name": "stdout",
     "output_type": "stream",
     "text": [
      "-100\n",
      "-1000\n"
     ]
    }
   ],
   "source": [
    "print(-10**2)\n",
    "print(-10**3)"
   ]
  },
  {
   "cell_type": "code",
   "execution_count": 111,
   "id": "3ef91eb5",
   "metadata": {},
   "outputs": [
    {
     "name": "stdout",
     "output_type": "stream",
     "text": [
      "100\n",
      "-1000\n"
     ]
    }
   ],
   "source": [
    "print((-10)**2)\n",
    "print((-10)**3)"
   ]
  },
  {
   "cell_type": "code",
   "execution_count": 117,
   "id": "7a52c588",
   "metadata": {},
   "outputs": [
    {
     "name": "stdout",
     "output_type": "stream",
     "text": [
      "-13\n"
     ]
    }
   ],
   "source": [
    "print(-123 // 10)\n"
   ]
  },
  {
   "cell_type": "code",
   "execution_count": 119,
   "id": "e9b1eee8",
   "metadata": {},
   "outputs": [
    {
     "name": "stdout",
     "output_type": "stream",
     "text": [
      "29\n"
     ]
    }
   ],
   "source": [
    "a = 15 // (16 % 7)\n",
    "b = 34 % a * 5 - 29 % 5 * 2\n",
    "print(a + b)"
   ]
  },
  {
   "cell_type": "code",
   "execution_count": 121,
   "id": "e42b61ff",
   "metadata": {},
   "outputs": [
    {
     "name": "stdout",
     "output_type": "stream",
     "text": [
      "2\n"
     ]
    }
   ],
   "source": [
    "a = 82 // 3**2 % 7\n",
    "print(a)"
   ]
  },
  {
   "cell_type": "code",
   "execution_count": 127,
   "id": "fd752147",
   "metadata": {},
   "outputs": [
    {
     "name": "stdout",
     "output_type": "stream",
     "text": [
      "9\n"
     ]
    }
   ],
   "source": [
    "# Считываем входные данные\n",
    "a1 = int(input())  # первый член прогрессии\n",
    "d = int(input())   # разность прогрессии\n",
    "n = int(input())   # номер члена прогрессии\n",
    "\n",
    "# Формула n-го члена арифметической прогрессии\n",
    "an = a1 + (d * (n - 1))\n",
    "\n",
    "# Вывод результата\n",
    "print(an)"
   ]
  },
  {
   "cell_type": "code",
   "execution_count": 130,
   "id": "ae851e82",
   "metadata": {},
   "outputs": [
    {
     "name": "stdout",
     "output_type": "stream",
     "text": [
      "16\n"
     ]
    }
   ],
   "source": [
    "# Считываем входные данные\n",
    "a1 = int(input())  # первый член прогрессии\n",
    "d = int(input())   # знаменатель (множитель) прогрессии\n",
    "n = int(input())   # номер члена прогрессии\n",
    "\n",
    "# Формула n-го члена геометрической прогрессии\n",
    "an = a1 * (d ** (n - 1))\n",
    "\n",
    "# Вывод результата\n",
    "print(an)\n"
   ]
  },
  {
   "cell_type": "code",
   "execution_count": 135,
   "id": "0bd0e668",
   "metadata": {},
   "outputs": [
    {
     "name": "stdout",
     "output_type": "stream",
     "text": [
      "0\n"
     ]
    }
   ],
   "source": [
    "name = int(input())\n",
    "name_2 = name // 100\n",
    "print(name_2)\n"
   ]
  },
  {
   "cell_type": "code",
   "execution_count": 143,
   "id": "9ac49899",
   "metadata": {},
   "outputs": [
    {
     "name": "stdout",
     "output_type": "stream",
     "text": [
      "2\n",
      "0\n"
     ]
    }
   ],
   "source": [
    "name = int(input())\n",
    "name_2 = int(input())\n",
    "name_3 = name_2 // name\n",
    "name_4 =  name_2 % name\n",
    "print(name_3, end=\"\\n\")\n",
    "print(name_4)"
   ]
  },
  {
   "cell_type": "code",
   "execution_count": 146,
   "id": "71f03cb7",
   "metadata": {},
   "outputs": [
    {
     "name": "stdout",
     "output_type": "stream",
     "text": [
      "111\n",
      "111\n",
      "111\n"
     ]
    }
   ],
   "source": [
    "n = int(input())\n",
    "print((n + 1) // 2)\n",
    "# Считываем население Вселенной\n",
    "n = int(input())\n",
    "\n",
    "# Вычисляем количество выживших\n",
    "survivors = (n + 1) // 2  # округление вверх для нечетных чисел\n",
    "\n",
    "# Выводим результат\n",
    "print(survivors)\n",
    "n = int(input())\n",
    "\n",
    "if n % 2 == 0:  # если число чётное\n",
    "    print(n // 2)\n",
    "else:           # если нечётное\n",
    "    print(n // 2 + 1)\n"
   ]
  },
  {
   "cell_type": "code",
   "execution_count": 148,
   "id": "9680b1eb",
   "metadata": {},
   "outputs": [
    {
     "name": "stdout",
     "output_type": "stream",
     "text": [
      "30 мин - это 0 час 30 минут\n"
     ]
    }
   ],
   "source": [
    "name = int(input())\n",
    "name_2 = name // 60\n",
    "name_3 = name % 60 \n",
    "print(name, \"мин - это\", name_2, \"час\", name_3, \"минут\")"
   ]
  },
  {
   "cell_type": "code",
   "execution_count": 154,
   "id": "d4e924d9",
   "metadata": {},
   "outputs": [
    {
     "name": "stdout",
     "output_type": "stream",
     "text": [
      "0\n"
     ]
    }
   ],
   "source": [
    "name = int(input())\n",
    "name_2 = name // 4\n",
    "print(name_2)"
   ]
  },
  {
   "cell_type": "code",
   "execution_count": 153,
   "id": "c3ba6508",
   "metadata": {},
   "outputs": [
    {
     "name": "stdout",
     "output_type": "stream",
     "text": [
      "1\n"
     ]
    }
   ],
   "source": [
    "n = int(input())              # 1. Считываем номер места\n",
    "print((n - 1) // 4 + 1)       # 2. Вычисляем номер купе и выводим\n"
   ]
  },
  {
   "cell_type": "code",
   "execution_count": null,
   "id": "f7ef1288",
   "metadata": {},
   "outputs": [],
   "source": [
    "num = 754\n",
    "a = num % 10             # вычисляем последнюю цифру числа\n",
    "b = (num % 100) // 10    # вычисляем среднюю цифру числа\n",
    "c = num // 100           # вычисляем первую цифру числа\n",
    "\n",
    "print(a)\n",
    "print(b)\n",
    "print(c)\n",
    "\n",
    "#Алгоритм получения цифр n-значного числа\n",
    "\n",
    "#Несложно понять, по какому алгоритму можно получить каждую цифру n-значного числа num:\n",
    "\n",
    "#Последняя цифра: num % 10\n",
    "#Предпоследняя цифра: (num // 10) % 10\n",
    "#Предпредпоследняя цифра: (num // 100) % 10\n",
    "#...\n",
    "#Третья цифра: (num // 10 ** (n - 3)) % 10\n",
    "#Вторая цифра: (num // 10 ** (n - 2)) % 10\n",
    "#Первая цифра: num // 10 ** (n - 1)\n",
    "#Запишем формулу для вычисления i-й цифры n-значного числа num в общем виде:\n",
    "\n",
    "(num // 10 ** (n - i)) % 10\n",
    "\n",
    "#Также предложим другой алгоритм получения каждой цифры n-значного числа num:\n",
    "\n",
    "#Последняя цифра: num % 10\n",
    "#Предпоследняя цифра: (num % 100) // 10\n",
    "#Предпредпоследняя цифра: (num % 1000) // 100\n",
    "#...\n",
    "#Третья цифра: (num % 10 ** (n - 2)) // (10 ** (n - 3))\n",
    "#торая цифра: (num % 10 ** (n - 1)) // (10 ** (n - 2))\n",
    "#Первая цифра: (num % 10 ** n) // (10 ** (n - 1))\n",
    "#Мы можем записать формулу для вычисления i-й цифры n-значного числа num в общем виде:\n",
    "\n",
    "num % 10 ** (n + 1 - i) // (10 ** (n - i))"
   ]
  },
  {
   "cell_type": "code",
   "execution_count": 156,
   "id": "fb3bc25d",
   "metadata": {},
   "outputs": [
    {
     "name": "stdout",
     "output_type": "stream",
     "text": [
      "Число десятков = 111\n",
      "Число единиц = 3\n"
     ]
    }
   ],
   "source": [
    "num = int(input())\n",
    "last_digit = num % 10\n",
    "first_digit = num // 10\n",
    "\n",
    "print('Число десятков =', first_digit)\n",
    "print('Число единиц =', last_digit)"
   ]
  },
  {
   "cell_type": "code",
   "execution_count": 160,
   "id": "2fac273c",
   "metadata": {},
   "outputs": [
    {
     "name": "stdout",
     "output_type": "stream",
     "text": [
      "Сумма цифр = 15\n"
     ]
    }
   ],
   "source": [
    "num = int(input())\n",
    "last_digit = num % 10\n",
    "first_digit = num // 10\n",
    "\n",
    "print('Сумма цифр =', last_digit + first_digit)"
   ]
  },
  {
   "cell_type": "code",
   "execution_count": 170,
   "id": "73d8cb3a",
   "metadata": {},
   "outputs": [
    {
     "name": "stdout",
     "output_type": "stream",
     "text": [
      "Искомое число = 21\n"
     ]
    }
   ],
   "source": [
    "num = int(input())\n",
    "last_digit = num % 10\n",
    "first_digit = num // 10\n",
    "\n",
    "print('Искомое число =', last_digit * 10 + first_digit)"
   ]
  },
  {
   "cell_type": "code",
   "execution_count": 173,
   "id": "310a14e8",
   "metadata": {},
   "outputs": [
    {
     "name": "stdout",
     "output_type": "stream",
     "text": [
      "1,2,3\n"
     ]
    }
   ],
   "source": [
    "num = int(input())\n",
    "digit3 = num % 10\n",
    "digit2 = (num // 10) % 10\n",
    "digit1 = num // 100\n",
    "\n",
    "print(digit1, digit2, digit3, sep=',')"
   ]
  },
  {
   "cell_type": "code",
   "execution_count": 179,
   "id": "66dd3278",
   "metadata": {},
   "outputs": [
    {
     "name": "stdout",
     "output_type": "stream",
     "text": [
      "Сумма цифр = 6\n",
      "Произведение цифр = 6\n"
     ]
    }
   ],
   "source": [
    "name = int(input())\n",
    "name_2 = name % 10\n",
    "name_3 = (name //10) % 10\n",
    "name_4 = name // 100\n",
    "S = int(name_2 + name_3 + name_4)\n",
    "P = int(name_2 * name_3 * name_4)\n",
    "print(\"Сумма цифр =\", S)\n",
    "print(\"Произведение цифр =\", P)"
   ]
  },
  {
   "cell_type": "code",
   "execution_count": 188,
   "id": "f1a78648",
   "metadata": {},
   "outputs": [
    {
     "name": "stdout",
     "output_type": "stream",
     "text": [
      "123\n",
      "132\n",
      "213\n",
      "231\n",
      "312\n",
      "321\n"
     ]
    }
   ],
   "source": [
    "num = int(input())\n",
    "c = num % 10             # вычисляем последнюю цифру числа\n",
    "b = (num % 100) // 10    # вычисляем среднюю цифру числа\n",
    "a = num // 100           # вычисляем первую цифру числа\n",
    "print(a,b,c, sep=\"\")\n",
    "print(a,c,b, sep=\"\")\n",
    "print(b,a,c, sep=\"\")\n",
    "print(b,c,a, sep=\"\")\n",
    "print(c,a,b, sep=\"\")\n",
    "print(c,b,a, sep=\"\")\n"
   ]
  },
  {
   "cell_type": "code",
   "execution_count": 196,
   "id": "8173137b",
   "metadata": {},
   "outputs": [
    {
     "name": "stdout",
     "output_type": "stream",
     "text": [
      "Цифра в позиции тысяч равна 1\n",
      "Цифра в позиции сотен равна 2\n",
      "Цифра в позиции десятков равна 3\n",
      "Цифра в позиции единиц равна 4\n"
     ]
    }
   ],
   "source": [
    "name = int(input())\n",
    "a = name // 1000\n",
    "b = (name // 100) % 10\n",
    "c = (name % 100) // 10\n",
    "d = name % 10\n",
    "print(\"Цифра в позиции тысяч равна\" , a)\n",
    "print(\"Цифра в позиции сотен равна\", b)\n",
    "print(\"Цифра в позиции десятков равна\",c)\n",
    "print(\"Цифра в позиции единиц равна\",d)"
   ]
  },
  {
   "cell_type": "code",
   "execution_count": null,
   "id": "14212e78",
   "metadata": {},
   "outputs": [],
   "source": [
    "#Последняя цифра: num % 10\n",
    "#Предпоследняя цифра: (num // 10) % 10\n",
    "#Предпредпоследняя цифра: (num // 100) % 10\n",
    "...\n",
    "#Третья цифра: (num // 10 ** (n - 3)) % 10\n",
    "#Вторая цифра: (num // 10 ** (n - 2)) % 10\n",
    "#Первая цифра: num // 10 ** (n - 1)\n",
    "#или\n",
    "\n",
    "#Последняя цифра: num % 10\n",
    "#Предпоследняя цифра: (num % 100) // 10\n",
    "#Предпредпоследняя цифра: (num % 1000) // 100\n",
    "...\n",
    "#Третья цифра: (num % 10 ** (n - 2)) // (10 ** (n - 3))\n",
    "#Вторая цифра: (num % 10 ** (n - 1)) // (10 ** (n - 2))\n",
    "#Первая цифра: (num % 10 ** n) // (10 ** (n - 1))"
   ]
  },
  {
   "cell_type": "code",
   "execution_count": 208,
   "id": "a84ae95f",
   "metadata": {},
   "outputs": [
    {
     "name": "stdout",
     "output_type": "stream",
     "text": [
      "1 чётное\n"
     ]
    }
   ],
   "source": [
    "i = 1\n",
    "if i // 2 != 0:\n",
    "    print(i, 'нечётное')\n",
    "else:\n",
    "    print(i, 'чётное')"
   ]
  },
  {
   "cell_type": "code",
   "execution_count": 210,
   "id": "83eda52b",
   "metadata": {},
   "outputs": [
    {
     "name": "stdout",
     "output_type": "stream",
     "text": [
      "Пароль не принят\n"
     ]
    }
   ],
   "source": [
    "name = input()\n",
    "name_2 = input()\n",
    "if name == name_2:\n",
    "    print(\"Пароль принят\")\n",
    "else:\n",
    "    print(\"Пароль не принят\")"
   ]
  },
  {
   "cell_type": "code",
   "execution_count": 213,
   "id": "d6afc2a3",
   "metadata": {},
   "outputs": [
    {
     "name": "stdout",
     "output_type": "stream",
     "text": [
      "Чётное\n"
     ]
    }
   ],
   "source": [
    "name = int(input())\n",
    "if name % 2 == 0:\n",
    "    print('Чётное')\n",
    "else:\n",
    "    print('Нечётное')"
   ]
  },
  {
   "cell_type": "code",
   "execution_count": 217,
   "id": "0d631582",
   "metadata": {},
   "outputs": [
    {
     "name": "stdout",
     "output_type": "stream",
     "text": [
      "НЕТ\n"
     ]
    }
   ],
   "source": [
    "n = int(input())\n",
    "\n",
    "a = n // 1000        # первая цифра\n",
    "b = (n // 100) % 10  # вторая цифра\n",
    "c = (n // 10) % 10   # третья цифра\n",
    "d = n % 10           # четвёртая цифра\n",
    "\n",
    "if a + d == b - c:\n",
    "    print(\"ДА\")\n",
    "else:\n",
    "    print(\"НЕТ\")\n"
   ]
  },
  {
   "cell_type": "code",
   "execution_count": 219,
   "id": "94e27944",
   "metadata": {},
   "outputs": [
    {
     "name": "stdout",
     "output_type": "stream",
     "text": [
      "Доступ разрешен\n"
     ]
    }
   ],
   "source": [
    "name = int(input())\n",
    "if name >= 18:\n",
    "    print(\"Доступ разрешен\")\n",
    "else:\n",
    "    print(\"Доступ запрещен\")"
   ]
  },
  {
   "cell_type": "code",
   "execution_count": 224,
   "id": "9e58b28d",
   "metadata": {},
   "outputs": [
    {
     "name": "stdout",
     "output_type": "stream",
     "text": [
      "NO\n"
     ]
    }
   ],
   "source": [
    "a = int(input())\n",
    "b = int(input())\n",
    "c = int(input())\n",
    "\n",
    "if b - a == c - b:\n",
    "    print(\"YES\")\n",
    "else:\n",
    "    print(\"NO\")\n"
   ]
  },
  {
   "cell_type": "code",
   "execution_count": 226,
   "id": "ee88be7c",
   "metadata": {},
   "outputs": [
    {
     "name": "stdout",
     "output_type": "stream",
     "text": [
      "9\n"
     ]
    }
   ],
   "source": [
    "name = int(input())\n",
    "name_2 = int(input())\n",
    "if name > name_2:\n",
    "    print(name_2)\n",
    "else:\n",
    "    print(name)\n"
   ]
  },
  {
   "cell_type": "code",
   "execution_count": 227,
   "id": "ad315b26",
   "metadata": {},
   "outputs": [
    {
     "name": "stdout",
     "output_type": "stream",
     "text": [
      "2\n"
     ]
    }
   ],
   "source": [
    "a = int(input())\n",
    "b = int(input())\n",
    "c = int(input())\n",
    "d = int(input())\n",
    "\n",
    "print(min(a, b, c, d))\n"
   ]
  },
  {
   "cell_type": "code",
   "execution_count": 233,
   "id": "66a68d27",
   "metadata": {},
   "outputs": [
    {
     "name": "stdout",
     "output_type": "stream",
     "text": [
      "старость\n"
     ]
    }
   ],
   "source": [
    "name = int(input())\n",
    "if name <= 13:\n",
    "    print(\"дество\")\n",
    "elif  14 <= name <= 24:\n",
    "    print(\"молодость\")\n",
    "elif 25 <= name <= 59:\n",
    "    print(\"зрелость\")\n",
    "else:\n",
    "    print(\"старость\")"
   ]
  },
  {
   "cell_type": "code",
   "execution_count": 234,
   "id": "700206f2",
   "metadata": {},
   "outputs": [
    {
     "name": "stdout",
     "output_type": "stream",
     "text": [
      "14\n"
     ]
    }
   ],
   "source": [
    "a = int(input())\n",
    "b = int(input())\n",
    "c = int(input())\n",
    "\n",
    "s = 0\n",
    "if a > 0:\n",
    "    s += a\n",
    "if b > 0:\n",
    "    s += b\n",
    "if c > 0:\n",
    "    s += c\n",
    "\n",
    "print(s)\n"
   ]
  },
  {
   "cell_type": "code",
   "execution_count": null,
   "id": "66a45ca3",
   "metadata": {},
   "outputs": [],
   "source": [
    "num = int(input())\n",
    "d3 = num % 10\n",
    "d2 = num % 100 // 10\n",
    "d1 = num // 100\n",
    "if d3 != d2 and d3 != d1 and d2 != d1:\n",
    "    print('Цифры различны')\n",
    "else:\n",
    "    print('Цифры не различны')\n",
    "\n",
    "\n",
    "x = int(input())\n",
    "y = int(input())\n",
    "\n",
    "if x > 0 and y > 0:\n",
    "    print('1 четверть')\n",
    "if x < 0 and y > 0:\n",
    "    print('2 четверть')\n",
    "if x < 0 and y < 0:\n",
    "    print('3 четверть')\n",
    "if x > 0 and y < 0:\n",
    "    print('4 четверть')"
   ]
  },
  {
   "cell_type": "code",
   "execution_count": 235,
   "id": "7efc418a",
   "metadata": {},
   "outputs": [
    {
     "name": "stdout",
     "output_type": "stream",
     "text": [
      "число 34 выиграло\n"
     ]
    }
   ],
   "source": [
    "num1 = 34\n",
    "num2 = 81\n",
    "if num1 // 9 == 0 or num2 % 9 == 0:\n",
    "    print('число', num1, 'выиграло')\n",
    "else:\n",
    "    print('число', num2, 'выиграло')"
   ]
  },
  {
   "cell_type": "code",
   "execution_count": 236,
   "id": "e8f7218b",
   "metadata": {},
   "outputs": [
    {
     "name": "stdout",
     "output_type": "stream",
     "text": [
      "100\n"
     ]
    }
   ],
   "source": [
    "a = int(input())\n",
    "\n",
    "if a >= 2 and a <= 17:\n",
    "    b = 3\n",
    "    p = a * a + b * b\n",
    "else:\n",
    "    b = 5\n",
    "\n",
    "p = (a + b) * (a + b)\n",
    "print(p)\n"
   ]
  },
  {
   "cell_type": "code",
   "execution_count": 237,
   "id": "8519a7f9",
   "metadata": {},
   "outputs": [
    {
     "name": "stdout",
     "output_type": "stream",
     "text": [
      "Принадлежит\n"
     ]
    }
   ],
   "source": [
    "x = int(input())\n",
    "if  -1 <= x <=  17:\n",
    "    print(\"Принадлежит\")\n",
    "else:\n",
    "    print(\"Принадлежит\")"
   ]
  },
  {
   "cell_type": "code",
   "execution_count": 244,
   "id": "3c1f4812",
   "metadata": {},
   "outputs": [
    {
     "name": "stdout",
     "output_type": "stream",
     "text": [
      "Принадлежит\n"
     ]
    }
   ],
   "source": [
    "x = int(input())\n",
    "if x < -3:\n",
    "    print(\"Принадлежит\")\n",
    "elif x > 7:\n",
    "    print(\"Принадлежит\")\n",
    "else:\n",
    "    print(\"Не принадлежит\")"
   ]
  },
  {
   "cell_type": "code",
   "execution_count": 254,
   "id": "9cd3d265",
   "metadata": {},
   "outputs": [
    {
     "name": "stdout",
     "output_type": "stream",
     "text": [
      "NO\n"
     ]
    }
   ],
   "source": [
    "a = int(input())\n",
    "if a % 4 == 0 and a % 100 != 0:\n",
    "    print(\"YES\")\n",
    "elif a % 400 == 0:\n",
    "    print(\"YES\")\n",
    "else:\n",
    "    print(\"NO\")\n"
   ]
  },
  {
   "cell_type": "code",
   "execution_count": 246,
   "id": "71ba3baa",
   "metadata": {},
   "outputs": [
    {
     "name": "stdout",
     "output_type": "stream",
     "text": [
      "Не принадлежит\n"
     ]
    }
   ],
   "source": [
    "name = int(input())\n",
    "if -30 < name < -2:\n",
    "    print(\"Принадлежит\")\n",
    "elif 7 < name < 25:\n",
    "    print(\"Принадлежит\")\n",
    "else:\n",
    "    print(\"Не принадлежит\")"
   ]
  },
  {
   "cell_type": "code",
   "execution_count": 252,
   "id": "5cca98e2",
   "metadata": {},
   "outputs": [
    {
     "name": "stdout",
     "output_type": "stream",
     "text": [
      "NO\n"
     ]
    }
   ],
   "source": [
    "# Ввод года\n",
    "year = int(input())\n",
    "\n",
    "# Проверка условия високосного года\n",
    "if (year % 4 == 0 and year % 100 != 0) or (year % 400 == 0):\n",
    "    print(\"YES\")\n",
    "else:\n",
    "    print(\"NO\")\n"
   ]
  },
  {
   "cell_type": "code",
   "execution_count": null,
   "id": "b2ce36e5",
   "metadata": {},
   "outputs": [],
   "source": [
    "# put your python code here\n",
    "# Ввод координат клеток\n",
    "x1 = int(input())\n",
    "y1 = int(input())\n",
    "x2 = int(input())\n",
    "y2 = int(input())\n",
    "\n",
    "# Проверка условия хода ладьи\n",
    "if  x1\n",
    "    print(\"YES\")\n",
    "else:\n",
    "    print(\"NO\")\n"
   ]
  },
  {
   "cell_type": "code",
   "execution_count": 258,
   "id": "54f07cc4",
   "metadata": {},
   "outputs": [
    {
     "name": "stdout",
     "output_type": "stream",
     "text": [
      "5\n"
     ]
    }
   ],
   "source": [
    "grade = int(input('Введите вашу отметку по 100-балльной системе: '))\n",
    "\n",
    "if grade >= 90:\n",
    "    print(5)\n",
    "else:\n",
    "    if grade >= 80:\n",
    "        print(4)\n",
    "    else:\n",
    "        if grade >= 70: \n",
    "            print(3)\n",
    "        else:\n",
    "            if grade >= 60:\n",
    "                print(2)\n",
    "            else:\n",
    "                print(1)"
   ]
  },
  {
   "cell_type": "code",
   "execution_count": 259,
   "id": "1db76a95",
   "metadata": {},
   "outputs": [
    {
     "name": "stdout",
     "output_type": "stream",
     "text": [
      "4\n"
     ]
    }
   ],
   "source": [
    "grade = int(input('Введите вашу отметку: '))\n",
    "\n",
    "if grade >= 90:\n",
    "    print(5)\n",
    "elif grade >= 80:\n",
    "    print(4)\n",
    "elif grade >= 70:\n",
    "    print(3)\n",
    "elif grade >= 60:\n",
    "    print(2)\n",
    "else:\n",
    "    print(1)"
   ]
  },
  {
   "cell_type": "code",
   "execution_count": 269,
   "id": "27c8172d",
   "metadata": {},
   "outputs": [
    {
     "name": "stdout",
     "output_type": "stream",
     "text": [
      "20\n"
     ]
    }
   ],
   "source": [
    "a = int(input())\n",
    "b = int(input())\n",
    "c = int(input())\n",
    "if a < b < c or a > b > c:\n",
    "    print(b)\n",
    "elif c < a < b or c > a > b:\n",
    "    print(a)\n",
    "else:\n",
    "    print(c)\n"
   ]
  },
  {
   "cell_type": "code",
   "execution_count": null,
   "id": "190ca3b1",
   "metadata": {},
   "outputs": [
    {
     "name": "stdout",
     "output_type": "stream",
     "text": [
      "Первый полусредний вес\n"
     ]
    }
   ],
   "source": [
    "name = int(input())\n",
    "if name < 60:\n",
    "    print(\"Легкий вес\")\n",
    "elif 60 <= name and name < 64:\n",
    "    print(\"Первый полусредний вес\")\n",
    "elif 64 <= name  and name < 69:\n",
    "    print(\"Полусредний вес\")\n",
    "else:\n",
    "    print(\"NO\")"
   ]
  },
  {
   "cell_type": "code",
   "execution_count": null,
   "id": "7a7c4fa3",
   "metadata": {},
   "outputs": [],
   "source": [
    "name = str(input())\n",
    "name_2 = str(input())\n",
    "if name == \"красный\" and name_2 == \"синий\":\n",
    "    print(\"фиолетовый\")\n",
    "elif name == \"красный\" and name_2 == \"желтый\":\n",
    "    print(\"оранжевый\")\n",
    "elif name == \"синий\" and name_2 == \"желтый\":\n",
    "    print(\"зеленый\")\n",
    "else:\n",
    "    print(\"ошиба цвета\")\n"
   ]
  },
  {
   "cell_type": "code",
   "execution_count": 283,
   "id": "2757458c",
   "metadata": {},
   "outputs": [
    {
     "name": "stdout",
     "output_type": "stream",
     "text": [
      "зеленый\n"
     ]
    }
   ],
   "source": [
    "name = int(input())\n",
    "if 1 <= name and name <= 10:\n",
    "    if name % 2 == 0:\n",
    "        print(\"черный\")\n",
    "    else:\n",
    "        print(\"красный\")\n",
    "elif 11 <= name and name <= 18:\n",
    "    if name % 2 == 0:\n",
    "        print(\"красный\")\n",
    "    else:\n",
    "        print(\"черный\")\n",
    "elif 19 <= name and name <= 28:\n",
    "    if name % 2 == 0:\n",
    "        print(\"черный\")\n",
    "    else:\n",
    "        print(\"красный\")\n",
    "elif 29 <= name and name <= 36:\n",
    "    if name % 2 == 0:\n",
    "        print(\"красный\")\n",
    "    else:\n",
    "        print(\"черный\")\n",
    "elif name == 0:\n",
    "    print(\"зеленый\")\n",
    "else:\n",
    "    print(\"ошибка\")"
   ]
  },
  {
   "cell_type": "code",
   "execution_count": null,
   "id": "eb710fb9",
   "metadata": {},
   "outputs": [],
   "source": [
    "# Ввод данных\n",
    "a1 = int(input())\n",
    "b1 = int(input())\n",
    "a2 = int(input())\n",
    "b2 = int(input())\n",
    "\n",
    "# Проверяем, где левый и правый конец пересечения\n",
    "if a1 >= a2:   # левее начинается второй отрезок\n",
    "    left = a1\n",
    "else:          # левее начинается первый отрезок\n",
    "    left = a2\n",
    "\n",
    "if b1 <= b2:   # правее заканчивается второй отрезок\n",
    "    right = b1\n",
    "else:          # правее заканчивается первый отрезок\n",
    "    right = b2\n",
    "\n",
    "# Анализ пересечения\n",
    "if left < right:          # пересечение — отрезок\n",
    "    print(left, right)\n",
    "elif left == right:       # пересечение — точка\n",
    "    print(left)\n",
    "else:                     # пересечения нет\n",
    "    print(\"пустое множество\")\n"
   ]
  },
  {
   "cell_type": "code",
   "execution_count": 284,
   "id": "0bbb5bbc",
   "metadata": {},
   "outputs": [
    {
     "name": "stdout",
     "output_type": "stream",
     "text": [
      "86385.0\n"
     ]
    }
   ],
   "source": [
    "a = float(input())\n",
    "b = float(input())\n",
    "S = 1 / 2 * a * b\n",
    "print(S)"
   ]
  },
  {
   "cell_type": "code",
   "execution_count": 293,
   "id": "1d7cc57f",
   "metadata": {},
   "outputs": [
    {
     "name": "stdout",
     "output_type": "stream",
     "text": [
      "2.0\n"
     ]
    }
   ],
   "source": [
    "S = float(input())\n",
    "b = float(input())\n",
    "a = float(input())\n",
    "V = a + b \n",
    "T = S / V\n",
    "print(T)"
   ]
  },
  {
   "cell_type": "code",
   "execution_count": 300,
   "id": "800051ac",
   "metadata": {},
   "outputs": [
    {
     "name": "stdout",
     "output_type": "stream",
     "text": [
      "ошибка\n"
     ]
    }
   ],
   "source": [
    "x = float(input())\n",
    "if S == x ** -1 == 1 / x:\n",
    "    print(S)\n",
    "else:\n",
    "    print(\"ошибка\")\n"
   ]
  },
  {
   "cell_type": "code",
   "execution_count": 302,
   "id": "34e0eb4c",
   "metadata": {},
   "outputs": [
    {
     "name": "stdout",
     "output_type": "stream",
     "text": [
      "0.4\n"
     ]
    }
   ],
   "source": [
    "# Ввод числа\n",
    "x = float(input())\n",
    "\n",
    "# Проверка и вывод результата\n",
    "if x == 0:\n",
    "    print(\"Обратного числа не существует\")\n",
    "else:\n",
    "    print(1 / x)\n"
   ]
  },
  {
   "cell_type": "code",
   "execution_count": 304,
   "id": "feb6b327",
   "metadata": {},
   "outputs": [
    {
     "name": "stdout",
     "output_type": "stream",
     "text": [
      "232.5277777777778\n"
     ]
    }
   ],
   "source": [
    "\n",
    "F = float(input())\n",
    "\n",
    "T = 5 / 9 * (F - 32)\n",
    "print(T)"
   ]
  },
  {
   "cell_type": "code",
   "execution_count": 308,
   "id": "28bd6be3",
   "metadata": {},
   "outputs": [
    {
     "name": "stdout",
     "output_type": "stream",
     "text": [
      "44457\n"
     ]
    }
   ],
   "source": [
    "name = float(input())\n",
    "if name <= 2:\n",
    "    name_2 = name * 10.5\n",
    "    print(name_2)\n",
    "elif name > 2:\n",
    "    name_2 = 21 + (n-2) * 4\n",
    "    print(name_2)\n",
    "else:\n",
    "    print(\"ошибка\")"
   ]
  },
  {
   "cell_type": "code",
   "execution_count": null,
   "id": "6562b6d2",
   "metadata": {},
   "outputs": [],
   "source": [
    "# Ввод количества собачьих лет\n",
    "n = int(input())\n",
    "\n",
    "# Перевод в человеческие годы\n",
    "if n == 1:\n",
    "    print(10.5)\n",
    "elif n == 2:\n",
    "    print(21)\n",
    "else:\n",
    "    print(21 + (n - 2) * 4)\n"
   ]
  },
  {
   "cell_type": "code",
   "execution_count": 310,
   "id": "d00cb695",
   "metadata": {},
   "outputs": [
    {
     "name": "stdout",
     "output_type": "stream",
     "text": [
      "6\n"
     ]
    }
   ],
   "source": [
    "# Ввод числа\n",
    "x = float(input())\n",
    "\n",
    "# Находим первую цифру после десятичной точки\n",
    "digit = int(x * 10) % 10\n",
    "\n",
    "print(digit)\n"
   ]
  },
  {
   "cell_type": "code",
   "execution_count": 318,
   "id": "72f990d1",
   "metadata": {},
   "outputs": [
    {
     "name": "stdout",
     "output_type": "stream",
     "text": [
      "0.3123\n"
     ]
    }
   ],
   "source": [
    "name = float(input())\n",
    "\n",
    "name_2 = float(name * 1) % 1\n",
    "print(name_2)"
   ]
  },
  {
   "cell_type": "code",
   "execution_count": 322,
   "id": "8ed7e77b",
   "metadata": {},
   "outputs": [
    {
     "name": "stdout",
     "output_type": "stream",
     "text": [
      "10\n",
      "7\n",
      "0\n",
      "17.67\n"
     ]
    }
   ],
   "source": [
    "print(abs(10))\n",
    "print(abs(-7))\n",
    "print(abs(0))\n",
    "print(abs(-(-17.67)))"
   ]
  },
  {
   "cell_type": "code",
   "execution_count": 320,
   "id": "66c30a62",
   "metadata": {},
   "outputs": [
    {
     "name": "stdout",
     "output_type": "stream",
     "text": [
      "12\n",
      "-3\n",
      "9.8\n"
     ]
    }
   ],
   "source": [
    "a = max(3, 8, -3, 12, 9)\n",
    "b = min(3, 8, -3, 12, 9)\n",
    "c = max(3.14, 2.17, 9.8)\n",
    "print(a)\n",
    "print(b)\n",
    "print(c)"
   ]
  },
  {
   "cell_type": "code",
   "execution_count": 324,
   "id": "84fff2cb",
   "metadata": {},
   "outputs": [
    {
     "name": "stdout",
     "output_type": "stream",
     "text": [
      "17\n"
     ]
    }
   ],
   "source": [
    "print(abs(-17))"
   ]
  },
  {
   "cell_type": "code",
   "execution_count": 323,
   "id": "f6681100",
   "metadata": {},
   "outputs": [
    {
     "name": "stdout",
     "output_type": "stream",
     "text": [
      "16\n"
     ]
    }
   ],
   "source": [
    "num = max(1, 3, -5, 7) + min(-3, 6, -8, -1) + abs(-17)\n",
    "print(num)"
   ]
  },
  {
   "cell_type": "code",
   "execution_count": 325,
   "id": "17341260",
   "metadata": {},
   "outputs": [
    {
     "name": "stdout",
     "output_type": "stream",
     "text": [
      "5.0\n",
      "1.0\n"
     ]
    }
   ],
   "source": [
    "name1 = float(input())\n",
    "name2 = float(input())\n",
    "name3 = float(input())\n",
    "name4 = float(input())\n",
    "name5 = float(input())\n",
    "S = max( name1, name2, name3, name4, name5)\n",
    "N = min (name1, name2, name3, name4, name5)\n",
    "print(S)\n",
    "print(N)"
   ]
  },
  {
   "cell_type": "code",
   "execution_count": 327,
   "id": "e6125960",
   "metadata": {},
   "outputs": [
    {
     "name": "stdout",
     "output_type": "stream",
     "text": [
      "139\n",
      "135\n",
      "132\n"
     ]
    }
   ],
   "source": [
    "name = int(input())\n",
    "name_2 = int(input())\n",
    "name_3 = int(input())\n",
    "S = max(name,name_2,name_3)\n",
    "N = min(name,name_2,name_3)\n",
    "T = S + N\n",
    "Q = name + name_2 + name_3\n",
    "L = Q - T \n",
    "print(S)\n",
    "print(L)\n",
    "print(N)"
   ]
  },
  {
   "cell_type": "code",
   "execution_count": null,
   "id": "80da321f",
   "metadata": {},
   "outputs": [],
   "source": [
    "# Ввод числа\n",
    "n = int(input())\n",
    "\n",
    "# Разбиваем число на цифры\n",
    "a = n // 100         # сотни\n",
    "b = (n // 10) % 10   # десятки\n",
    "c = n % 10           # единицы\n",
    "\n",
    "# Список цифр\n",
    "digits = [a, b, c]\n",
    "\n",
    "# Находим max, min и среднюю по величине\n",
    "max_digit = max(digits)\n",
    "min_digit = min(digits)\n",
    "mid_digit = sum(digits) - max_digit - min_digit  # остаётся средняя\n",
    "\n",
    "# Проверка условия\n",
    "if max_digit - min_digit == mid_digit:\n",
    "    print(\"Число интересное\")\n",
    "else:\n",
    "    print(\"Число неинтересное\")\n"
   ]
  },
  {
   "cell_type": "code",
   "execution_count": 329,
   "id": "35043523",
   "metadata": {},
   "outputs": [
    {
     "name": "stdout",
     "output_type": "stream",
     "text": [
      "10\n"
     ]
    }
   ],
   "source": [
    "# Ввод координат\n",
    "p1 = int(input())\n",
    "p2 = int(input())\n",
    "q1 = int(input())\n",
    "q2 = int(input())\n",
    "\n",
    "# Вычисление манхэттенского расстояния\n",
    "distance = abs(p1 - q1) + abs(p2 - q2)\n",
    "\n",
    "# Вывод результата\n",
    "print(distance)\n"
   ]
  },
  {
   "cell_type": "code",
   "execution_count": null,
   "id": "99893470",
   "metadata": {},
   "outputs": [],
   "source": [
    "a1 = float(input())\n",
    "a2 = float(input())\n",
    "a3 = float(input())\n",
    "a4 = float(input())\n",
    "a5 = float(input())\n",
    "\n",
    "# Сумма модулей\n",
    "result = abs(a1) + abs(a2) + abs(a3) + abs(a4) + abs(a5)\n",
    "\n",
    "print(result)\n"
   ]
  },
  {
   "cell_type": "code",
   "execution_count": 347,
   "id": "8134af64",
   "metadata": {},
   "outputs": [
    {
     "name": "stdout",
     "output_type": "stream",
     "text": [
      "60\n"
     ]
    }
   ],
   "source": [
    "s = 13\n",
    "k = -5\n",
    "d = s + 2\n",
    "s = d\n",
    "k = 2 * s\n",
    "print(s + k + d)\n"
   ]
  },
  {
   "cell_type": "code",
   "execution_count": 348,
   "id": "4112cdf5",
   "metadata": {},
   "outputs": [
    {
     "name": "stdout",
     "output_type": "stream",
     "text": [
      "56\n"
     ]
    }
   ],
   "source": [
    "a = 17 // (23 % 7)\n",
    "b = 34 % a * 5 - 29 % 4 * 3\n",
    "print(a * b)"
   ]
  },
  {
   "cell_type": "code",
   "execution_count": 351,
   "id": "4a91f515",
   "metadata": {},
   "outputs": [
    {
     "name": "stdout",
     "output_type": "stream",
     "text": [
      "Квадрат суммы 3 и 2 равен 25\n",
      "Сумма квадратов  3 и 2 равна 13\n"
     ]
    }
   ],
   "source": [
    "a = int(input())\n",
    "b = int(input())\n",
    "S = (a + b) ** 2\n",
    "N = a ** 2 + b ** 2\n",
    "print(\"Квадрат суммы\", a , \"и\", b, \"равен\", S)\n",
    "print(\"Сумма квадратов \", a ,\"и\", b , \"равна\" ,N)\n"
   ]
  },
  {
   "cell_type": "code",
   "execution_count": 352,
   "id": "39bc803c",
   "metadata": {},
   "outputs": [
    {
     "name": "stdout",
     "output_type": "stream",
     "text": [
      "4710194409608608369201743232\n"
     ]
    }
   ],
   "source": [
    "a = int(input())\n",
    "b = int(input())\n",
    "c = int(input())\n",
    "d = int(input())\n",
    "S = a ** b + c ** d \n",
    "print(S)"
   ]
  },
  {
   "cell_type": "code",
   "execution_count": null,
   "id": "7c494858",
   "metadata": {},
   "outputs": [],
   "source": [
    "# Ввод числа\n",
    "n = input()\n",
    "\n",
    "# Формируем выражение и считаем сумму\n",
    "result = int(n) + int(n*2) + int(n*3)\n",
    "\n",
    "# Выводим результат\n",
    "print(result)\n"
   ]
  },
  {
   "cell_type": "code",
   "execution_count": 353,
   "id": "47c76d10",
   "metadata": {},
   "outputs": [
    {
     "name": "stdout",
     "output_type": "stream",
     "text": [
      "6\n",
      "13\n"
     ]
    }
   ],
   "source": [
    "s1 = 'abcdef'\n",
    "length1 = len(s1)               # считаем длину строки из переменной s1\n",
    "length2 = len('Python rocks!')  # считаем длину строкового литерала\n",
    "print(length1)\n",
    "print(length2)"
   ]
  },
  {
   "cell_type": "code",
   "execution_count": 355,
   "id": "064a0e94",
   "metadata": {},
   "outputs": [
    {
     "name": "stdout",
     "output_type": "stream",
     "text": [
      "1777\n",
      "17.77\n"
     ]
    }
   ],
   "source": [
    "num1 = 1777    # целое число\n",
    "num2 = 17.77   # число с плавающей точкой\n",
    "s1 = str(num1) # преобразовали целое число в строку '1777'\n",
    "s2 = str(num2) # преобразовали число с плавающей точкой в строку '17.77'\n",
    "print(s1)\n",
    "print(s2)"
   ]
  },
  {
   "cell_type": "code",
   "execution_count": 356,
   "id": "059c0889",
   "metadata": {},
   "outputs": [
    {
     "name": "stdout",
     "output_type": "stream",
     "text": [
      "abbc\n",
      "bcab\n",
      "abbcbcab!!\n"
     ]
    }
   ],
   "source": [
    "s1 = 'ab' + 'bc'\n",
    "s2 = 'bc' + 'ab'\n",
    "s3 = s1 + s2 + '!!'\n",
    "print(s1)\n",
    "print(s2)\n",
    "print(s3)"
   ]
  },
  {
   "cell_type": "code",
   "execution_count": 357,
   "id": "1de53ec0",
   "metadata": {},
   "outputs": [
    {
     "name": "stdout",
     "output_type": "stream",
     "text": [
      "a*b*c!\n",
      "a*b*c!\n"
     ]
    }
   ],
   "source": [
    "print('a', 'b', 'c', sep='*', end='!')\n",
    "print()  # переход на новую строку\n",
    "print('a' + '*' + 'b' + '*' + 'c' + '!')"
   ]
  },
  {
   "cell_type": "code",
   "execution_count": 358,
   "id": "5d79dfa4",
   "metadata": {},
   "outputs": [
    {
     "name": "stdout",
     "output_type": "stream",
     "text": [
      "HiHiHiHi\n"
     ]
    }
   ],
   "source": [
    "s = 'Hi' * 4\n",
    "print(s)"
   ]
  },
  {
   "cell_type": "code",
   "execution_count": 359,
   "id": "287eb057",
   "metadata": {},
   "outputs": [
    {
     "name": "stdout",
     "output_type": "stream",
     "text": [
      "данетда\n"
     ]
    }
   ],
   "source": [
    "mystr = 'да'\n",
    "mystr = mystr + 'нет'\n",
    "mystr = mystr + 'да'\n",
    "print(mystr)"
   ]
  },
  {
   "cell_type": "code",
   "execution_count": 360,
   "id": "3b538ff4",
   "metadata": {},
   "outputs": [
    {
     "name": "stdout",
     "output_type": "stream",
     "text": [
      "121312141213121\n"
     ]
    }
   ],
   "source": [
    "str1 = '1'\n",
    "str2 = str1 + '2' + str1\n",
    "str3 = str2 + '3' + str2\n",
    "str4 = str3 + '4' + str3\n",
    "print(str4)"
   ]
  },
  {
   "cell_type": "code",
   "execution_count": 361,
   "id": "f4289c52",
   "metadata": {},
   "outputs": [
    {
     "name": "stdout",
     "output_type": "stream",
     "text": [
      "123123123456456789\n"
     ]
    }
   ],
   "source": [
    "mystr = '123' * 3 + '456' * 2 + '789' * 1\n",
    "print(mystr)"
   ]
  },
  {
   "cell_type": "code",
   "execution_count": 371,
   "id": "1d2c4380",
   "metadata": {},
   "outputs": [
    {
     "name": "stdout",
     "output_type": "stream",
     "text": [
      "\"Python is a great language!\", said Fred. \"I don't ever remember having this much fun before.\"\n"
     ]
    }
   ],
   "source": [
    "# Программа для вывода текста с конкатенацией строк\n",
    "\n",
    "part1 = \"\\\"Python is a great language!\\\", \"\n",
    "part2 = \"said Fred. \"\n",
    "part3 = \"\\\"I don't ever remember having this much fun before.\\\"\"\n",
    "\n",
    "print(part1 + part2 + part3)\n"
   ]
  },
  {
   "cell_type": "code",
   "execution_count": 372,
   "id": "2ae30e03",
   "metadata": {},
   "outputs": [
    {
     "name": "stdout",
     "output_type": "stream",
     "text": [
      "Hello dasd qweqw! You have just delved into Python\n"
     ]
    }
   ],
   "source": [
    "s = str(input())\n",
    "name = str(input())\n",
    "print(\"Hello\", s, name + \"!\", \"You have just delved into Python\")"
   ]
  },
  {
   "cell_type": "code",
   "execution_count": 1,
   "id": "f8276e24",
   "metadata": {},
   "outputs": [
    {
     "name": "stdout",
     "output_type": "stream",
     "text": [
      "Футбольная команда qwe имеет длину 3 символов\n"
     ]
    }
   ],
   "source": [
    "# Программа для вывода информации о футбольной команде\n",
    "\n",
    "# Считываем название команды с клавиатуры\n",
    "name = input()\n",
    "\n",
    "# Вычисляем длину названия\n",
    "length = len(name)\n",
    "\n",
    "# Выводим результат в заданном формате\n",
    "print(f\"Футбольная команда {name} имеет длину {length} символов\")"
   ]
  },
  {
   "cell_type": "code",
   "execution_count": null,
   "id": "56c5f89c",
   "metadata": {},
   "outputs": [],
   "source": [
    "name = input()\n",
    "name_2 = input()\n",
    "name_3 = input()\n"
   ]
  },
  {
   "cell_type": "code",
   "execution_count": 6,
   "id": "dd5864ba",
   "metadata": {},
   "outputs": [
    {
     "name": "stdout",
     "output_type": "stream",
     "text": [
      "qwe\n",
      "ttttt\n"
     ]
    }
   ],
   "source": [
    "# Считываем названия трёх городов\n",
    "city1 = input()\n",
    "city2 = input()\n",
    "city3 = input()\n",
    "\n",
    "# Собираем их в список\n",
    "cities = [city1, city2, city3]\n",
    "\n",
    "# Находим самое короткое и самое длинное по длине\n",
    "shortest = min(cities, key=len)\n",
    "longest = max(cities, key=len)\n",
    "\n",
    "# Выводим результаты\n",
    "print(shortest)\n",
    "print(longest)\n"
   ]
  },
  {
   "cell_type": "code",
   "execution_count": null,
   "id": "7e1d4457",
   "metadata": {},
   "outputs": [],
   "source": [
    "# Считываем три строки\n",
    "str1 = input()\n",
    "str2 = input()\n",
    "str3 = input()\n",
    "\n",
    "# Вычисляем длины\n",
    "len1 = len(str1)\n",
    "len2 = len(str2)\n",
    "len3 = len(str3)\n",
    "\n",
    "# Собираем в список и сортируем\n",
    "lengths = sorted([len1, len2, len3])\n",
    "\n",
    "# Проверяем условие арифметической прогрессии\n",
    "if lengths[1] - lengths[0] == lengths[2] - lengths[1]:\n",
    "    print(\"YES\")\n",
    "else:\n",
    "    print(\"NO\")\n"
   ]
  },
  {
   "cell_type": "code",
   "execution_count": 7,
   "id": "8d19dae1",
   "metadata": {},
   "outputs": [
    {
     "name": "stdout",
     "output_type": "stream",
     "text": [
      "[1, 2, 5, 9]\n",
      "[5, 2, 9, 1]\n",
      "[9, 5, 2, 1]\n",
      "['apple', 'banana', 'cherry']\n",
      "['apple', 'banana', 'cherry']\n",
      "[(2, 'a'), (1, 'b'), (3, 'c')]\n"
     ]
    }
   ],
   "source": [
    "# Сортировка списка чисел по возрастанию\n",
    "numbers = [5, 2, 9, 1]\n",
    "print(sorted(numbers))  # [1, 2, 5, 9]\n",
    "\n",
    "# Исходный список не изменился\n",
    "print(numbers)  # [5, 2, 9, 1]\n",
    "\n",
    "# Сортировка по убыванию\n",
    "print(sorted(numbers, reverse=True))  # [9, 5, 2, 1]\n",
    "\n",
    "# Сортировка строк по алфавиту\n",
    "words = ['banana', 'apple', 'cherry']\n",
    "print(sorted(words))  # ['apple', 'banana', 'cherry']\n",
    "\n",
    "# Сортировка строк без учёта регистра\n",
    "print(sorted(words, key=str.lower))  # ['apple', 'banana', 'cherry']\n",
    "\n",
    "# Сортировка списка кортежей по второму элементу\n",
    "pairs = [(1, 'b'), (2, 'a'), (3, 'c')]\n",
    "print(sorted(pairs, key=lambda x: x[1]))  # [(2, 'a'), (1, 'b'), (3, 'c')]\n"
   ]
  },
  {
   "cell_type": "code",
   "execution_count": 14,
   "id": "009a95be",
   "metadata": {},
   "outputs": [],
   "source": [
    "s = input()\n",
    "if s == 'a' or s == 'e' or s == 'i' or s == 'o' or s == 'u':\n",
    "    print('YES')\n",
    "if len(s) == 1 and s in 'aeiou':\n",
    "    print('YES')"
   ]
  },
  {
   "cell_type": "code",
   "execution_count": 15,
   "id": "0f0a8fa9",
   "metadata": {},
   "outputs": [
    {
     "name": "stdout",
     "output_type": "stream",
     "text": [
      "True\n",
      "False\n"
     ]
    }
   ],
   "source": [
    "s = 'Sigma'\n",
    "print('a' in s)\n",
    "print('z' in s)"
   ]
  },
  {
   "cell_type": "code",
   "execution_count": 16,
   "id": "1b4d09be",
   "metadata": {},
   "outputs": [
    {
     "name": "stdout",
     "output_type": "stream",
     "text": [
      "False\n",
      "True\n"
     ]
    }
   ],
   "source": [
    "language1 = 'JavaScript'\n",
    "language2 = 'Java'\n",
    "\n",
    "print(language1 in language2)\n",
    "print(language2 in language1)"
   ]
  },
  {
   "cell_type": "code",
   "execution_count": 17,
   "id": "ef806f51",
   "metadata": {},
   "outputs": [
    {
     "name": "stdout",
     "output_type": "stream",
     "text": [
      "True\n",
      "False\n"
     ]
    }
   ],
   "source": [
    "digits = '0123456789'\n",
    "\n",
    "print('45' in digits)\n",
    "print('09' in digits)"
   ]
  },
  {
   "cell_type": "code",
   "execution_count": 19,
   "id": "70e3e225",
   "metadata": {},
   "outputs": [
    {
     "name": "stdout",
     "output_type": "stream",
     "text": [
      "YES\n"
     ]
    }
   ],
   "source": [
    "name = input()\n",
    "if \"синий\" in name:\n",
    "    print(\"YES\")\n",
    "else:\n",
    "    print(\"NO\")"
   ]
  },
  {
   "cell_type": "code",
   "execution_count": null,
   "id": "ca11446f",
   "metadata": {},
   "outputs": [
    {
     "name": "stdout",
     "output_type": "stream",
     "text": [
      "YES\n"
     ]
    }
   ],
   "source": [
    "name = input()\n",
    "if \"воскресенье\" in name or \"суббота\" in name:\n",
    "    print(\"YES\")\n",
    "else:\n",
    "    print(\"NO\")"
   ]
  },
  {
   "cell_type": "code",
   "execution_count": null,
   "id": "bd09dfd4",
   "metadata": {},
   "outputs": [],
   "source": [
    "name = input()\n",
    "if \"@\" in name and  \".\" in name:\n",
    "    print(\"YES\")\n",
    "else:\n",
    "    print(\"NO\")"
   ]
  },
  {
   "cell_type": "code",
   "execution_count": 22,
   "id": "f61f35ca",
   "metadata": {},
   "outputs": [
    {
     "name": "stdout",
     "output_type": "stream",
     "text": [
      "1.4142135623730951\n",
      "4\n",
      "3\n"
     ]
    }
   ],
   "source": [
    "import math\n",
    "\n",
    "num1 = math.sqrt(2)     # вычисление квадратного корня из двух\n",
    "num2 = math.ceil(3.8)   # округление числа вверх\n",
    "num3 = math.floor(3.8)  # округление числа вниз\n",
    "\n",
    "print(num1)\n",
    "print(num2)\n",
    "print(num3)"
   ]
  },
  {
   "cell_type": "code",
   "execution_count": 24,
   "id": "4c8db817",
   "metadata": {},
   "outputs": [
    {
     "name": "stdout",
     "output_type": "stream",
     "text": [
      "1.4142135623730951\n",
      "4\n",
      "3\n"
     ]
    }
   ],
   "source": [
    "\n",
    "num1 = math.sqrt(2)     # вычисление квадратного корня из двух\n",
    "num2 = math.ceil(3.8)   # округление числа вверх\n",
    "num3 = math.floor(3.8)  # округление числа вниз\n",
    "\n",
    "print(num1)\n",
    "print(num2)\n",
    "print(num3)"
   ]
  },
  {
   "cell_type": "code",
   "execution_count": 411,
   "id": "a61e550d",
   "metadata": {},
   "outputs": [
    {
     "name": "stdout",
     "output_type": "stream",
     "text": [
      "9.219544457292887\n"
     ]
    }
   ],
   "source": [
    "import math\n",
    "\n",
    "# Считываем координаты точек\n",
    "x1 = float(input())\n",
    "y1 = float(input())\n",
    "x2 = float(input())\n",
    "y2 = float(input())\n",
    "\n",
    "# Вычисляем евклидово расстояние\n",
    "distance = math.sqrt((x1 - x2)**2 + (y1 - y2)**2)\n",
    "\n",
    "# Выводим результат\n",
    "print(distance)"
   ]
  },
  {
   "cell_type": "code",
   "execution_count": 29,
   "id": "bd330721",
   "metadata": {},
   "outputs": [
    {
     "name": "stdout",
     "output_type": "stream",
     "text": [
      "4761420.476663722\n",
      "7735.2294316687885\n"
     ]
    }
   ],
   "source": [
    "import math \n",
    "R = float(input())\n",
    "S = math.pi * (R**2)\n",
    "C = math.pi * 2 * R \n",
    "print(S)\n",
    "print(C)"
   ]
  },
  {
   "cell_type": "code",
   "execution_count": null,
   "id": "30cd6306",
   "metadata": {},
   "outputs": [],
   "source": [
    "import math\n",
    "\n",
    "# Считываем числа a и b\n",
    "a = float(input())\n",
    "b = float(input())\n",
    "\n",
    "# Среднее арифметическое\n",
    "arithmetic_mean = (a + b) / 2\n",
    "\n",
    "# Среднее геометрическое\n",
    "geometric_mean = math.sqrt(a * b)\n",
    "\n",
    "# Среднее гармоническое\n",
    "harmonic_mean = (2 * a * b) / (a + b)\n",
    "\n",
    "# Среднее квадратичное\n",
    "quadratic_mean = math.sqrt((a**2 + b**2) / 2)\n",
    "\n",
    "# Выводим результаты\n",
    "print(arithmetic_mean)\n",
    "print(geometric_mean)\n",
    "print(harmonic_mean)\n",
    "print(quadratic_mean)"
   ]
  },
  {
   "cell_type": "code",
   "execution_count": 38,
   "id": "a300d6cb",
   "metadata": {},
   "outputs": [
    {
     "name": "stdout",
     "output_type": "stream",
     "text": [
      "1.6993587371177719\n"
     ]
    }
   ],
   "source": [
    "import math \n",
    "x = float(input())\n",
    "trig = math.radians(x)\n",
    "trigger = math.sin(trig) + math.cos(trig) + math.tan(trig) ** 2\n",
    "\n",
    "print(trigger)"
   ]
  },
  {
   "cell_type": "code",
   "execution_count": 37,
   "id": "c1a06f38",
   "metadata": {},
   "outputs": [
    {
     "name": "stdout",
     "output_type": "stream",
     "text": [
      "1.6993587371177719\n"
     ]
    }
   ],
   "source": [
    "import math\n",
    "\n",
    "# Считываем угол в градусах\n",
    "x = float(input())\n",
    "\n",
    "# Переводим градусы в радианы\n",
    "x_rad = math.radians(x)\n",
    "\n",
    "# Вычисляем тригонометрическое выражение\n",
    "result = math.sin(x_rad) + math.cos(x_rad) + math.tan(x_rad)**2\n",
    "\n",
    "# Выводим результат\n",
    "print(result)"
   ]
  },
  {
   "cell_type": "code",
   "execution_count": 39,
   "id": "36f7242c",
   "metadata": {},
   "outputs": [
    {
     "name": "stdout",
     "output_type": "stream",
     "text": [
      "11\n"
     ]
    }
   ],
   "source": [
    "import math\n",
    "x = float(input())\n",
    "S = math.ceil(x) + math.floor(x)\n",
    "print(S)"
   ]
  },
  {
   "cell_type": "code",
   "execution_count": null,
   "id": "a750dd95",
   "metadata": {},
   "outputs": [],
   "source": [
    "import math\n",
    "\n",
    "# Считываем коэффициенты\n",
    "a = float(input())\n",
    "b = float(input())\n",
    "c = float(input())\n",
    "\n",
    "# Вычисляем дискриминант\n",
    "D = b**2 - 4 * a * c\n",
    "\n",
    "# Анализируем дискриминант\n",
    "if D < 0:\n",
    "    print(\"Нет корней\")\n",
    "elif D == 0:\n",
    "    x = -b / (2 * a)\n",
    "    print(x)\n",
    "else:\n",
    "    x1 = (-b - math.sqrt(D)) / (2 * a)\n",
    "    x2 = (-b + math.sqrt(D)) / (2 * a)\n",
    "    # Выводим корни в порядке возрастания\n",
    "    print(min(x1, x2))\n",
    "    print(max(x1, x2))"
   ]
  },
  {
   "cell_type": "code",
   "execution_count": 42,
   "id": "2e8f63f3",
   "metadata": {},
   "outputs": [
    {
     "name": "stdout",
     "output_type": "stream",
     "text": [
      "7.349057708937917e+16\n"
     ]
    }
   ],
   "source": [
    "import math\n",
    "a = float(input())\n",
    "n = float(input())\n",
    "S = n * (a**2)/ 4 * math.tan(math.pi / n)\n",
    "print(S)"
   ]
  },
  {
   "cell_type": "code",
   "execution_count": 54,
   "id": "86657f2d",
   "metadata": {},
   "outputs": [
    {
     "name": "stdout",
     "output_type": "stream",
     "text": [
      "1.7320508075688779\n"
     ]
    }
   ],
   "source": [
    "import math\n",
    "n = float(input())\n",
    "a = float(input())\n",
    "S = (n * (a**2)) / (4 * math.tan(math.pi / n))\n",
    "print(S)     "
   ]
  },
  {
   "cell_type": "code",
   "execution_count": 56,
   "id": "4ae12c87",
   "metadata": {},
   "outputs": [
    {
     "name": "stdout",
     "output_type": "stream",
     "text": [
      "A\n",
      "B\n",
      "C\n",
      "D\n",
      "C\n",
      "D\n",
      "C\n",
      "D\n",
      "E\n"
     ]
    }
   ],
   "source": [
    "print(\"A\")\n",
    "print(\"B\")\n",
    "\n",
    "for i in range(3):\n",
    "    print(\"C\")\n",
    "    print(\"D\")\n",
    "\n",
    "print(\"E\")\n"
   ]
  },
  {
   "cell_type": "code",
   "execution_count": 57,
   "id": "9044e381",
   "metadata": {},
   "outputs": [
    {
     "name": "stdout",
     "output_type": "stream",
     "text": [
      "Python is awesome!\n",
      "Python is awesome!\n",
      "Python is awesome!\n",
      "Python is awesome!\n",
      "Python is awesome!\n",
      "Python is awesome!\n",
      "Python is awesome!\n",
      "Python is awesome!\n",
      "Python is awesome!\n",
      "Python is awesome!\n"
     ]
    }
   ],
   "source": [
    "for i in range(10):\n",
    "    print(\"Python is awesome!\")"
   ]
  },
  {
   "cell_type": "code",
   "execution_count": 62,
   "id": "7465a783",
   "metadata": {},
   "outputs": [
    {
     "name": "stdout",
     "output_type": "stream",
     "text": [
      "AAA\n",
      "AAA\n",
      "AAA\n",
      "AAA\n",
      "AAA\n",
      "AAA\n",
      "BBB\n",
      "BBB\n",
      "BBB\n",
      "BBB\n",
      "BBB\n",
      "E\n",
      "TTT\n",
      "TTT\n",
      "TTT\n",
      "TTT\n",
      "TTT\n",
      "TTT\n",
      "TTT\n",
      "TTT\n",
      "TTT\n"
     ]
    }
   ],
   "source": [
    "for i in range(6):\n",
    "    print(\"AAA\")\n",
    "for i in range(5):\n",
    "    print(\"BBB\")\n",
    "print(\"E\")\n",
    "for i in range(9):\n",
    "    print(\"TTT\")"
   ]
  },
  {
   "cell_type": "code",
   "execution_count": 64,
   "id": "97d11d3a",
   "metadata": {},
   "outputs": [
    {
     "name": "stdout",
     "output_type": "stream",
     "text": [
      "heh\n",
      "heh\n",
      "heh\n"
     ]
    }
   ],
   "source": [
    "# Считываем предложение\n",
    "sentence = input()\n",
    "\n",
    "# Считываем количество повторений\n",
    "n = int(input())\n",
    "\n",
    "# Повторяем предложение n раз, каждое с новой строки\n",
    "for i in range(n):\n",
    "    print(sentence)"
   ]
  },
  {
   "cell_type": "code",
   "execution_count": 65,
   "id": "01e2046b",
   "metadata": {},
   "outputs": [
    {
     "name": "stdout",
     "output_type": "stream",
     "text": [
      "*******************\n",
      "*******************\n",
      "*******************\n",
      "*******************\n"
     ]
    }
   ],
   "source": [
    "# Считываем высоту прямоугольника\n",
    "n = int(input())\n",
    "\n",
    "# Создаем строку из 19 звездочек\n",
    "star_line = '*' * 19\n",
    "\n",
    "# Печатаем n строк\n",
    "for i in range(n):\n",
    "    print(star_line)"
   ]
  },
  {
   "cell_type": "code",
   "execution_count": 66,
   "id": "698e68fa",
   "metadata": {},
   "outputs": [
    {
     "name": "stdout",
     "output_type": "stream",
     "text": [
      "0 -- Привет\n",
      "1 -- Привет\n",
      "2 -- Привет\n",
      "3 -- Привет\n",
      "4 -- Привет\n",
      "5 -- Привет\n",
      "6 -- Привет\n",
      "7 -- Привет\n",
      "8 -- Привет\n",
      "9 -- Привет\n"
     ]
    }
   ],
   "source": [
    "for i in range(10):\n",
    "    print(i, '-- Привет')"
   ]
  },
  {
   "cell_type": "code",
   "execution_count": 68,
   "id": "69e59a1f",
   "metadata": {},
   "outputs": [
    {
     "name": "stdout",
     "output_type": "stream",
     "text": [
      "0\n",
      "1\n",
      "2\n",
      "3\n",
      "4\n"
     ]
    }
   ],
   "source": [
    "for i in range(5):\n",
    "    print(i)"
   ]
  },
  {
   "cell_type": "code",
   "execution_count": 69,
   "id": "39030e2a",
   "metadata": {},
   "outputs": [
    {
     "name": "stdout",
     "output_type": "stream",
     "text": [
      "1\n",
      "2\n",
      "3\n",
      "4\n",
      "5\n"
     ]
    }
   ],
   "source": [
    "for i in range(5):\n",
    "    print(i + 1)"
   ]
  },
  {
   "cell_type": "code",
   "execution_count": 71,
   "id": "e4133844",
   "metadata": {},
   "outputs": [
    {
     "name": "stdout",
     "output_type": "stream",
     "text": [
      "0 name\n",
      "1 name\n",
      "2 name\n",
      "3 name\n",
      "4 name\n",
      "5 name\n",
      "6 name\n",
      "7 name\n",
      "8 name\n",
      "9 name\n"
     ]
    }
   ],
   "source": [
    "name = str(input())\n",
    "for i in range(10):\n",
    "    print(i, name)"
   ]
  },
  {
   "cell_type": "code",
   "execution_count": 74,
   "id": "4b3b666c",
   "metadata": {},
   "outputs": [
    {
     "name": "stdout",
     "output_type": "stream",
     "text": [
      "0 0\n",
      "1 1\n",
      "2 4\n",
      "3 9\n",
      "4 16\n",
      "5 25\n",
      "6 36\n",
      "7 49\n",
      "8 64\n",
      "9 81\n"
     ]
    }
   ],
   "source": [
    "name = int(input())\n",
    "for i in range(name + 1): \n",
    "    print(i, i*i)"
   ]
  },
  {
   "cell_type": "code",
   "execution_count": 72,
   "id": "b0b0cac1",
   "metadata": {},
   "outputs": [
    {
     "name": "stdout",
     "output_type": "stream",
     "text": [
      "Квадрат числа 0 равен 0\n",
      "Квадрат числа 1 равен 1\n",
      "Квадрат числа 2 равен 4\n",
      "Квадрат числа 3 равен 9\n",
      "Квадрат числа 4 равен 16\n",
      "Квадрат числа 5 равен 25\n",
      "Квадрат числа 6 равен 36\n",
      "Квадрат числа 7 равен 49\n",
      "Квадрат числа 8 равен 64\n",
      "Квадрат числа 9 равен 81\n"
     ]
    }
   ],
   "source": [
    "n = int(input())\n",
    "for i in range(n + 1):\n",
    "    print(\"Квадрат числа\", i, \"равен\", i * i)"
   ]
  },
  {
   "cell_type": "code",
   "execution_count": 81,
   "id": "8f023035",
   "metadata": {},
   "outputs": [
    {
     "name": "stdout",
     "output_type": "stream",
     "text": [
      "***\n",
      "**\n",
      "*\n"
     ]
    }
   ],
   "source": [
    "n = int(input())\n",
    "for i in range(n, 0, -1):\n",
    "        print(\"*\" * i)"
   ]
  },
  {
   "cell_type": "code",
   "execution_count": 80,
   "id": "a442d158",
   "metadata": {},
   "outputs": [
    {
     "name": "stdout",
     "output_type": "stream",
     "text": [
      "***\n",
      "**\n",
      "*\n"
     ]
    }
   ],
   "source": [
    "# Считываем катет треугольника\n",
    "n = int(input())\n",
    "\n",
    "# Выводим треугольник\n",
    "for i in range(n, 0, -1):\n",
    "    print('*' * i)"
   ]
  },
  {
   "cell_type": "code",
   "execution_count": 83,
   "id": "c9c692c6",
   "metadata": {},
   "outputs": [
    {
     "name": "stdout",
     "output_type": "stream",
     "text": [
      "1 10\n",
      "2 15\n",
      "3 22\n",
      "4 34\n",
      "5 51\n",
      "6 76\n"
     ]
    }
   ],
   "source": [
    "# Ввод данных\n",
    "m = int(input())  # стартовое количество организмов\n",
    "p = int(input())  # среднесуточное увеличение в %\n",
    "n = int(input())  # количество дней\n",
    "\n",
    "# Перебираем каждый день и рассчитываем популяцию\n",
    "for day in range(1, n + 1):\n",
    "    # Расчет популяции на текущий день\n",
    "    population = m * (1 + p / 100) ** (day - 1)\n",
    "    # Выводим номер дня и размер популяции, округляя до целого числа\n",
    "    print(day, round(population))"
   ]
  },
  {
   "cell_type": "code",
   "execution_count": 89,
   "id": "ecf00585",
   "metadata": {},
   "outputs": [
    {
     "name": "stdout",
     "output_type": "stream",
     "text": [
      "3\n",
      "2\n",
      "1\n"
     ]
    }
   ],
   "source": [
    "name = int(input())\n",
    "name_2 = name % 10\n",
    "name_3 = (name //10) % 10\n",
    "name_4 = name // 100\n",
    "S = int(name_2 + name_3 + name_4)\n",
    "P = int(name_2 * name_3 * name_4)\n",
    "print(name_2)\n",
    "print(name_3)\n",
    "print(name_4)"
   ]
  },
  {
   "cell_type": "code",
   "execution_count": 95,
   "id": "3e9fed82",
   "metadata": {},
   "outputs": [
    {
     "name": "stdout",
     "output_type": "stream",
     "text": [
      "10\n",
      "8\n",
      "6\n",
      "4\n",
      "2\n"
     ]
    }
   ],
   "source": [
    "for i in range(10,0,-2):\n",
    "    print(i)"
   ]
  },
  {
   "cell_type": "code",
   "execution_count": 92,
   "id": "be7994e0",
   "metadata": {},
   "outputs": [
    {
     "name": "stdout",
     "output_type": "stream",
     "text": [
      "5 4 3 2 1 Взлетаем!!!\n"
     ]
    }
   ],
   "source": [
    "for i in range(5, 0, -1):\n",
    "    print(i, end=' ')\n",
    "print('Взлетаем!!!')"
   ]
  },
  {
   "cell_type": "code",
   "execution_count": null,
   "id": "4a10a2eb",
   "metadata": {},
   "outputs": [],
   "source": [
    "#range(10)\t0, 1, 2, 3, 4, 5, 6, 7, 8, 9\n",
    "#range(1, 10)\t1, 2, 3, 4, 5, 6, 7, 8, 9\n",
    "#range(3, 7)\t3, 4, 5, 6\n",
    "#range(7, 3)\tпустая последовательность\n",
    "#range(2, 15, 3)\t2, 5, 8, 11, 14\n",
    "#range(9, 2, -1)\t9, 8, 7, 6, 5, 4, 3\n",
    "#range(3, 10, -2)\tпустая последовательность\n"
   ]
  },
  {
   "cell_type": "code",
   "execution_count": 96,
   "id": "f3e81963",
   "metadata": {},
   "outputs": [
    {
     "name": "stdout",
     "output_type": "stream",
     "text": [
      "Python rocks!\n",
      "Python rocks!\n",
      "Python rocks!\n",
      "Python rocks!\n",
      "Python rocks!\n"
     ]
    }
   ],
   "source": [
    "for _ in range(1, 6):\n",
    "    print('Python rocks!')"
   ]
  },
  {
   "cell_type": "code",
   "execution_count": 101,
   "id": "da966114",
   "metadata": {},
   "outputs": [
    {
     "name": "stdout",
     "output_type": "stream",
     "text": [
      "1\n",
      "2\n",
      "3\n",
      "4\n",
      "5\n",
      "6\n",
      "7\n",
      "8\n",
      "9\n"
     ]
    }
   ],
   "source": [
    "n = int(input())\n",
    "m = int(input())\n",
    "for i in range(m,n+1):\n",
    "    print(i)"
   ]
  },
  {
   "cell_type": "code",
   "execution_count": 104,
   "id": "369a0887",
   "metadata": {},
   "outputs": [
    {
     "name": "stdout",
     "output_type": "stream",
     "text": [
      "100\n"
     ]
    }
   ],
   "source": [
    "m = int(input())\n",
    "n = int(input())\n",
    "\n",
    "if m < n:\n",
    "    # Выводим числа от m до n включительно в порядке возрастания\n",
    "    for i in range(m, n + 1):\n",
    "        print(i)\n",
    "else:\n",
    "    # Выводим числа от m до n включительно в порядке убывания\n",
    "    for i in range(m, n - 1, -1):\n",
    "        print(i)"
   ]
  },
  {
   "cell_type": "code",
   "execution_count": null,
   "id": "53130097",
   "metadata": {},
   "outputs": [],
   "source": [
    "m = int(input())\n",
    "n = int(input())\n",
    "\n",
    "for i in range(m, n - 1, ):\n",
    "    if i % 2 != 0:  # проверяем, является ли число нечётным\n",
    "        print(i)"
   ]
  },
  {
   "cell_type": "code",
   "execution_count": 114,
   "id": "dc3d5221",
   "metadata": {},
   "outputs": [
    {
     "name": "stdout",
     "output_type": "stream",
     "text": [
      "9\n",
      "15\n",
      "17\n",
      "19\n"
     ]
    }
   ],
   "source": [
    "m = int(input())\n",
    "n = int(input())\n",
    "\n",
    "for i in range(m, n + 1):  # перебираем все числа от m до n включительно\n",
    "    if i % 17 == 0 or i % 10 == 9 or i % 15 == 0:\n",
    "        print(i)\n"
   ]
  },
  {
   "cell_type": "code",
   "execution_count": 117,
   "id": "5ebe67ca",
   "metadata": {},
   "outputs": [
    {
     "name": "stdout",
     "output_type": "stream",
     "text": [
      "5 x 1 = 5\n",
      "5 x 2 = 10\n",
      "5 x 3 = 15\n",
      "5 x 4 = 20\n",
      "5 x 5 = 25\n",
      "5 x 6 = 30\n",
      "5 x 7 = 35\n",
      "5 x 8 = 40\n",
      "5 x 9 = 45\n",
      "5 x 10 = 50\n"
     ]
    }
   ],
   "source": [
    "n = int(input())\n",
    "\n",
    "for i in range(1, 11):\n",
    "    print(f\"{n} x {i} = {n * i}\")"
   ]
  },
  {
   "cell_type": "code",
   "execution_count": 119,
   "id": "bab43eb1",
   "metadata": {},
   "outputs": [
    {
     "name": "stdout",
     "output_type": "stream",
     "text": [
      "5 x 1 = 5\n",
      "5 x 2 = 10\n",
      "5 x 3 = 15\n",
      "5 x 4 = 20\n",
      "5 x 5 = 25\n",
      "5 x 6 = 30\n",
      "5 x 7 = 35\n",
      "5 x 8 = 40\n",
      "5 x 9 = 45\n",
      "5 x 10 = 50\n"
     ]
    }
   ],
   "source": [
    "n = int(input())\n",
    "for i in range(1,11):\n",
    "    print(f\"{n} x {i} = {n * i}\")"
   ]
  },
  {
   "cell_type": "code",
   "execution_count": 122,
   "id": "de14aa6f",
   "metadata": {},
   "outputs": [
    {
     "name": "stdout",
     "output_type": "stream",
     "text": [
      "Было введено 10 чисел, больших 10.\n"
     ]
    }
   ],
   "source": [
    "counter = 0\n",
    "for _ in range(10):\n",
    "    num = int(input())11\n",
    "    \n",
    "    if num > 10:\n",
    "        counter = counter + 1\n",
    "\n",
    "print('Было введено', counter, 'чисел, больших 10.')"
   ]
  },
  {
   "cell_type": "code",
   "execution_count": 126,
   "id": "90598eea",
   "metadata": {},
   "outputs": [
    {
     "name": "stdout",
     "output_type": "stream",
     "text": [
      "Было введено 6 чисел, больших 10.\n",
      "Было введено 0 нулей.\n"
     ]
    }
   ],
   "source": [
    "counter1 = 0\n",
    "counter2 = 0\n",
    "for _ in range(10):\n",
    "    num = int(input())\n",
    "    if num > 10:\n",
    "        counter1 = counter1 + 1\n",
    "    if num == 0:\n",
    "        counter2 = counter2 + 1\n",
    "\n",
    "print('Было введено', counter1, 'чисел, больших 10.')\n",
    "print('Было введено', counter2, 'нулей.' )"
   ]
  },
  {
   "cell_type": "code",
   "execution_count": 127,
   "id": "8c4caeb6",
   "metadata": {},
   "outputs": [
    {
     "name": "stdout",
     "output_type": "stream",
     "text": [
      "20\n"
     ]
    }
   ],
   "source": [
    "counter = 0\n",
    "for i in range(1, 101):\n",
    "    if i**2 % 10 == 4:\n",
    "        counter = counter + 1\n",
    "\n",
    "print(counter)"
   ]
  },
  {
   "cell_type": "code",
   "execution_count": 129,
   "id": "aae209ee",
   "metadata": {},
   "outputs": [
    {
     "name": "stdout",
     "output_type": "stream",
     "text": [
      "Сумма чисел больших 10 равна 488\n"
     ]
    }
   ],
   "source": [
    "total = 0\n",
    "for _ in range(10):\n",
    "    num = int(input())\n",
    "    if num > 10:\n",
    "        total = total + num\n",
    "\n",
    "print('Сумма чисел больших 10 равна',  total)"
   ]
  },
  {
   "cell_type": "code",
   "execution_count": null,
   "id": "be6b4e66",
   "metadata": {},
   "outputs": [],
   "source": [
    "total = 0\n",
    "for i in range(1, 101):\n",
    "    total = total + i\n",
    "\n",
    "print('Сумма равна', total)"
   ]
  },
  {
   "cell_type": "code",
   "execution_count": 130,
   "id": "27324c4b",
   "metadata": {},
   "outputs": [
    {
     "name": "stdout",
     "output_type": "stream",
     "text": [
      "Среднее значение равно 33.5\n"
     ]
    }
   ],
   "source": [
    "total = 0\n",
    "for _ in range(10):\n",
    "    num = int(input())\n",
    "    total = total + num\n",
    "\n",
    "average = total / 10\n",
    "print('Среднее значение равно', average)"
   ]
  },
  {
   "cell_type": "code",
   "execution_count": null,
   "id": "5839fcc4",
   "metadata": {},
   "outputs": [
    {
     "name": "stdout",
     "output_type": "stream",
     "text": [
      "123\n"
     ]
    }
   ],
   "source": [
    "n = input()\n",
    "s = int(n) + int(n*2) + int(n*3)\n",
    "print(s)\n",
    "a =1\n",
    "a == 1 "
   ]
  },
  {
   "cell_type": "code",
   "execution_count": 138,
   "id": "ef34e5f7",
   "metadata": {},
   "outputs": [
    {
     "name": "stdout",
     "output_type": "stream",
     "text": [
      "Это единица, она не простая и не составная\n"
     ]
    }
   ],
   "source": [
    "num = int(input())\n",
    "flag = True\n",
    "\n",
    "for i in range(2, num):\n",
    "    if num % i == 0:  #  если исходное число делится на какое-либо отличное от 1 и самого себя\n",
    "        flag = False\n",
    "\n",
    "if num == 1:\n",
    "    print('Это единица, она не простая и не составная') \n",
    "elif flag == True:\n",
    "    print('Число простое')\n",
    "else:\n",
    "    print('Число составное')"
   ]
  },
  {
   "cell_type": "code",
   "execution_count": 139,
   "id": "2b88b361",
   "metadata": {},
   "outputs": [
    {
     "name": "stdout",
     "output_type": "stream",
     "text": [
      "Наибольшее число равно 11\n"
     ]
    }
   ],
   "source": [
    "largest = 0\n",
    "for _ in range(10):\n",
    "    num = int(input())    \n",
    "    if num > largest:\n",
    "        largest = num\n",
    "\n",
    "print('Наибольшее число равно', largest) "
   ]
  },
  {
   "cell_type": "code",
   "execution_count": 141,
   "id": "2893a60f",
   "metadata": {},
   "outputs": [
    {
     "name": "stdout",
     "output_type": "stream",
     "text": [
      "100\n"
     ]
    }
   ],
   "source": [
    "num1 = 4\n",
    "num2 = 6\n",
    "num1 += num2\n",
    "num1 *= num1\n",
    "print(num1)"
   ]
  },
  {
   "cell_type": "code",
   "execution_count": 142,
   "id": "fc4b0889",
   "metadata": {},
   "outputs": [
    {
     "name": "stdout",
     "output_type": "stream",
     "text": [
      "15\n"
     ]
    }
   ],
   "source": [
    "total = 0\n",
    "for i in range(1, 6):\n",
    "    total += i\n",
    "print(total)"
   ]
  },
  {
   "cell_type": "code",
   "execution_count": 143,
   "id": "d5115794",
   "metadata": {},
   "outputs": [
    {
     "name": "stdout",
     "output_type": "stream",
     "text": [
      "1361015"
     ]
    }
   ],
   "source": [
    "total = 0\n",
    "for i in range(1, 6):\n",
    "    total += i\n",
    "    print(total, end='')"
   ]
  },
  {
   "cell_type": "code",
   "execution_count": 144,
   "id": "c222305b",
   "metadata": {},
   "outputs": [
    {
     "name": "stdout",
     "output_type": "stream",
     "text": [
      "2\n"
     ]
    }
   ],
   "source": [
    "a = int(input())\n",
    "b = int(input())\n",
    "\n",
    "count = 0\n",
    "\n",
    "for i in range(a, b + 1):\n",
    "    cube = i ** 3  # вычисляем куб числа\n",
    "    last_digit = cube % 10  # получаем последнюю цифру куба\n",
    "    \n",
    "    if last_digit == 4 or last_digit == 9:\n",
    "        count += 1\n",
    "\n",
    "print(count)"
   ]
  },
  {
   "cell_type": "code",
   "execution_count": 145,
   "id": "aed2f969",
   "metadata": {},
   "outputs": [
    {
     "name": "stdout",
     "output_type": "stream",
     "text": [
      "5\n"
     ]
    }
   ],
   "source": [
    "n = int(input())  # Читаем количество чисел\n",
    "total = 0  # Инициализируем сумму\n",
    "\n",
    "# Читаем n чисел и суммируем их\n",
    "for _ in range(n):\n",
    "    num = int(input())\n",
    "    total += num\n",
    "\n",
    "print(total)  # Выводим сумму"
   ]
  },
  {
   "cell_type": "code",
   "execution_count": null,
   "id": "882a2e03",
   "metadata": {},
   "outputs": [],
   "source": [
    "import math\n",
    "\n",
    "n = int(input())\n",
    "\n",
    "# Вычисляем сумму гармонического ряда: 1 + 1/2 + 1/3 + ... + 1/n\n",
    "harmonic_sum = 0\n",
    "for i in range(1, n + 1):\n",
    "    harmonic_sum += 1 / i\n",
    "\n",
    "# Вычисляем натуральный логарифм ln(n)\n",
    "log_n = math.log(n)\n",
    "\n",
    "# Вычисляем результат\n",
    "result = harmonic_sum - log_n\n",
    "\n",
    "print(result)"
   ]
  },
  {
   "cell_type": "code",
   "execution_count": null,
   "id": "6d57e9e4",
   "metadata": {},
   "outputs": [],
   "source": [
    "import math\n",
    "\n",
    "n = int(input())\n",
    "harmonic_sum = sum(1/i for i in range(1, n + 1))\n",
    "result = harmonic_sum - math.log(n)\n",
    "print(result)"
   ]
  },
  {
   "cell_type": "code",
   "execution_count": null,
   "id": "686e0db0",
   "metadata": {},
   "outputs": [],
   "source": [
    "n = int(input())\n",
    "\n",
    "total = 0\n",
    "\n",
    "for i in range(1, n + 1):\n",
    "    square = i ** 2  # вычисляем квадрат числа\n",
    "    last_digit = square % 10  # получаем последнюю цифру квадрата\n",
    "    \n",
    "    if last_digit == 2 or last_digit == 5 or last_digit == 8:\n",
    "        total += i\n",
    "\n",
    "print(total)"
   ]
  },
  {
   "cell_type": "code",
   "execution_count": null,
   "id": "ab089097",
   "metadata": {},
   "outputs": [],
   "source": [
    "n = int(input())\n",
    "\n",
    "factorial = 1\n",
    "for i in range(1, n + 1):\n",
    "    factorial *= i\n",
    "\n",
    "print(factorial)"
   ]
  },
  {
   "cell_type": "code",
   "execution_count": null,
   "id": "fd35a989",
   "metadata": {},
   "outputs": [],
   "source": [
    "import math\n",
    "\n",
    "n = int(input())\n",
    "factorial = math.factorial(n)\n",
    "print(factorial)"
   ]
  },
  {
   "cell_type": "code",
   "execution_count": 148,
   "id": "6a83f13a",
   "metadata": {},
   "outputs": [
    {
     "name": "stdout",
     "output_type": "stream",
     "text": [
      "11\n"
     ]
    }
   ],
   "source": [
    "\n",
    "total = 1\n",
    "for i in range(10):\n",
    "    num = int(input())\n",
    "    if num != 0:\n",
    "        total *= num\n",
    "print(total)"
   ]
  },
  {
   "cell_type": "code",
   "execution_count": 151,
   "id": "6bbc059c",
   "metadata": {},
   "outputs": [
    {
     "name": "stdout",
     "output_type": "stream",
     "text": [
      "18\n"
     ]
    }
   ],
   "source": [
    "total = 0\n",
    "n = int(input())\n",
    "for i in range(1,n + 1):\n",
    "    if n % i == 0:\n",
    "        total += i\n",
    "print(total)"
   ]
  },
  {
   "cell_type": "code",
   "execution_count": null,
   "id": "8cf55f20",
   "metadata": {},
   "outputs": [],
   "source": [
    "n = int(input())\n",
    "total = 0\n",
    "\n",
    "for i in range(1, n + 1):\n",
    "    if n % i == 0:  # если n делится на i без остатка\n",
    "        total += i"
   ]
  },
  {
   "cell_type": "code",
   "execution_count": null,
   "id": "ac54bc59",
   "metadata": {},
   "outputs": [
    {
     "name": "stdout",
     "output_type": "stream",
     "text": [
      "YES\n"
     ]
    }
   ],
   "source": [
    "all_even = True  # Флаг, предполагаем что все числа чётные\n",
    "\n",
    "for _ in range(10):\n",
    "    num = int(input())\n",
    "    if num % 2 != 0:  # Если число нечётное\n",
    "        all_even = False\n",
    "\n",
    "if all_even:\n",
    "    print(\"YES\")\n",
    "else:\n",
    "    print(\"NO\")"
   ]
  },
  {
   "cell_type": "code",
   "execution_count": 155,
   "id": "55afb79c",
   "metadata": {},
   "outputs": [
    {
     "name": "stdout",
     "output_type": "stream",
     "text": [
      "3\n"
     ]
    }
   ],
   "source": [
    "n = int(input())\n",
    "total = 0\n",
    "\n",
    "for i in range(1, n + 1):\n",
    "    if i % 2 == 1:  # нечётные числа - плюс\n",
    "        total += i\n",
    "    else:  # чётные числа - минус\n",
    "        total -= i\n",
    "\n",
    "print(total)"
   ]
  },
  {
   "cell_type": "code",
   "execution_count": null,
   "id": "588585e6",
   "metadata": {},
   "outputs": [],
   "source": [
    "xn = int(input())\n",
    "\n",
    "# Считываем первые два числа\n",
    "first = int(input())\n",
    "second = int(input())\n",
    "\n",
    "# Устанавливаем наибольшее и второе наибольшее\n",
    "if first > second:\n",
    "    max1, max2 = first, second\n",
    "else:\n",
    "    max1, max2 = second, first\n",
    "\n",
    "# Обрабатываем остальные n-2 чисел\n",
    "for _ in range(n - 2):\n",
    "    num = int(input())\n",
    "    if num > max1:\n",
    "        max2 = max1  # старый максимум становится вторым\n",
    "        max1 = num   # новый максимум\n",
    "    elif num > max2:\n",
    "        max2 = num   # новое второе наибольшее\n",
    "\n",
    "print(max1)\n",
    "print(max2)"
   ]
  },
  {
   "cell_type": "code",
   "execution_count": 156,
   "id": "a69dc5b1",
   "metadata": {},
   "outputs": [
    {
     "name": "stdout",
     "output_type": "stream",
     "text": [
      "Определяем местоположение...\n",
      "\n",
      "✅ Ваше местоположение:\n",
      "🏙️  Город: Khimki\n",
      "🏛️  Регион: Moscow Oblast\n",
      "🇷🇺 Страна: RU\n",
      "🌐 IP-адрес: 62.217.191.203\n",
      "📍 Координаты: 55.9001,37.4285\n"
     ]
    }
   ],
   "source": [
    "import urllib.request\n",
    "import ssl\n",
    "import json\n",
    "\n",
    "# Отключаем проверку SSL сертификата\n",
    "ssl_context = ssl.create_default_context()\n",
    "ssl_context.check_hostname = False\n",
    "ssl_context.verify_mode = ssl.CERT_NONE\n",
    "\n",
    "def get_location_fixed():\n",
    "    print(\"Определяем местоположение...\\n\")\n",
    "    \n",
    "    try:\n",
    "        # Используем контекст без проверки SSL\n",
    "        with urllib.request.urlopen('https://ipinfo.io/json', context=ssl_context) as response:\n",
    "            data = json.loads(response.read().decode())\n",
    "            \n",
    "            print(\"✅ Ваше местоположение:\")\n",
    "            print(f\"🏙️  Город: {data.get('city', 'Не определен')}\")\n",
    "            print(f\"🏛️  Регион: {data.get('region', 'Не определен')}\")\n",
    "            print(f\"🇷🇺 Страна: {data.get('country', 'Не определена')}\")\n",
    "            print(f\"🌐 IP-адрес: {data.get('ip', 'Не определен')}\")\n",
    "            \n",
    "            if 'loc' in data:\n",
    "                print(f\"📍 Координаты: {data['loc']}\")\n",
    "                \n",
    "    except Exception as e:\n",
    "        print(f\"❌ Ошибка: {e}\")\n",
    "\n",
    "get_location_fixed()"
   ]
  },
  {
   "cell_type": "code",
   "execution_count": 157,
   "id": "68eef80f",
   "metadata": {},
   "outputs": [
    {
     "name": "stdout",
     "output_type": "stream",
     "text": [
      "Город: Moscow\n",
      "Страна: Russia\n",
      "Провайдер: Lovitel Ltd BB\n"
     ]
    }
   ],
   "source": [
    "import urllib.request\n",
    "import json\n",
    "\n",
    "try:\n",
    "    with urllib.request.urlopen('http://ip-api.com/json/?fields=city,country,isp') as response:\n",
    "        data = json.loads(response.read().decode())\n",
    "        print(f\"Город: {data.get('city')}\")\n",
    "        print(f\"Страна: {data.get('country')}\")\n",
    "        print(f\"Провайдер: {data.get('isp')}\")\n",
    "except:\n",
    "    print(\"Не удалось получить данные\")"
   ]
  },
  {
   "cell_type": "code",
   "execution_count": 158,
   "id": "73564a65",
   "metadata": {},
   "outputs": [
    {
     "name": "stdout",
     "output_type": "stream",
     "text": [
      "\n",
      "📊 Детальная информация:\n",
      "📍 Город: Moscow\n",
      "🏛️  Регион: Moscow\n",
      "🇷🇺 Страна: Russia\n",
      "📡 Провайдер: Lovitel Ltd BB\n",
      "🏢 Организация: Lovitel LLC\n",
      "🌐 Временная зона: Europe/Moscow\n"
     ]
    }
   ],
   "source": [
    "def get_detailed_info():\n",
    "    try:\n",
    "        with urllib.request.urlopen('http://ip-api.com/json/?fields=66846719') as response:\n",
    "            data = json.loads(response.read().decode())\n",
    "            print(\"\\n📊 Детальная информация:\")\n",
    "            print(f\"📍 Город: {data.get('city')}\")\n",
    "            print(f\"🏛️  Регион: {data.get('regionName')}\")\n",
    "            print(f\"🇷🇺 Страна: {data.get('country')}\")\n",
    "            print(f\"📡 Провайдер: {data.get('isp')}\")\n",
    "            print(f\"🏢 Организация: {data.get('org')}\")\n",
    "            print(f\"🌐 Временная зона: {data.get('timezone')}\")\n",
    "            \n",
    "    except Exception as e:\n",
    "        print(f\"Ошибка: {e}\")\n",
    "\n",
    "get_detailed_info()"
   ]
  },
  {
   "cell_type": "code",
   "execution_count": 159,
   "id": "8bceca13",
   "metadata": {},
   "outputs": [
    {
     "name": "stdout",
     "output_type": "stream",
     "text": [
      "\n",
      "--- Сервис 1 ---\n",
      "Город: Moscow\n",
      "Страна: Russia\n",
      "Провайдер: Lovitel Ltd BB\n",
      "\n",
      "--- Сервис 2 ---\n",
      "Город: Khimki\n",
      "Страна: RU\n",
      "Организация: AS41275 Lovitel LLC\n",
      "\n",
      "--- Сервис 3 ---\n"
     ]
    }
   ],
   "source": [
    "import urllib.request\n",
    "import json\n",
    "\n",
    "def check_multiple_services():\n",
    "    services = [\n",
    "        'http://ip-api.com/json/',\n",
    "        'http://ipinfo.io/json',\n",
    "        'http://api.ipstack.com/check?access_key=demo'  # демо-ключ\n",
    "    ]\n",
    "    \n",
    "    for i, service in enumerate(services, 1):\n",
    "        try:\n",
    "            with urllib.request.urlopen(service) as response:\n",
    "                data = json.loads(response.read().decode())\n",
    "                print(f\"\\n--- Сервис {i} ---\")\n",
    "                \n",
    "                if service == 'http://ip-api.com/json/':\n",
    "                    print(f\"Город: {data.get('city')}\")\n",
    "                    print(f\"Страна: {data.get('country')}\")\n",
    "                    print(f\"Провайдер: {data.get('isp')}\")\n",
    "                    \n",
    "                elif service == 'http://ipinfo.io/json':\n",
    "                    print(f\"Город: {data.get('city')}\")\n",
    "                    print(f\"Страна: {data.get('country')}\")\n",
    "                    print(f\"Организация: {data.get('org')}\")\n",
    "                    \n",
    "        except Exception as e:\n",
    "            print(f\"Сервис {i} не доступен: {e}\")\n",
    "\n",
    "check_multiple_services()"
   ]
  },
  {
   "cell_type": "code",
   "execution_count": 164,
   "id": "8aedda71",
   "metadata": {},
   "outputs": [
    {
     "ename": "ModuleNotFoundError",
     "evalue": "No module named 'flask'",
     "output_type": "error",
     "traceback": [
      "\u001b[31m---------------------------------------------------------------------------\u001b[39m",
      "\u001b[31mModuleNotFoundError\u001b[39m                       Traceback (most recent call last)",
      "\u001b[36mCell\u001b[39m\u001b[36m \u001b[39m\u001b[32mIn[164]\u001b[39m\u001b[32m, line 2\u001b[39m\n\u001b[32m      1\u001b[39m \u001b[38;5;66;03m# Серверная часть (Flask)\u001b[39;00m\n\u001b[32m----> \u001b[39m\u001b[32m2\u001b[39m \u001b[38;5;28;01mfrom\u001b[39;00m\u001b[38;5;250m \u001b[39m\u001b[34;01mflask\u001b[39;00m\u001b[38;5;250m \u001b[39m\u001b[38;5;28;01mimport\u001b[39;00m Flask, request, jsonify\n\u001b[32m      3\u001b[39m \u001b[38;5;28;01mimport\u001b[39;00m\u001b[38;5;250m \u001b[39m\u001b[34;01mrequests\u001b[39;00m\n\u001b[32m      5\u001b[39m app = Flask(\u001b[34m__name__\u001b[39m)\n",
      "\u001b[31mModuleNotFoundError\u001b[39m: No module named 'flask'"
     ]
    }
   ],
   "source": [
    "# Серверная часть (Flask)\n",
    "from flask import Flask, request, jsonify\n",
    "import requests\n",
    "\n",
    "app = Flask(__name__)\n",
    "\n",
    "@app.route('/get_location', methods=['POST'])\n",
    "def get_location():\n",
    "    data = request.json\n",
    "    lat = data.get('lat')\n",
    "    lon = data.get('lon')\n",
    "    \n",
    "    # Преобразуем координаты в адрес\n",
    "    response = requests.get(f'https://geocode.maps.co/reverse?lat={lat}&lon={lon}')\n",
    "    address = response.json()\n",
    "    \n",
    "    return jsonify({\n",
    "        'coordinates': f\"{lat}, {lon}\",\n",
    "        'address': address.get('display_name', 'Адрес не найден')\n",
    "    })\n",
    "\n",
    "if __name__ == '__main__':\n",
    "    app.run(debug=True)"
   ]
  },
  {
   "cell_type": "code",
   "execution_count": 165,
   "id": "bfebf993",
   "metadata": {},
   "outputs": [
    {
     "name": "stdout",
     "output_type": "stream",
     "text": [
      "🌍 Определение местоположения\n",
      "По данным IP: Moscow\n",
      "✅ Итоговое местоположение: Moscow\n"
     ]
    }
   ],
   "source": [
    "def smart_location_detection():\n",
    "    print(\"🌍 Определение местоположения\")\n",
    "    \n",
    "    # Сначала пробуем по IP\n",
    "    try:\n",
    "        import urllib.request\n",
    "        import json\n",
    "        with urllib.request.urlopen('http://ip-api.com/json/?fields=city,country') as response:\n",
    "            data = json.loads(response.read().decode())\n",
    "            ip_city = data.get('city', 'Не определен')\n",
    "            print(f\"По данным IP: {ip_city}\")\n",
    "    except:\n",
    "        ip_city = \"Не определен\"\n",
    "    \n",
    "    # Предлагаем исправить если нужно\n",
    "    response = input(f\"Это правильный город? (y/n): \").lower()\n",
    "    \n",
    "    if response == 'n' or ip_city == \"Не определен\":\n",
    "        correct_city = input(\"Введите ваш город: \")\n",
    "        return correct_city\n",
    "    else:\n",
    "        return ip_city\n",
    "\n",
    "location = smart_location_detection()\n",
    "print(f\"✅ Итоговое местоположение: {location}\")"
   ]
  },
  {
   "cell_type": "code",
   "execution_count": 166,
   "id": "0e1e32b9",
   "metadata": {},
   "outputs": [
    {
     "name": "stdout",
     "output_type": "stream",
     "text": [
      "ДЕТАЛЬНОЕ ОПРЕДЕЛЕНИЕ АДРЕСА\n",
      "==================================================\n",
      "🌍 Определение детального местоположения\n",
      "==================================================\n",
      "📍 Автоматически определено по IP:\n",
      "   🏙️  Город: Moscow\n",
      "   🏛️  Регион: Moscow\n",
      "   🇷🇺 Страна: Russia\n",
      "   📮 Индекс: 123154\n",
      "   📡 Провайдер: Lovitel Ltd BB\n",
      "\n",
      "==================================================\n",
      "\n",
      "📝 Введите полный адрес вручную:\n",
      "\n",
      "==================================================\n",
      "✅ ВАШ АДРЕС:\n",
      "==================================================\n",
      "🇷🇺 россия\n",
      "🏛️ москва\n",
      "🏙️ москва\n",
      "📮 127566\n",
      "🛣️ бестужевых\n",
      "🏠 25а\n",
      "🚪 191\n"
     ]
    }
   ],
   "source": [
    "import urllib.request\n",
    "import json\n",
    "\n",
    "def get_detailed_address():\n",
    "    print(\"🌍 Определение детального местоположения\")\n",
    "    print(\"=\" * 50)\n",
    "    \n",
    "    # Получаем базовые данные по IP\n",
    "    try:\n",
    "        with urllib.request.urlopen('http://ip-api.com/json/?fields=66846719') as response:\n",
    "            data = json.loads(response.read().decode())\n",
    "            \n",
    "            ip_city = data.get('city', 'Не определен')\n",
    "            ip_region = data.get('regionName', 'Не определен')\n",
    "            ip_country = data.get('country', 'Не определен')\n",
    "            ip_zip = data.get('zip', 'Не определен')\n",
    "            ip_isp = data.get('isp', 'Не определен')\n",
    "            \n",
    "            print(f\"📍 Автоматически определено по IP:\")\n",
    "            print(f\"   🏙️  Город: {ip_city}\")\n",
    "            print(f\"   🏛️  Регион: {ip_region}\") \n",
    "            print(f\"   🇷🇺 Страна: {ip_country}\")\n",
    "            print(f\"   📮 Индекс: {ip_zip}\")\n",
    "            print(f\"   📡 Провайдер: {ip_isp}\")\n",
    "            \n",
    "    except Exception as e:\n",
    "        print(\"❌ Не удалось определить местоположение по IP\")\n",
    "        ip_city = \"Не определен\"\n",
    "        ip_region = \"Не определен\"\n",
    "        ip_country = \"Не определен\"\n",
    "        ip_zip = \"Не определен\"\n",
    "    \n",
    "    print(\"\\n\" + \"=\" * 50)\n",
    "    \n",
    "    # Проверяем корректность\n",
    "    if ip_city != \"Не определен\":\n",
    "        response = input(\"Это правильные данные? (y/n): \").lower()\n",
    "    else:\n",
    "        response = 'n'\n",
    "    \n",
    "    if response == 'y':\n",
    "        # Запрашиваем детали адреса\n",
    "        print(\"\\n📝 Уточните детали адреса:\")\n",
    "        street = input(\"   Улица: \")\n",
    "        house = input(\"   Дом/строение: \")\n",
    "        apartment = input(\"   Квартира/офис (необязательно): \")\n",
    "        \n",
    "        address = {\n",
    "            'country': ip_country,\n",
    "            'region': ip_region,\n",
    "            'city': ip_city,\n",
    "            'zip': ip_zip,\n",
    "            'street': street,\n",
    "            'house': house,\n",
    "            'apartment': apartment\n",
    "        }\n",
    "        \n",
    "    else:\n",
    "        # Ручной ввод полного адреса\n",
    "        print(\"\\n📝 Введите полный адрес вручную:\")\n",
    "        country = input(\"   Страна: \") or ip_country\n",
    "        region = input(\"   Регион/область: \") or ip_region\n",
    "        city = input(\"   Город: \") or ip_city\n",
    "        zip_code = input(\"   Почтовый индекс: \") or ip_zip\n",
    "        street = input(\"   Улица: \")\n",
    "        house = input(\"   Дом/строение: \")\n",
    "        apartment = input(\"   Квартира/офис (необязательно): \")\n",
    "        \n",
    "        address = {\n",
    "            'country': country,\n",
    "            'region': region, \n",
    "            'city': city,\n",
    "            'zip': zip_code,\n",
    "            'street': street,\n",
    "            'house': house,\n",
    "            'apartment': apartment\n",
    "        }\n",
    "    \n",
    "    return address\n",
    "\n",
    "def format_address(address):\n",
    "    \"\"\"Форматирует адрес в читаемый вид\"\"\"\n",
    "    parts = []\n",
    "    if address.get('country'): parts.append(f\"🇷🇺 {address['country']}\")\n",
    "    if address.get('region'): parts.append(f\"🏛️ {address['region']}\")\n",
    "    if address.get('city'): parts.append(f\"🏙️ {address['city']}\")\n",
    "    if address.get('zip'): parts.append(f\"📮 {address['zip']}\")\n",
    "    if address.get('street'): parts.append(f\"🛣️ {address['street']}\")\n",
    "    if address.get('house'): parts.append(f\"🏠 {address['house']}\")\n",
    "    if address.get('apartment'): parts.append(f\"🚪 {address['apartment']}\")\n",
    "    \n",
    "    return \"\\n\".join(parts)\n",
    "\n",
    "def save_address_to_file(address, filename=\"address.txt\"):\n",
    "    \"\"\"Сохраняет адрес в файл\"\"\"\n",
    "    with open(filename, 'w', encoding='utf-8') as f:\n",
    "        f.write(\"📋 СОХРАНЕННЫЙ АДРЕС\\n\")\n",
    "        f.write(\"=\" * 40 + \"\\n\")\n",
    "        for key, value in address.items():\n",
    "            if value:  # Не сохраняем пустые поля\n",
    "                f.write(f\"{key}: {value}\\n\")\n",
    "    print(f\"✅ Адрес сохранен в файл: {filename}\")\n",
    "\n",
    "# Основная программа\n",
    "def main():\n",
    "    print(\"ДЕТАЛЬНОЕ ОПРЕДЕЛЕНИЕ АДРЕСА\")\n",
    "    print(\"=\" * 50)\n",
    "    \n",
    "    # Получаем адрес\n",
    "    address = get_detailed_address()\n",
    "    \n",
    "    # Выводим результат\n",
    "    print(\"\\n\" + \"=\" * 50)\n",
    "    print(\"✅ ВАШ АДРЕС:\")\n",
    "    print(\"=\" * 50)\n",
    "    print(format_address(address))\n",
    "    \n",
    "    # Сохраняем в файл\n",
    "    save = input(\"\\n💾 Сохранить адрес в файл? (y/n): \").lower()\n",
    "    if save == 'y':\n",
    "        save_address_to_file(address)\n",
    "\n",
    "# Запускаем программу\n",
    "if __name__ == \"__main__\":\n",
    "    main()"
   ]
  },
  {
   "cell_type": "code",
   "execution_count": 169,
   "id": "c083ce85",
   "metadata": {},
   "outputs": [
    {
     "name": "stdout",
     "output_type": "stream",
     "text": [
      "🌍 Максимально детальная автоматическая геолокация\n",
      "📍 Автоматически определено:\n",
      "🏙️  Город: Moscow\n",
      "🏛️  Регион: Moscow\n",
      "🇷🇺 Страна: Russia\n",
      "📮 Индекс: 123154\n",
      "📡 Провайдер: Lovitel Ltd BB\n",
      "🌐 Часовой пояс: Europe/Moscow\n",
      "📍 Координаты: 55.7487, 37.6187\n"
     ]
    }
   ],
   "source": [
    "import urllib.request\n",
    "import json\n",
    "\n",
    "def get_max_auto_location():\n",
    "    print(\"🌍 Максимально детальная автоматическая геолокация\")\n",
    "    \n",
    "    try:\n",
    "        # Самый детальный сервис\n",
    "        with urllib.request.urlopen('http://ip-api.com/json/?fields=66846719') as response:\n",
    "            data = json.loads(response.read().decode())\n",
    "            \n",
    "            print(\"📍 Автоматически определено:\")\n",
    "            print(f\"🏙️  Город: {data.get('city', 'Нет данных')}\")\n",
    "            print(f\"🏛️  Регион: {data.get('regionName', 'Нет данных')}\")\n",
    "            print(f\"🇷🇺 Страна: {data.get('country', 'Нет данных')}\")\n",
    "            print(f\"📮 Индекс: {data.get('zip', 'Нет данных')}\")\n",
    "            print(f\"📡 Провайдер: {data.get('isp', 'Нет данных')}\")\n",
    "            print(f\"🌐 Часовой пояс: {data.get('timezone', 'Нет данных')}\")\n",
    "            print(f\"📍 Координаты: {data.get('lat', '?')}, {data.get('lon', '?')}\")\n",
    "            \n",
    "            # Примерный район (если есть)\n",
    "            if data.get('district'):\n",
    "                print(f\"🗺️  Район: {data['district']}\")\n",
    "                \n",
    "    except Exception as e:\n",
    "        print(f\"❌ Ошибка: {e}\")\n",
    "\n",
    "get_max_auto_location()"
   ]
  },
  {
   "cell_type": "code",
   "execution_count": 170,
   "id": "349a0775",
   "metadata": {},
   "outputs": [
    {
     "name": "stdout",
     "output_type": "stream",
     "text": [
      "Привет\n",
      "Привет\n",
      "Привет\n",
      "Привет\n",
      "Привет\n",
      "Привет\n",
      "Привет\n",
      "Привет\n",
      "Привет\n",
      "Привет\n"
     ]
    }
   ],
   "source": [
    "i = 0\n",
    "while i < 10:\n",
    "    print('Привет')\n",
    "    i += 1"
   ]
  },
  {
   "cell_type": "code",
   "execution_count": 173,
   "id": "4b379492",
   "metadata": {},
   "outputs": [
    {
     "name": "stdout",
     "output_type": "stream",
     "text": [
      "Квадрат вашего числа равен: 1\n"
     ]
    }
   ],
   "source": [
    "num = int(input())\n",
    "while num != -1:\n",
    "    print('Квадрат вашего числа равен:', num * num)\n",
    "    num = int(input())\n",
    "    break\n"
   ]
  },
  {
   "cell_type": "code",
   "execution_count": 174,
   "id": "03d09033",
   "metadata": {},
   "outputs": [
    {
     "name": "stdout",
     "output_type": "stream",
     "text": [
      "0\n",
      "1\n",
      "2\n",
      "3\n",
      "4\n",
      "5\n",
      "6\n",
      "7\n",
      "8\n",
      "9\n",
      "10\n",
      "11\n",
      "12\n",
      "13\n",
      "14\n",
      "15\n",
      "16\n",
      "17\n",
      "18\n",
      "19\n",
      "20\n",
      "21\n",
      "22\n",
      "23\n",
      "24\n",
      "25\n",
      "26\n",
      "27\n",
      "28\n",
      "29\n",
      "30\n",
      "31\n",
      "32\n",
      "33\n",
      "34\n",
      "35\n",
      "36\n",
      "37\n",
      "38\n",
      "39\n",
      "40\n",
      "41\n",
      "42\n",
      "43\n",
      "44\n",
      "45\n",
      "46\n",
      "47\n",
      "48\n",
      "49\n",
      "50\n",
      "51\n",
      "52\n",
      "53\n",
      "54\n",
      "55\n",
      "56\n",
      "57\n",
      "58\n",
      "59\n",
      "60\n",
      "61\n",
      "62\n",
      "63\n",
      "64\n",
      "65\n",
      "66\n",
      "67\n",
      "68\n",
      "69\n",
      "70\n",
      "71\n",
      "72\n",
      "73\n",
      "74\n",
      "75\n",
      "76\n",
      "77\n",
      "78\n",
      "79\n",
      "80\n",
      "81\n",
      "82\n",
      "83\n",
      "84\n",
      "85\n",
      "86\n",
      "87\n",
      "88\n",
      "89\n",
      "90\n",
      "91\n",
      "92\n",
      "93\n",
      "94\n",
      "95\n",
      "96\n",
      "97\n",
      "98\n",
      "99\n",
      "100\n",
      "0\n",
      "1\n",
      "2\n",
      "3\n",
      "4\n",
      "5\n",
      "6\n",
      "7\n",
      "8\n",
      "9\n",
      "10\n",
      "11\n",
      "12\n",
      "13\n",
      "14\n",
      "15\n",
      "16\n",
      "17\n",
      "18\n",
      "19\n",
      "20\n",
      "21\n",
      "22\n",
      "23\n",
      "24\n",
      "25\n",
      "26\n",
      "27\n",
      "28\n",
      "29\n",
      "30\n",
      "31\n",
      "32\n",
      "33\n",
      "34\n",
      "35\n",
      "36\n",
      "37\n",
      "38\n",
      "39\n",
      "40\n",
      "41\n",
      "42\n",
      "43\n",
      "44\n",
      "45\n",
      "46\n",
      "47\n",
      "48\n",
      "49\n",
      "50\n",
      "51\n",
      "52\n",
      "53\n",
      "54\n",
      "55\n",
      "56\n",
      "57\n",
      "58\n",
      "59\n",
      "60\n",
      "61\n",
      "62\n",
      "63\n",
      "64\n",
      "65\n",
      "66\n",
      "67\n",
      "68\n",
      "69\n",
      "70\n",
      "71\n",
      "72\n",
      "73\n",
      "74\n",
      "75\n",
      "76\n",
      "77\n",
      "78\n",
      "79\n",
      "80\n",
      "81\n",
      "82\n",
      "83\n",
      "84\n",
      "85\n",
      "86\n",
      "87\n",
      "88\n",
      "89\n",
      "90\n",
      "91\n",
      "92\n",
      "93\n",
      "94\n",
      "95\n",
      "96\n",
      "97\n",
      "98\n",
      "99\n",
      "100\n"
     ]
    }
   ],
   "source": [
    "# используем for\n",
    "for i in range(101):\n",
    "    print(i)\n",
    "\n",
    "# используем while\n",
    "i = 0\n",
    "while i < 101:\n",
    "    print(i)\n",
    "    i += 1"
   ]
  },
  {
   "cell_type": "code",
   "execution_count": 175,
   "id": "9b1859a5",
   "metadata": {},
   "outputs": [
    {
     "name": "stdout",
     "output_type": "stream",
     "text": [
      "0\n",
      "3\n",
      "6\n",
      "9\n",
      "12\n",
      "15\n",
      "18\n",
      "21\n",
      "24\n",
      "27\n",
      "30\n",
      "33\n",
      "36\n",
      "39\n",
      "42\n",
      "45\n",
      "48\n",
      "51\n",
      "54\n",
      "57\n",
      "60\n",
      "63\n",
      "66\n",
      "69\n",
      "72\n",
      "75\n",
      "78\n",
      "81\n",
      "84\n",
      "87\n",
      "90\n",
      "93\n",
      "96\n",
      "99\n",
      "0\n",
      "3\n",
      "6\n",
      "9\n",
      "12\n",
      "15\n",
      "18\n",
      "21\n",
      "24\n",
      "27\n",
      "30\n",
      "33\n",
      "36\n",
      "39\n",
      "42\n",
      "45\n",
      "48\n",
      "51\n",
      "54\n",
      "57\n",
      "60\n",
      "63\n",
      "66\n",
      "69\n",
      "72\n",
      "75\n",
      "78\n",
      "81\n",
      "84\n",
      "87\n",
      "90\n",
      "93\n",
      "96\n",
      "99\n"
     ]
    }
   ],
   "source": [
    "# используем for\n",
    "for i in range(0, 100, 3):\n",
    "    print(i)\n",
    "\n",
    "# используем while\n",
    "i = 0\n",
    "while i < 100:\n",
    "    print(i)\n",
    "    i += 3"
   ]
  },
  {
   "cell_type": "code",
   "execution_count": 177,
   "id": "0f665435",
   "metadata": {},
   "outputs": [
    {
     "name": "stdout",
     "output_type": "stream",
     "text": [
      "Сумма чисел равна 161\n"
     ]
    }
   ],
   "source": [
    "text = input()\n",
    "total = 0\n",
    "while text != 'stop':\n",
    "    total += int(text)\n",
    "    text = input()\n",
    "\n",
    "print('Сумма чисел равна', total)"
   ]
  },
  {
   "cell_type": "code",
   "execution_count": 179,
   "id": "5ee4533d",
   "metadata": {},
   "outputs": [
    {
     "name": "stdout",
     "output_type": "stream",
     "text": [
      "Сумма чисел равна 246\n"
     ]
    }
   ],
   "source": [
    "text = input()\n",
    "total = 0\n",
    "while text != 'stop':\n",
    "    total += int(text)\n",
    "    text = input()\n",
    "\n",
    "print('Сумма чисел равна', total)"
   ]
  },
  {
   "cell_type": "code",
   "execution_count": 180,
   "id": "abe023a1",
   "metadata": {},
   "outputs": [],
   "source": [
    "count = 10\n",
    "while count < 1:\n",
    "    print('Python awesome!')"
   ]
  },
  {
   "cell_type": "code",
   "execution_count": 181,
   "id": "591124da",
   "metadata": {},
   "outputs": [
    {
     "name": "stdout",
     "output_type": "stream",
     "text": [
      "Python awesome!\n",
      "Python awesome!\n",
      "Python awesome!\n",
      "Python awesome!\n",
      "Python awesome!\n",
      "Python awesome!\n",
      "Python awesome!\n",
      "Python awesome!\n",
      "Python awesome!\n"
     ]
    }
   ],
   "source": [
    "count = 1\n",
    "while count < 10:\n",
    "    print('Python awesome!')\n",
    "    count += 1"
   ]
  },
  {
   "cell_type": "code",
   "execution_count": 183,
   "id": "67db7121",
   "metadata": {},
   "outputs": [
    {
     "name": "stdout",
     "output_type": "stream",
     "text": [
      "Python awesome!\n",
      "Python awesome!\n",
      "Python awesome!\n",
      "Python awesome!\n",
      "Python awesome!\n",
      "Python awesome!\n",
      "Python awesome!\n",
      "Python awesome!\n",
      "Python awesome!\n"
     ]
    }
   ],
   "source": [
    "count = 1\n",
    "while count < 10:\n",
    "    print('Python awesome!')\n",
    "    count += 1"
   ]
  },
  {
   "cell_type": "code",
   "execution_count": 187,
   "id": "8dea1ee1",
   "metadata": {},
   "outputs": [
    {
     "name": "stdout",
     "output_type": "stream",
     "text": [
      "Python awesome!\n",
      "Python awesome!\n",
      "Python awesome!\n",
      "Python awesome!\n",
      "Python awesome!\n",
      "Python awesome!\n",
      "Python awesome!\n"
     ]
    }
   ],
   "source": [
    "i = 5\n",
    "while i <= 11:\n",
    "    print('Python awesome!')\n",
    "    i += 1"
   ]
  },
  {
   "cell_type": "code",
   "execution_count": 188,
   "id": "854f6867",
   "metadata": {},
   "outputs": [
    {
     "name": "stdout",
     "output_type": "stream",
     "text": [
      "21\n"
     ]
    }
   ],
   "source": [
    "i = 7\n",
    "a = 5\n",
    "while i < 11:\n",
    "    a += i\n",
    "    i += 2\n",
    "\n",
    "print(a)"
   ]
  },
  {
   "cell_type": "code",
   "execution_count": 189,
   "id": "5283939d",
   "metadata": {},
   "outputs": [
    {
     "name": "stdout",
     "output_type": "stream",
     "text": [
      "12\n",
      "1\n",
      "1\n",
      "eqw\n",
      "qwe\n",
      "rjytw\n"
     ]
    }
   ],
   "source": [
    "word = input()\n",
    "\n",
    "while word != \"КОНЕЦ\":\n",
    "    print(word)\n",
    "    word = input()"
   ]
  },
  {
   "cell_type": "code",
   "execution_count": null,
   "id": "1223d2d8",
   "metadata": {},
   "outputs": [],
   "source": [
    "word = input()\n",
    "\n",
    "while word != \"КОНЕЦ\" and word != \"конец\":\n",
    "    print(word)\n",
    "    word = input()"
   ]
  },
  {
   "cell_type": "code",
   "execution_count": 208,
   "id": "5d2f4981",
   "metadata": {},
   "outputs": [
    {
     "name": "stdout",
     "output_type": "stream",
     "text": [
      "3\n"
     ]
    }
   ],
   "source": [
    "word = int(input())\n",
    "count = 0\n",
    "\n",
    "while 1 <= word <= 5:\n",
    "    if word == 5:\n",
    "        count += 1\n",
    "    word = int(input())\n",
    "    \n",
    "print(count)\n",
    "    \n"
   ]
  },
  {
   "cell_type": "code",
   "execution_count": 212,
   "id": "7d29078e",
   "metadata": {},
   "outputs": [
    {
     "name": "stdout",
     "output_type": "stream",
     "text": [
      "10\n",
      "1\n",
      "0\n"
     ]
    }
   ],
   "source": [
    "n = int(input())\n",
    "while n != 0:  # пока в числе есть цифры\n",
    "    last_digit = n % 10  # получить последнюю цифру\n",
    "    # код обработки последней цифры\n",
    "    n = n // 10  # удалить последнюю цифру из числа\n",
    "    print(n)"
   ]
  },
  {
   "cell_type": "code",
   "execution_count": 215,
   "id": "e45dc8fa",
   "metadata": {},
   "outputs": [
    {
     "name": "stdout",
     "output_type": "stream",
     "text": [
      "YES\n"
     ]
    }
   ],
   "source": [
    "num = int(input())\n",
    "has_seven = False  # сигнальная метка\n",
    "\n",
    "while num != 0:\n",
    "    last_digit = num % 10\n",
    "    if last_digit == 7:\n",
    "        has_seven = True\n",
    "    num = num // 10\n",
    "\n",
    "if has_seven == True:\n",
    "    print('YES')\n",
    "else:\n",
    "    print('NO')"
   ]
  },
  {
   "cell_type": "code",
   "execution_count": 216,
   "id": "dd9618d6",
   "metadata": {},
   "outputs": [
    {
     "name": "stdout",
     "output_type": "stream",
     "text": [
      "120\n"
     ]
    }
   ],
   "source": [
    "num = 12345\n",
    "product = 1\n",
    "while num != 0:\n",
    "    last_digit = num % 10\n",
    "    product = product * last_digit\n",
    "    num = num // 10\n",
    "\n",
    "print(product)"
   ]
  },
  {
   "cell_type": "code",
   "execution_count": 217,
   "id": "bccec29f",
   "metadata": {},
   "outputs": [
    {
     "name": "stdout",
     "output_type": "stream",
     "text": [
      "5\n"
     ]
    }
   ],
   "source": [
    "num = 123456789\n",
    "total = 0\n",
    "while num != 0:\n",
    "    last_digit = num % 10\n",
    "    if last_digit > 4:\n",
    "        total += 1\n",
    "\n",
    "    num = num // 10\n",
    "\n",
    "print(total)\n"
   ]
  },
  {
   "cell_type": "code",
   "execution_count": 220,
   "id": "b9ecd7ef",
   "metadata": {},
   "outputs": [
    {
     "ename": "SyntaxError",
     "evalue": "invalid syntax (2553933069.py, line 2)",
     "output_type": "error",
     "traceback": [
      "  \u001b[36mCell\u001b[39m\u001b[36m \u001b[39m\u001b[32mIn[220]\u001b[39m\u001b[32m, line 2\u001b[39m\n\u001b[31m    \u001b[39m\u001b[31mname = len(n(-1):)\u001b[39m\n                    ^\n\u001b[31mSyntaxError\u001b[39m\u001b[31m:\u001b[39m invalid syntax\n"
     ]
    }
   ],
   "source": [
    "n = int(input)\n",
    "name = len(n(-1):)\n",
    "print(name)"
   ]
  },
  {
   "cell_type": "code",
   "execution_count": 223,
   "id": "a91051d7",
   "metadata": {},
   "outputs": [
    {
     "name": "stdout",
     "output_type": "stream",
     "text": [
      "5\n",
      "4\n",
      "3\n",
      "2\n",
      "1\n"
     ]
    }
   ],
   "source": [
    "n = int(input())\n",
    "\n",
    "while n > 0:\n",
    "    print(n % 10)  # получаем последнюю цифру\n",
    "    n = n // 10   # удаляем последнюю цифру"
   ]
  },
  {
   "cell_type": "code",
   "execution_count": null,
   "id": "fef5eb45",
   "metadata": {},
   "outputs": [],
   "source": [
    "#Такой же код как сверху \n",
    "# Получаем число от пользователя\n",
    "n = int(input())\n",
    "\n",
    "# Выводим цифры в столбик в обратном порядке\n",
    "for digit in str(n)[::-1]:\n",
    "    print(digit)"
   ]
  },
  {
   "cell_type": "code",
   "execution_count": 233,
   "id": "eefa1d37",
   "metadata": {},
   "outputs": [
    {
     "name": "stdout",
     "output_type": "stream",
     "text": [
      "54321"
     ]
    }
   ],
   "source": [
    "n = input()\n",
    "for digit in str(n)[::-1]:\n",
    "    print(digit, sep=\" \", end=\"\")"
   ]
  },
  {
   "cell_type": "code",
   "execution_count": 234,
   "id": "9bcdb3a5",
   "metadata": {},
   "outputs": [
    {
     "name": "stdout",
     "output_type": "stream",
     "text": [
      "6898\n"
     ]
    }
   ],
   "source": [
    "def hex_to_ten(num):\n",
    "  num = list(num)\n",
    "  num = ','.join(num)\n",
    "  hex_ten_1 = ['10', '11', '12', '13', '14', '15']\n",
    "  hex_ten_2 = ['A', 'B', 'C', 'D', 'E', 'F']\n",
    "  for i in range(6):\n",
    "    num = num.replace(hex_ten_2[i], hex_ten_1[i])\n",
    "  num = num.split(',')\n",
    "  i = 0\n",
    "  new_num = 0\n",
    "  while num != []:\n",
    "    new_num += int(num[-1]) * 16 ** i\n",
    "    i += 1\n",
    "    num = num[:-1]\n",
    "  return new_num\n",
    " \n",
    "print(hex_to_ten(input()))"
   ]
  },
  {
   "cell_type": "code",
   "execution_count": 236,
   "id": "60b883c1",
   "metadata": {},
   "outputs": [
    {
     "name": "stdout",
     "output_type": "stream",
     "text": [
      "{'win': 'Что получилось лучше всего?', 'learn': 'Что нового узнали?', 'improve': 'Что можно сделать лучше?', 'help': 'В чем нужна помощь друг другу?'}\n"
     ]
    }
   ],
   "source": [
    "weekly_analysis = {\n",
    "    \"win\": \"Что получилось лучше всего?\",\n",
    "    \"learn\": \"Что нового узнали?\",\n",
    "    \"improve\": \"Что можно сделать лучше?\",\n",
    "    \"help\": \"В чем нужна помощь друг другу?\"\n",
    "}\n",
    "print(weekly_analysis)"
   ]
  },
  {
   "cell_type": "code",
   "execution_count": null,
   "id": "c45a4287",
   "metadata": {},
   "outputs": [],
   "source": [
    "n = int(input())\n",
    "digits = str(n)  # Преобразуем число в строку\n",
    "\n",
    "max_digit = max(digits)\n",
    "min_digit = min(digits)\n",
    "\n",
    "print(f\"Максимальная цифра равна {max_digit}\")\n",
    "print(f\"Минимальная цифра равна {min_digit}\")"
   ]
  },
  {
   "cell_type": "code",
   "execution_count": 238,
   "id": "a69da95e",
   "metadata": {},
   "outputs": [
    {
     "name": "stdout",
     "output_type": "stream",
     "text": [
      "26\n",
      "4\n",
      "1680\n",
      "6.5\n",
      "5\n",
      "13\n"
     ]
    }
   ],
   "source": [
    "n = int(input())\n",
    "original_n = n  # Сохраняем оригинальное число\n",
    "\n",
    "# Инициализируем переменные\n",
    "digit_sum = 0      # сумма цифр\n",
    "digit_count = 0    # количество цифр\n",
    "digit_product = 1  # произведение цифр\n",
    "first_digit = 0    # первая цифра\n",
    "last_digit = n % 10  # последняя цифра\n",
    "\n",
    "# Обрабатываем каждую цифру числа\n",
    "while n > 0:\n",
    "    digit = n % 10  # текущая цифра\n",
    "    \n",
    "    digit_sum += digit\n",
    "    digit_count += 1\n",
    "    digit_product *= digit\n",
    "    \n",
    "    # Запоминаем первую цифру (она станет последней в цикле)\n",
    "    first_digit = digit\n",
    "    \n",
    "    n //= 10  # убираем последнюю цифру\n",
    "\n",
    "# Среднее арифметическое\n",
    "average = digit_sum / digit_count\n",
    "\n",
    "# Сумма первой и последней цифры\n",
    "first_last_sum = first_digit + last_digit\n",
    "\n",
    "# Выводим результаты\n",
    "print(digit_sum)\n",
    "print(digit_count)\n",
    "print(digit_product)\n",
    "print(average)\n",
    "print(first_digit)\n",
    "print(first_last_sum)"
   ]
  },
  {
   "cell_type": "code",
   "execution_count": 237,
   "id": "819b9788",
   "metadata": {},
   "outputs": [
    {
     "name": "stdout",
     "output_type": "stream",
     "text": [
      "26\n",
      "4\n",
      "1680\n",
      "6.5\n",
      "5\n",
      "13\n"
     ]
    }
   ],
   "source": [
    "n = int(input())\n",
    "# Инициализируем переменные\n",
    "digit_sum = 0      # сумма цифр\n",
    "digit_count = 0    # количество цифр\n",
    "digit_product = 1  # произведение цифр\n",
    "first_digit = 0    # первая цифра\n",
    "last_digit = n % 10  # последняя цифра\n",
    "\n",
    "# Преобразуем число в строку для удобства\n",
    "num_str = str(n)\n",
    "\n",
    "# 1. Сумма цифр\n",
    "digit_sum = 0\n",
    "for digit in num_str:\n",
    "    digit_sum += int(digit)\n",
    "\n",
    "# 2. Количество цифр\n",
    "digit_count = len(num_str)\n",
    "\n",
    "# 3. Произведение цифр\n",
    "digit_product = 1\n",
    "for digit in num_str:\n",
    "    digit_product *= int(digit)\n",
    "\n",
    "# 4. Среднее арифметическое\n",
    "average = digit_sum / digit_count\n",
    "\n",
    "# 5. Первая цифра\n",
    "first_digit = int(num_str[0])\n",
    "\n",
    "# 6. Последняя цифра\n",
    "last_digit = int(num_str[-1])\n",
    "\n",
    "# 7. Сумма первой и последней цифры\n",
    "first_last_sum = first_digit + last_digit\n",
    "\n",
    "# Выводим результаты\n",
    "print(digit_sum)\n",
    "print(digit_count)\n",
    "print(digit_product)\n",
    "print(average)\n",
    "print(first_digit)\n",
    "print(first_last_sum)"
   ]
  },
  {
   "cell_type": "code",
   "execution_count": 241,
   "id": "7587c4cc",
   "metadata": {},
   "outputs": [
    {
     "name": "stdout",
     "output_type": "stream",
     "text": [
      "4\n"
     ]
    }
   ],
   "source": [
    "n = input()\n",
    "print(n[1])"
   ]
  },
  {
   "cell_type": "code",
   "execution_count": 245,
   "id": "ab9c85da",
   "metadata": {},
   "outputs": [
    {
     "name": "stdout",
     "output_type": "stream",
     "text": [
      "NO\n"
     ]
    }
   ],
   "source": [
    "n = input()\n",
    "\n",
    "# Если множество цифр содержит только один элемент - все цифры одинаковые\n",
    "if len(set(n)) == 1:\n",
    "    print(\"YES\")\n",
    "else:\n",
    "    print(\"NO\")"
   ]
  },
  {
   "cell_type": "code",
   "execution_count": 249,
   "id": "0f569e82",
   "metadata": {},
   "outputs": [
    {
     "name": "stdout",
     "output_type": "stream",
     "text": [
      "YES\n"
     ]
    }
   ],
   "source": [
    "n = int(input())\n",
    "is_ordered = True\n",
    "\n",
    "# Начинаем с первой цифры (самой правой)\n",
    "current_digit = n % 10\n",
    "n //= 10\n",
    "\n",
    "while n > 0:\n",
    "    prev_digit = current_digit  # Запоминаем предыдущую цифру\n",
    "    current_digit = n % 10     # Получаем следующую цифру\n",
    "    \n",
    "    # ПРАВИЛЬНАЯ ПРОВЕРКА: текущая цифра должна быть ≥ предыдущей\n",
    "    if current_digit < prev_digit:  # ✅ ТЕПЕРЬ ПРАВИЛЬНО!\n",
    "        is_ordered = False\n",
    "        break\n",
    "    \n",
    "    n //= 10\n",
    "\n",
    "print(\"YES\" if is_ordered else \"NO\")"
   ]
  },
  {
   "cell_type": "code",
   "execution_count": 247,
   "id": "781a0480",
   "metadata": {},
   "outputs": [
    {
     "name": "stdout",
     "output_type": "stream",
     "text": [
      "YES\n"
     ]
    }
   ],
   "source": [
    "n = input()\n",
    "print(\"YES\" if n[::-1] == ''.join(sorted(n[::-1])) else \"NO\")"
   ]
  },
  {
   "cell_type": "code",
   "execution_count": null,
   "id": "449ef312",
   "metadata": {},
   "outputs": [],
   "source": [
    "speed = int(input(\"Какая скорость у водителя? \"))\n",
    "\n",
    "min_speed = 60\n",
    "max_speed = 120\n",
    "\n",
    "if min_speed <= speed <= max_speed:\n",
    "    print(\"Скорость в норме\")\n",
    "elif speed < min_speed:\n",
    "    needed = min_speed - speed\n",
    "    print(f\"Прибавьте {needed} км/ч до минимально разрешенной скорости\")\n",
    "else:  # speed > max_speed\n",
    "    needed = speed - max_speed\n",
    "    print(f\"Сбросьте {needed} км/ч до максимально разрешенной скорости\")\n",
    "\n",
    "print(\"Счастливого пути\")"
   ]
  },
  {
   "cell_type": "code",
   "execution_count": null,
   "id": "a23b91de",
   "metadata": {},
   "outputs": [],
   "source": [
    "\n",
    "text = input().lower()  # преобразуем к нижнему регистру для поиска\n",
    "\n",
    "if \"взлом\" in text or \"ддос\" in text or \"атака\" in text:\n",
    "    print(\"ALERT\")\n",
    "else:\n",
    "    print(\"CLEAR\")\n"
   ]
  },
  {
   "cell_type": "code",
   "execution_count": null,
   "id": "92ecadf4",
   "metadata": {},
   "outputs": [],
   "source": [
    "n = int(input())\n",
    "\n",
    "# Разделяем число на цифры (справа налево)\n",
    "# Для числа D5D4D3D2D1C: \n",
    "d1 = n // 100000 % 10  # D5 - первая цифра слева\n",
    "d2 = n // 10000 % 10   # D4\n",
    "d3 = n // 1000 % 10    # D3\n",
    "d4 = n // 100 % 10     # D2\n",
    "d5 = n // 10 % 10      # D1\n",
    "c = n % 10             # C - контрольная цифра\n",
    "\n",
    "# Вычисляем взвешенную сумму\n",
    "S = d1 * 2 + d2 * 1 + d3 * 2 + d4 * 1 + d5 * 2\n",
    "\n",
    "# Если S двузначная, добавляем к ней сумму её цифр\n",
    "if S >= 10:\n",
    "    S = S + (S // 10 + S % 10)\n",
    "\n",
    "# Вычисляем контрольную цифру\n",
    "control = (10 - (S % 10)) % 10\n",
    "\n",
    "# Проверяем совпадение\n",
    "if control == c:\n",
    "    print(\"ACCESS\")\n",
    "else:\n",
    "    print(\"DENY\")"
   ]
  },
  {
   "cell_type": "code",
   "execution_count": null,
   "id": "768881dc",
   "metadata": {},
   "outputs": [],
   "source": [
    "n = int(input())\n",
    "\n",
    "# Проверяем все три условия\n",
    "if n % 2 == 0 and (n % 10) % 3 != 0 and n % 10 != 0:\n",
    "    print(\"Подходит\")\n",
    "else:\n",
    "    print(\"Не подходит\")\n"
   ]
  },
  {
   "cell_type": "code",
   "execution_count": null,
   "id": "5a709cfe",
   "metadata": {},
   "outputs": [],
   "source": [
    "n = int(input())\n",
    "\n",
    "# Определяем последнюю цифру и две последние цифры\n",
    "last_digit = n % 10\n",
    "last_two_digits = n % 100\n",
    "\n",
    "# Проверяем особые случаи для 11-14\n",
    "if 11 <= last_two_digits <= 14:\n",
    "    print(f\"{n} питонистов\")\n",
    "else:\n",
    "    # Для остальных случаев смотрим на последнюю цифру\n",
    "    if last_digit == 1:\n",
    "        print(f\"{n} питонист\")\n",
    "    elif 2 <= last_digit <= 4:\n",
    "        print(f\"{n} питониста\")\n",
    "    else:\n",
    "        print(f\"{n} питонистов\")"
   ]
  },
  {
   "cell_type": "code",
   "execution_count": null,
   "id": "dfc3973a",
   "metadata": {},
   "outputs": [],
   "source": [
    "n = int(input())\n",
    "\n",
    "# Получаем последнюю цифру и две последние цифры\n",
    "last_digit = n % 10          # последняя цифра (для 1, 2, 3, 4)\n",
    "last_two_digits = n % 100    # две последние цифры (для 11-14)\n",
    "\n",
    "# Особый случай: числа 11-14 всегда имеют окончание \"ов\"\n",
    "if 11 <= last_two_digits <= 14:\n",
    "    ending = \"ов\"\n",
    "else:\n",
    "    # Для остальных чисел смотрим на последнюю цифру\n",
    "    if last_digit == 1:\n",
    "        ending = \"\"          # питонист\n",
    "    elif 2 <= last_digit <= 4:\n",
    "        ending = \"а\"         # питониста\n",
    "    else:\n",
    "        ending = \"ов\"        # питонистов\n",
    "\n",
    "print(f\"{n} питонист{ending}\")"
   ]
  },
  {
   "cell_type": "code",
   "execution_count": null,
   "id": "e419ec93",
   "metadata": {},
   "outputs": [],
   "source": [
    "n = int(input())\n",
    "\n",
    "# Начало в 8:00 (переводим в минуты)\n",
    "start_minutes = 8 * 60\n",
    "current_time = start_minutes\n",
    "\n",
    "# Обрабатываем каждый урок\n",
    "for lesson_number in range(1, n + 1):\n",
    "    # Добавляем длительность урока\n",
    "    current_time += 40\n",
    "    \n",
    "    # Если это не последний урок, добавляем переменку\n",
    "    if lesson_number < n:\n",
    "        if lesson_number % 5 == 0:  # Уроки, кратные 5\n",
    "            current_time += 20\n",
    "        elif lesson_number % 2 == 0:  # Чётные уроки\n",
    "            current_time += 15\n",
    "        else:  # Нечётные уроки\n",
    "            current_time += 10\n",
    "\n",
    "# Переводим обратно в часы и минуты\n",
    "hours = current_time // 60\n",
    "minutes = current_time % 60\n",
    "\n",
    "# Если учеба продолжилась на следующий день\n",
    "if hours >= 24:\n",
    "    hours %= 24  # Берём остаток от деления на 24\n",
    "\n",
    "# Форматируем вывод\n",
    "print(f\"{hours}:{minutes:02d}\")"
   ]
  },
  {
   "cell_type": "code",
   "execution_count": 250,
   "id": "cf124c0b",
   "metadata": {},
   "outputs": [
    {
     "name": "stdout",
     "output_type": "stream",
     "text": [
      "Привет\n",
      "Привет\n",
      "Привет\n",
      "Привет\n"
     ]
    }
   ],
   "source": [
    "i = 1\n",
    "while i < 10:\n",
    "    if i % 2 == 0:\n",
    "        print(\"Привет\")\n",
    "    i += 1"
   ]
  },
  {
   "cell_type": "code",
   "execution_count": 262,
   "id": "30a61876",
   "metadata": {},
   "outputs": [
    {
     "name": "stdout",
     "output_type": "stream",
     "text": [
      "5\n",
      "4\n",
      "3\n",
      "2\n",
      "1\n",
      "Пуск!\n"
     ]
    }
   ],
   "source": [
    "n = int(input())\n",
    "\n",
    "while n >= 1:\n",
    "    print(n)\n",
    "    n -= 1\n",
    "\n",
    "print(\"Пуск!\")"
   ]
  },
  {
   "cell_type": "code",
   "execution_count": null,
   "id": "8f7aa16e",
   "metadata": {},
   "outputs": [],
   "source": [
    "total = 0\n",
    "num = int(input())\n",
    "\n",
    "while num != 0:\n",
    "    total += num\n",
    "    num = int(input())\n",
    "\n",
    "print(total)"
   ]
  },
  {
   "cell_type": "code",
   "execution_count": 263,
   "id": "4d0753e5",
   "metadata": {},
   "outputs": [
    {
     "name": "stdout",
     "output_type": "stream",
     "text": [
      "a\n",
      "b\n",
      "c\n"
     ]
    }
   ],
   "source": [
    "for i in 'abc':\n",
    "    print(i)"
   ]
  },
  {
   "cell_type": "code",
   "execution_count": 264,
   "id": "ad29599e",
   "metadata": {},
   "outputs": [
    {
     "name": "stdout",
     "output_type": "stream",
     "text": [
      "0\n",
      "1\n",
      "2\n"
     ]
    }
   ],
   "source": [
    "for i in range(3):\n",
    "    print(i)"
   ]
  },
  {
   "cell_type": "code",
   "execution_count": 276,
   "id": "ffb8d1f2",
   "metadata": {},
   "outputs": [
    {
     "name": "stdout",
     "output_type": "stream",
     "text": [
      "[1, 2, 3]\n"
     ]
    }
   ],
   "source": [
    "lst = ['1', '2', '3']\n",
    "\n",
    "print(list(map(int, lst)))"
   ]
  },
  {
   "cell_type": "code",
   "execution_count": 270,
   "id": "9ab76e6b",
   "metadata": {},
   "outputs": [
    {
     "name": "stdout",
     "output_type": "stream",
     "text": [
      "5 4 3 2 1 0 "
     ]
    }
   ],
   "source": [
    "n = int(input())\n",
    "\n",
    "for i in range(n, -1, -1):\n",
    "    print(i, end=' ')"
   ]
  },
  {
   "cell_type": "code",
   "execution_count": 277,
   "id": "f7940eee",
   "metadata": {},
   "outputs": [
    {
     "name": "stdout",
     "output_type": "stream",
     "text": [
      "{1, 2, 3, 4, 5, 6}\n"
     ]
    }
   ],
   "source": [
    "mn1 = {1, 2, 3, 4}\n",
    "\n",
    "mn2 = {4, 5, 6}\n",
    "\n",
    "print(mn1 | mn2)\n",
    "\n"
   ]
  },
  {
   "cell_type": "code",
   "execution_count": 278,
   "id": "cbc5ebe2",
   "metadata": {},
   "outputs": [
    {
     "data": {
      "text/plain": [
       "[0, 4, 16, 36, 64]"
      ]
     },
     "execution_count": 278,
     "metadata": {},
     "output_type": "execute_result"
    }
   ],
   "source": [
    "[i*i for i in range(0,10) if i % 2 == 0]"
   ]
  },
  {
   "cell_type": "code",
   "execution_count": 279,
   "id": "c5bd242c",
   "metadata": {},
   "outputs": [
    {
     "name": "stdout",
     "output_type": "stream",
     "text": [
      "[2, 4, 6]\n"
     ]
    }
   ],
   "source": [
    "data = [1, 2, 3]\n",
    "\n",
    "res = [x*2 for x in data]\n",
    "\n",
    "print(res)\n"
   ]
  },
  {
   "cell_type": "code",
   "execution_count": 281,
   "id": "35e2144d",
   "metadata": {},
   "outputs": [
    {
     "name": "stdout",
     "output_type": "stream",
     "text": [
      "* 6 * 5 * 4 * 3 * 2 * 1 * 0 *\n"
     ]
    }
   ],
   "source": [
    "n = int(input())\n",
    "numbers = ' * '.join(str(i) for i in range(n, -1, -1))\n",
    "print(f\"* {numbers} *\")"
   ]
  },
  {
   "cell_type": "code",
   "execution_count": 283,
   "id": "2edde84f",
   "metadata": {},
   "outputs": [
    {
     "name": "stdout",
     "output_type": "stream",
     "text": [
      "* * * * * \n",
      "*       *\n",
      "*       *\n",
      "*       *\n",
      "* * * * * \n"
     ]
    }
   ],
   "source": [
    "n = int(input(\"Введите размер квадрата: \"))\n",
    "\n",
    "for i in range(n):\n",
    "    if i == 0 or i == n-1:  # первая и последняя строка\n",
    "        print('* ' * n)\n",
    "    else:                   # средние строки\n",
    "        print('* ' + '  ' * (n-2) + '*')"
   ]
  },
  {
   "cell_type": "code",
   "execution_count": 284,
   "id": "e0dfe7ad",
   "metadata": {},
   "outputs": [
    {
     "name": "stdout",
     "output_type": "stream",
     "text": [
      "******\n",
      "******\n",
      "******\n",
      "******\n",
      "******\n",
      "******\n"
     ]
    }
   ],
   "source": [
    "n = int(input(\"Введите размер квадрата: \"))\n",
    "\n",
    "for i in range(n):\n",
    "    print('*' * n)"
   ]
  },
  {
   "cell_type": "code",
   "execution_count": 286,
   "id": "b0445ec0",
   "metadata": {},
   "outputs": [
    {
     "name": "stdout",
     "output_type": "stream",
     "text": [
      "1 2 3 4 5 6 7 8 9 0 \n",
      "1 2 3 4 5 6 7 8 9 0 \n",
      "1 2 3 4 5 6 7 8 9 0 \n",
      "1 2 3 4 5 6 7 8 9 0 \n",
      "1 2 3 4 5 6 7 8 9 0 \n",
      "1 2 3 4 5 6 7 8 9 0 \n",
      "1 2 3 4 5 6 7 8 9 0 \n",
      "1 2 3 4 5 6 7 8 9 0 \n",
      "1 2 3 4 5 6 7 8 9 0 \n",
      "1 2 3 4 5 6 7 8 9 0 \n"
     ]
    }
   ],
   "source": [
    "n = int(input(\"Введите размер квадрата: \"))\n",
    "\n",
    "for i in range(n):\n",
    "    for j in range(n):\n",
    "        print((i * n + j + 1) % 10, end=' ')  # цифры от 1 до n²\n",
    "    print()"
   ]
  },
  {
   "cell_type": "code",
   "execution_count": 287,
   "id": "aa1abe48",
   "metadata": {},
   "outputs": [
    {
     "name": "stdout",
     "output_type": "stream",
     "text": [
      "[[0, 1, 2], [1, 2, 3]]\n"
     ]
    }
   ],
   "source": [
    "matrix = [[i+j for j in range(3)] for i in range(2)]\n",
    "\n",
    "print(matrix)"
   ]
  },
  {
   "cell_type": "code",
   "execution_count": 292,
   "id": "c63a9064",
   "metadata": {},
   "outputs": [
    {
     "name": "stdout",
     "output_type": "stream",
     "text": [
      "15\n"
     ]
    }
   ],
   "source": [
    "result = 0\n",
    "for i in range(10):\n",
    "    num = int(input())\n",
    "    if num < 0:\n",
    "        break\n",
    "    result += num\n",
    "print(result)"
   ]
  },
  {
   "cell_type": "code",
   "execution_count": 295,
   "id": "d15417ee",
   "metadata": {},
   "outputs": [
    {
     "name": "stdout",
     "output_type": "stream",
     "text": [
      "Число 7 содержит цифру 7\n"
     ]
    }
   ],
   "source": [
    "num = int(input())\n",
    "number = num\n",
    "flag = False\n",
    "while num != 0:\n",
    "    last_digit = num % 10\n",
    "    if last_digit == 7:\n",
    "        flag = True\n",
    "        break        # прерываем цикл, так как число гарантированно содержит цифру 7\n",
    "    num //= 10\n",
    "\n",
    "if flag:  # эквивалентно if flag == True:\n",
    "    print('Число', number, 'содержит цифру 7')\n",
    "else:\n",
    "    print('Число', number, 'не содержит цифру 7')"
   ]
  },
  {
   "cell_type": "code",
   "execution_count": null,
   "id": "b53a59cd",
   "metadata": {},
   "outputs": [],
   "source": [
    "num = int(input())\n",
    "n = num\n",
    "while n != 0:\n",
    "    last = n % 10\n",
    "    if last == 7:\n",
    "        print('Число', num, 'содержит цифру 7')\n",
    "        break\n",
    "    n //= 10\n",
    "else:\n",
    "    print('Число', num, 'не содержит цифру 7')"
   ]
  },
  {
   "cell_type": "code",
   "execution_count": 296,
   "id": "42436be2",
   "metadata": {},
   "outputs": [
    {
     "name": "stdout",
     "output_type": "stream",
     "text": [
      "0*1*2*3*4*5*6*7*"
     ]
    }
   ],
   "source": [
    "for i in range(10):\n",
    "    print(i, end='*')\n",
    "    if i > 6:\n",
    "        break"
   ]
  },
  {
   "cell_type": "code",
   "execution_count": 297,
   "id": "0ae07d0d",
   "metadata": {},
   "outputs": [
    {
     "name": "stdout",
     "output_type": "stream",
     "text": [
      "100*80*60*"
     ]
    }
   ],
   "source": [
    "i = 100\n",
    "while i > 0:\n",
    "    if i == 40:\n",
    "        break\n",
    "    print(i, end='*')\n",
    "    i -= 20"
   ]
  },
  {
   "cell_type": "code",
   "execution_count": 298,
   "id": "29fede74",
   "metadata": {},
   "outputs": [
    {
     "name": "stdout",
     "output_type": "stream",
     "text": [
      "9*8*7*6*5*4*3*1*0*"
     ]
    }
   ],
   "source": [
    "n = 10\n",
    "while n > 0:\n",
    "    n -= 1\n",
    "    if n == 2:\n",
    "        continue\n",
    "    print(n, end='*')"
   ]
  },
  {
   "cell_type": "code",
   "execution_count": 299,
   "id": "1526bce1",
   "metadata": {},
   "outputs": [
    {
     "name": "stdout",
     "output_type": "stream",
     "text": [
      "25\n"
     ]
    }
   ],
   "source": [
    "result = 0\n",
    "for i in range(10):\n",
    "    if i % 2 == 0:\n",
    "        continue\n",
    "    result += i\n",
    "\n",
    "print(result)"
   ]
  },
  {
   "cell_type": "code",
   "execution_count": 300,
   "id": "933ad554",
   "metadata": {},
   "outputs": [
    {
     "name": "stdout",
     "output_type": "stream",
     "text": [
      "105\n"
     ]
    }
   ],
   "source": [
    "mult = 1\n",
    "for i in range(1, 11):\n",
    "    if i % 2 == 0:\n",
    "        continue\n",
    "    if i % 9 == 0:\n",
    "        break\n",
    "    mult *= i\n",
    "\n",
    "print(mult)\n"
   ]
  },
  {
   "cell_type": "code",
   "execution_count": null,
   "id": "85521002",
   "metadata": {},
   "outputs": [],
   "source": [
    "n = int(input())\n",
    "\n",
    "for i in range(2, n + 1):\n",
    "    if n % i == 0:\n",
    "        print(i)\n",
    "        break"
   ]
  },
  {
   "cell_type": "code",
   "execution_count": 301,
   "id": "b2c91174",
   "metadata": {},
   "outputs": [
    {
     "name": "stdout",
     "output_type": "stream",
     "text": [
      "2\n",
      "4\n",
      "6\n",
      "8\n",
      "10\n",
      "Цикл завершен.\n"
     ]
    }
   ],
   "source": [
    "n = 0\n",
    "while n < 10:\n",
    "    n += 2\n",
    "    print(n)\n",
    "else:\n",
    "    print('Цикл завершен.')"
   ]
  },
  {
   "cell_type": "code",
   "execution_count": 302,
   "id": "afbd7ab5",
   "metadata": {},
   "outputs": [
    {
     "name": "stdout",
     "output_type": "stream",
     "text": [
      "2\n",
      "4\n",
      "6\n"
     ]
    }
   ],
   "source": [
    "n = 0\n",
    "while n < 10:\n",
    "    n += 2\n",
    "    if n == 8:\n",
    "        break\n",
    "    print(n)\n",
    "else:\n",
    "    print('Цикл завершен.')"
   ]
  },
  {
   "cell_type": "code",
   "execution_count": 303,
   "id": "f283d460",
   "metadata": {},
   "outputs": [
    {
     "name": "stdout",
     "output_type": "stream",
     "text": [
      "2\n",
      "4\n",
      "6\n",
      "8\n",
      "10\n",
      "Цикл завершен.\n"
     ]
    }
   ],
   "source": [
    "n = 0\n",
    "while n < 10:\n",
    "    n += 2\n",
    "    if n == 7:\n",
    "        break\n",
    "    print(n)\n",
    "else:\n",
    "    print('Цикл завершен.')"
   ]
  },
  {
   "cell_type": "code",
   "execution_count": 309,
   "id": "a2acf5e9",
   "metadata": {},
   "outputs": [
    {
     "name": "stdout",
     "output_type": "stream",
     "text": [
      "5;6;7;8;9;10;"
     ]
    }
   ],
   "source": [
    "a = int(input())\n",
    "b = int(input())\n",
    "\n",
    "if a <= b:\n",
    "    for i in range(a, b + 1):\n",
    "        print(i, end=';')\n",
    "else:\n",
    "    for i in range(a, b - 1, -1):\n",
    "        print(i, end=';')"
   ]
  },
  {
   "cell_type": "code",
   "execution_count": 313,
   "id": "e5ce2a09",
   "metadata": {},
   "outputs": [
    {
     "name": "stdout",
     "output_type": "stream",
     "text": [
      "121\n"
     ]
    }
   ],
   "source": [
    "a = int(input())\n",
    "summa = 0\n",
    "for i in range(a):\n",
    "    summa = summa +  a\n",
    "print(summa)"
   ]
  },
  {
   "cell_type": "code",
   "execution_count": null,
   "id": "affe1646",
   "metadata": {},
   "outputs": [],
   "source": [
    "pin = input()\n",
    "\n",
    "# Проверяем, легко ли подобрать PIN-код\n",
    "def is_easy_to_guess(pin_code):\n",
    "    # Проверяем, что это строка из 4 цифр\n",
    "    if not (pin_code.isdigit() and len(pin_code) == 4):\n",
    "        return False\n",
    "    \n",
    "    # Проверяем различные простые комбинации\n",
    "    \n",
    "    # 1. Все цифры одинаковые (1111, 2222, ...)\n",
    "    if len(set(pin_code)) == 1:\n",
    "        return True\n",
    "    \n",
    "    # 2. Последовательные цифры (1234, 4567, ...)\n",
    "    digits = [int(d) for d in pin_code]\n",
    "    is_sequential_asc = all(digits[i] + 1 == digits[i+1] for i in range(len(digits)-1))\n",
    "    is_sequential_desc = all(digits[i] - 1 == digits[i+1] for i in range(len(digits)-1))\n",
    "    if is_sequential_asc or is_sequential_desc:\n",
    "        return True\n",
    "    \n",
    "    # 3. Повторяющиеся пары (1212, 3434, ...)\n",
    "    if len(pin_code) == 4 and pin_code[:2] == pin_code[2:]:\n",
    "        return True\n",
    "    \n",
    "    # 4. Зеркальные комбинации (1221, 1331, ...)\n",
    "    if pin_code == pin_code[::-1]:\n",
    "        return True\n",
    "    \n",
    "    # 5. Популярные комбинации\n",
    "    popular_pins = {'0000', '1111', '1234', '4321', '2580', '0852', '1212', '1004'}\n",
    "    if pin_code in popular_pins:\n",
    "        return True\n",
    "    \n",
    "    return False\n",
    "\n",
    "if is_easy_to_guess(pin):\n",
    "    print(\"ДА\")\n",
    "else:\n",
    "    print(\"НЕТ\")"
   ]
  },
  {
   "cell_type": "code",
   "execution_count": null,
   "id": "c53b5e7f",
   "metadata": {},
   "outputs": [],
   "source": [
    "pin = input()\n",
    "\n",
    "# Если PIN состоит из 4 цифр - его можно \"подобрать\" (перебором)\n",
    "if pin.isdigit() and len(pin) == 4:\n",
    "    print(\"ДА\")\n",
    "else:\n",
    "    print(\"НЕТ\")"
   ]
  },
  {
   "cell_type": "code",
   "execution_count": null,
   "id": "cfc00c1c",
   "metadata": {},
   "outputs": [],
   "source": [
    "data = input()\n",
    "control = int(input())\n",
    "\n",
    "# Извлекаем все цифры и преобразуем в числа\n",
    "digits = [int(char) for char in data if char.isdigit()]\n",
    "\n",
    "if digits:\n",
    "    result = sum(digits) * len(digits)\n",
    "else:\n",
    "    result = 0\n",
    "\n",
    "print(\"ДА\" if result == control else \"НЕТ\")"
   ]
  },
  {
   "cell_type": "code",
   "execution_count": null,
   "id": "b0aea15e",
   "metadata": {},
   "outputs": [],
   "source": [
    "# Считываем строку с данными и контрольную сумму\n",
    "data_string = input()\n",
    "control_sum = int(input())\n",
    "\n",
    "# Ищем все цифры в строке\n",
    "digits = []\n",
    "for char in data_string:\n",
    "    if char.isdigit():  # Проверяем, является ли символ цифрой\n",
    "        digits.append(int(char))\n",
    "\n",
    "# Вычисляем сумму и количество цифр\n",
    "if digits:\n",
    "    total_sum = sum(digits)\n",
    "    count = len(digits)\n",
    "    product = total_sum * count\n",
    "else:\n",
    "    # Если цифр нет, то сумма=0, количество=0, произведение=0\n",
    "    total_sum = 0\n",
    "    count = 0\n",
    "    product = 0\n",
    "\n",
    "# Сравниваем с контрольной суммой\n",
    "if product == control_sum:\n",
    "    print(\"ДА\")\n",
    "else:\n",
    "    print(\"НЕТ\")"
   ]
  },
  {
   "cell_type": "code",
   "execution_count": 314,
   "id": "980dc20e",
   "metadata": {},
   "outputs": [
    {
     "name": "stdout",
     "output_type": "stream",
     "text": [
      "apple\n",
      "banana\n",
      "orange\n"
     ]
    }
   ],
   "source": [
    "fruits = [\"apple\", \"banana\", \"orange\"]\n",
    "for fruit in fruits:\n",
    "    print(fruit)"
   ]
  },
  {
   "cell_type": "code",
   "execution_count": 315,
   "id": "3b06b991",
   "metadata": {},
   "outputs": [
    {
     "name": "stdout",
     "output_type": "stream",
     "text": [
      "5050\n"
     ]
    }
   ],
   "source": [
    "total = 0\n",
    "for i in range(1, 101):\n",
    "    total += i\n",
    "print(total)"
   ]
  },
  {
   "cell_type": "code",
   "execution_count": 316,
   "id": "f8ddea99",
   "metadata": {},
   "outputs": [
    {
     "name": "stdout",
     "output_type": "stream",
     "text": [
      "п\n",
      "о\n",
      "р\n",
      "м\n",
      "и\n",
      "о\n",
      "а\n",
      "и\n"
     ]
    }
   ],
   "source": [
    "text = \"программирование\"\n",
    "for i in range(0, len(text), 2):\n",
    "    print(text[i])"
   ]
  },
  {
   "cell_type": "code",
   "execution_count": 318,
   "id": "fc7e1bd2",
   "metadata": {},
   "outputs": [
    {
     "name": "stdout",
     "output_type": "stream",
     "text": [
      "Слишком мало!\n",
      "Слишком мало!\n",
      "Слишком мало!\n",
      "Поздравляю! Угадал!\n"
     ]
    }
   ],
   "source": [
    "import random\n",
    "secret = random.randint(1, 10)\n",
    "guess = 0\n",
    "\n",
    "while guess != secret:\n",
    "    guess = int(input(\"Угадай число от 1 до 10: \"))\n",
    "    if guess < secret:\n",
    "        print(\"Слишком мало!\")\n",
    "    elif guess > secret:\n",
    "        print(\"Слишком много!\")\n",
    "print(\"Поздравляю! Угадал!\")"
   ]
  },
  {
   "cell_type": "code",
   "execution_count": 319,
   "id": "e051aa89",
   "metadata": {},
   "outputs": [
    {
     "name": "stdout",
     "output_type": "stream",
     "text": [
      "Выполняю: 11-1\n",
      "Выполняю: 22\n",
      "Выполняю: 22-1\n"
     ]
    }
   ],
   "source": [
    "while True:\n",
    "    command = input(\"Введите команду (стоп для выхода): \")\n",
    "    if command == \"стоп\":\n",
    "        break\n",
    "    print(f\"Выполняю: {command}\")"
   ]
  },
  {
   "cell_type": "code",
   "execution_count": 323,
   "id": "da6c5593",
   "metadata": {},
   "outputs": [
    {
     "name": "stdout",
     "output_type": "stream",
     "text": [
      "Общая сумма: 36\n"
     ]
    }
   ],
   "source": [
    "total = 0\n",
    "number = int(input(\"Введите число (0 для выхода): \"))\n",
    "\n",
    "while number != 0:\n",
    "    total += number\n",
    "    number = int(input(\"Введите число (0 для выхода): \"))\n",
    "    \n",
    "print(f\"Общая сумма: {total}\")"
   ]
  },
  {
   "cell_type": "code",
   "execution_count": 324,
   "id": "b8d4155d",
   "metadata": {},
   "outputs": [
    {
     "name": "stdout",
     "output_type": "stream",
     "text": [
      "2\n",
      "3\n",
      "5\n",
      "7\n"
     ]
    }
   ],
   "source": [
    "n = int(input(\"До какого числа искать простые: \"))\n",
    "for num in range(2, n + 1):\n",
    "    is_prime = True\n",
    "    for i in range(2, int(num ** 0.5) + 1):\n",
    "        if num % i == 0:\n",
    "            is_prime = False\n",
    "            break\n",
    "    if is_prime:\n",
    "        print(num)"
   ]
  },
  {
   "cell_type": "code",
   "execution_count": 325,
   "id": "70ca4f3f",
   "metadata": {},
   "outputs": [
    {
     "name": "stdout",
     "output_type": "stream",
     "text": [
      "1 × 1 = 1\n",
      "1 × 2 = 2\n",
      "1 × 3 = 3\n",
      "1 × 4 = 4\n",
      "1 × 5 = 5\n",
      "1 × 6 = 6\n",
      "1 × 7 = 7\n",
      "1 × 8 = 8\n",
      "1 × 9 = 9\n",
      "\n",
      "2 × 1 = 2\n",
      "2 × 2 = 4\n",
      "2 × 3 = 6\n",
      "2 × 4 = 8\n",
      "2 × 5 = 10\n",
      "2 × 6 = 12\n",
      "2 × 7 = 14\n",
      "2 × 8 = 16\n",
      "2 × 9 = 18\n",
      "\n",
      "3 × 1 = 3\n",
      "3 × 2 = 6\n",
      "3 × 3 = 9\n",
      "3 × 4 = 12\n",
      "3 × 5 = 15\n",
      "3 × 6 = 18\n",
      "3 × 7 = 21\n",
      "3 × 8 = 24\n",
      "3 × 9 = 27\n",
      "\n",
      "4 × 1 = 4\n",
      "4 × 2 = 8\n",
      "4 × 3 = 12\n",
      "4 × 4 = 16\n",
      "4 × 5 = 20\n",
      "4 × 6 = 24\n",
      "4 × 7 = 28\n",
      "4 × 8 = 32\n",
      "4 × 9 = 36\n",
      "\n",
      "5 × 1 = 5\n",
      "5 × 2 = 10\n",
      "5 × 3 = 15\n",
      "5 × 4 = 20\n",
      "5 × 5 = 25\n",
      "5 × 6 = 30\n",
      "5 × 7 = 35\n",
      "5 × 8 = 40\n",
      "5 × 9 = 45\n",
      "\n",
      "6 × 1 = 6\n",
      "6 × 2 = 12\n",
      "6 × 3 = 18\n",
      "6 × 4 = 24\n",
      "6 × 5 = 30\n",
      "6 × 6 = 36\n",
      "6 × 7 = 42\n",
      "6 × 8 = 48\n",
      "6 × 9 = 54\n",
      "\n",
      "7 × 1 = 7\n",
      "7 × 2 = 14\n",
      "7 × 3 = 21\n",
      "7 × 4 = 28\n",
      "7 × 5 = 35\n",
      "7 × 6 = 42\n",
      "7 × 7 = 49\n",
      "7 × 8 = 56\n",
      "7 × 9 = 63\n",
      "\n",
      "8 × 1 = 8\n",
      "8 × 2 = 16\n",
      "8 × 3 = 24\n",
      "8 × 4 = 32\n",
      "8 × 5 = 40\n",
      "8 × 6 = 48\n",
      "8 × 7 = 56\n",
      "8 × 8 = 64\n",
      "8 × 9 = 72\n",
      "\n",
      "9 × 1 = 9\n",
      "9 × 2 = 18\n",
      "9 × 3 = 27\n",
      "9 × 4 = 36\n",
      "9 × 5 = 45\n",
      "9 × 6 = 54\n",
      "9 × 7 = 63\n",
      "9 × 8 = 72\n",
      "9 × 9 = 81\n",
      "\n"
     ]
    }
   ],
   "source": [
    "for i in range(1, 10):\n",
    "    for j in range(1, 10):\n",
    "        print(f\"{i} × {j} = {i * j}\")\n",
    "    print()  # пустая строка между таблицами"
   ]
  },
  {
   "cell_type": "code",
   "execution_count": 326,
   "id": "dddd3617",
   "metadata": {},
   "outputs": [
    {
     "name": "stdout",
     "output_type": "stream",
     "text": [
      "Гласных: 4\n",
      "Согласных: 8\n"
     ]
    }
   ],
   "source": [
    "text = input(\"Введите текст: \")\n",
    "vowels = \"аеёиоуыэюя\"\n",
    "vowel_count = 0\n",
    "consonant_count = 0\n",
    "\n",
    "for letter in text.lower():\n",
    "    if letter in vowels:\n",
    "        vowel_count += 1\n",
    "    elif letter.isalpha():\n",
    "        consonant_count += 1\n",
    "\n",
    "print(f\"Гласных: {vowel_count}\")\n",
    "print(f\"Согласных: {consonant_count}\")"
   ]
  },
  {
   "cell_type": "code",
   "execution_count": 327,
   "id": "4fdec727",
   "metadata": {},
   "outputs": [
    {
     "name": "stdout",
     "output_type": "stream",
     "text": [
      "2^0 = 1\n",
      "2^1 = 2\n",
      "2^2 = 4\n",
      "2^3 = 8\n",
      "2^4 = 16\n",
      "2^5 = 32\n",
      "2^6 = 64\n",
      "2^7 = 128\n",
      "2^8 = 256\n",
      "2^9 = 512\n",
      "2^10 = 1024\n"
     ]
    }
   ],
   "source": [
    "# Вывести 2 в степени от 0 до 10\n",
    "for exponent in range(11):\n",
    "    print(f\"2^{exponent} = {2 ** exponent}\")"
   ]
  },
  {
   "cell_type": "code",
   "execution_count": 328,
   "id": "cc1534a6",
   "metadata": {},
   "outputs": [
    {
     "name": "stdout",
     "output_type": "stream",
     "text": [
      "'a' = 97\n",
      "'b' = 98\n",
      "'c' = 99\n",
      "'d' = 100\n",
      "'e' = 101\n",
      "'f' = 102\n",
      "'g' = 103\n",
      "'h' = 104\n",
      "'i' = 105\n",
      "'j' = 106\n",
      "'k' = 107\n",
      "'l' = 108\n",
      "'m' = 109\n",
      "'n' = 110\n",
      "'o' = 111\n",
      "'p' = 112\n",
      "'q' = 113\n",
      "'r' = 114\n",
      "'s' = 115\n",
      "'t' = 116\n",
      "'u' = 117\n",
      "'v' = 118\n",
      "'w' = 119\n",
      "'x' = 120\n",
      "'y' = 121\n",
      "'z' = 122\n"
     ]
    }
   ],
   "source": [
    "# Вывести буквы от 'a' до 'z' и их ASCII коды\n",
    "for char in \"abcdefghijklmnopqrstuvwxyz\":\n",
    "    print(f\"'{char}' = {ord(char)}\")"
   ]
  },
  {
   "cell_type": "code",
   "execution_count": 330,
   "id": "ce92b35c",
   "metadata": {},
   "outputs": [
    {
     "name": "stdout",
     "output_type": "stream",
     "text": [
      "55 × 2 = 110\n"
     ]
    }
   ],
   "source": [
    "# Умножить 2 числа используя только сложение\n",
    "a = 55\n",
    "b = 2\n",
    "result = 0\n",
    "counter = 0\n",
    "\n",
    "while counter < b:\n",
    "    result += a\n",
    "    counter += 1\n",
    "    \n",
    "print(f\"{a} × {b} = {result}\")"
   ]
  },
  {
   "cell_type": "code",
   "execution_count": 331,
   "id": "f211e6b3",
   "metadata": {},
   "outputs": [
    {
     "name": "stdout",
     "output_type": "stream",
     "text": [
      "Делители числа 28:\n",
      "1\n",
      "2\n",
      "4\n",
      "7\n",
      "14\n",
      "28\n"
     ]
    }
   ],
   "source": [
    "# Найти все делители числа\n",
    "number = 28\n",
    "divisor = 1\n",
    "\n",
    "print(f\"Делители числа {number}:\")\n",
    "while divisor <= number:\n",
    "    if number % divisor == 0:\n",
    "        print(divisor)\n",
    "    divisor += 1"
   ]
  },
  {
   "cell_type": "code",
   "execution_count": 332,
   "id": "3afe8f4c",
   "metadata": {},
   "outputs": [
    {
     "name": "stdout",
     "output_type": "stream",
     "text": [
      "5! = 120\n"
     ]
    }
   ],
   "source": [
    "# Вычислить факториал числа\n",
    "n = 5\n",
    "factorial = 1\n",
    "i = 1\n",
    "\n",
    "while i <= n:\n",
    "    factorial *= i\n",
    "    i += 1\n",
    "    \n",
    "print(f\"{n}! = {factorial}\")"
   ]
  },
  {
   "cell_type": "code",
   "execution_count": 335,
   "id": "e843c8c7",
   "metadata": {},
   "outputs": [
    {
     "name": "stdout",
     "output_type": "stream",
     "text": [
      "Год 1: 110000.00 руб\n",
      "Год 2: 121000.00 руб\n",
      "Год 3: 133100.00 руб\n",
      "Год 4: 146410.00 руб\n",
      "Год 5: 161051.00 руб\n",
      "Год 6: 177156.10 руб\n",
      "Год 7: 194871.71 руб\n",
      "Год 8: 214358.88 руб\n",
      "Год 9: 235794.77 руб\n",
      "Год 10: 259374.25 руб\n",
      "Год 11: 285311.67 руб\n",
      "Год 12: 313842.84 руб\n",
      "Год 13: 345227.12 руб\n",
      "Год 14: 379749.83 руб\n",
      "Год 15: 417724.82 руб\n",
      "Год 16: 459497.30 руб\n",
      "Год 17: 505447.03 руб\n",
      "Вклад удвоится через 17 лет\n"
     ]
    }
   ],
   "source": [
    "# Рассчитать через сколько лет вклад удвоится\n",
    "deposit = 100000\n",
    "target = 500000\n",
    "years = 0\n",
    "interest_rate = 0.1  # 10%\n",
    "\n",
    "while deposit < target:\n",
    "    deposit += deposit * interest_rate\n",
    "    years += 1\n",
    "    print(f\"Год {years}: {deposit:.2f} руб\")\n",
    "    \n",
    "print(f\"Вклад удвоится через {years} лет\")"
   ]
  },
  {
   "cell_type": "code",
   "execution_count": 337,
   "id": "9d5cd828",
   "metadata": {},
   "outputs": [
    {
     "name": "stdout",
     "output_type": "stream",
     "text": [
      "Слово 'топор' не является палиндромом\n"
     ]
    }
   ],
   "source": [
    "# Проверить, является ли слово палиндромом\n",
    "word = \"топор\"\n",
    "is_palindrome = True\n",
    "\n",
    "for i in range(len(word) // 2):\n",
    "    if word[i] != word[len(word) - 1 - i]:\n",
    "        is_palindrome = False\n",
    "        break\n",
    "\n",
    "print(f\"Слово '{word}' {'является' if is_palindrome else 'не является'} палиндромом\")"
   ]
  },
  {
   "cell_type": "code",
   "execution_count": 339,
   "id": "c5aae76d",
   "metadata": {},
   "outputs": [
    {
     "name": "stdout",
     "output_type": "stream",
     "text": [
      "Простые числа от 2 до 10:\n",
      "2\n",
      "3\n",
      "5\n",
      "7\n"
     ]
    }
   ],
   "source": [
    "# Найти все простые числа от 2 до N\n",
    "N = 10\n",
    "print(f\"Простые числа от 2 до {N}:\")\n",
    "\n",
    "for num in range(2, N + 1):\n",
    "    is_prime = True\n",
    "    i = 2\n",
    "    while i * i <= num:\n",
    "        if num % i == 0:\n",
    "            is_prime = False\n",
    "            break\n",
    "        i += 1\n",
    "    if is_prime:\n",
    "        print(num)"
   ]
  },
  {
   "cell_type": "code",
   "execution_count": 341,
   "id": "73b043a6",
   "metadata": {},
   "outputs": [
    {
     "name": "stdout",
     "output_type": "stream",
     "text": [
      "Исходное: Дима долбаеб\n",
      "Зашифрованное: злпг зсодгид\n"
     ]
    }
   ],
   "source": [
    "# Зашифровать сообщение сдвигом на 3 буквы\n",
    "message = \"Дима долбаеб\"\n",
    "shift = 3\n",
    "encrypted = \"\"\n",
    "\n",
    "for char in message:\n",
    "    if char.isalpha():\n",
    "        new_char = chr((ord(char) - ord('а') + shift) % 32 + ord('а'))\n",
    "        encrypted += new_char\n",
    "    else:\n",
    "        encrypted += char\n",
    "\n",
    "print(f\"Исходное: {message}\")\n",
    "print(f\"Зашифрованное: {encrypted}\")"
   ]
  },
  {
   "cell_type": "code",
   "execution_count": 342,
   "id": "9f853529",
   "metadata": {},
   "outputs": [
    {
     "name": "stdout",
     "output_type": "stream",
     "text": [
      "Угадай число от 1 до 100! У тебя 7 попыток.\n",
      "Загаданное число БОЛЬШЕ\n",
      "Осталось попыток: 6\n",
      "Загаданное число МЕНЬШЕ\n",
      "Осталось попыток: 5\n",
      "Загаданное число МЕНЬШЕ\n",
      "Осталось попыток: 4\n",
      "Загаданное число БОЛЬШЕ\n",
      "Осталось попыток: 3\n",
      "Загаданное число МЕНЬШЕ\n",
      "Осталось попыток: 2\n",
      "Загаданное число БОЛЬШЕ\n",
      "Осталось попыток: 1\n",
      "Поздравляю! Угадал за 7 попыток!\n"
     ]
    }
   ],
   "source": [
    "import random\n",
    "\n",
    "number = random.randint(1, 100)\n",
    "attempts = 0\n",
    "max_attempts = 7\n",
    "\n",
    "print(\"Угадай число от 1 до 100! У тебя 7 попыток.\")\n",
    "\n",
    "while attempts < max_attempts:\n",
    "    guess = int(input(\"Твоя догадка: \"))\n",
    "    attempts += 1\n",
    "    \n",
    "    if guess == number:\n",
    "        print(f\"Поздравляю! Угадал за {attempts} попыток!\")\n",
    "        break\n",
    "    elif guess < number:\n",
    "        print(\"Загаданное число БОЛЬШЕ\")\n",
    "    else:\n",
    "        print(\"Загаданное число МЕНЬШЕ\")\n",
    "        \n",
    "    print(f\"Осталось попыток: {max_attempts - attempts}\")\n",
    "else:\n",
    "    print(f\"Попытки закончились! Загаданное число было: {number}\")"
   ]
  },
  {
   "cell_type": "code",
   "execution_count": 343,
   "id": "9ee5fc66",
   "metadata": {},
   "outputs": [
    {
     "name": "stdout",
     "output_type": "stream",
     "text": [
      "Средний балл: 4.00\n"
     ]
    }
   ],
   "source": [
    "# Посчитать средний балл\n",
    "total = 0\n",
    "count = 0\n",
    "\n",
    "while True:\n",
    "    grade = input(\"Введите оценку (или 'стоп' для завершения): \")\n",
    "    if grade.lower() == 'стоп':\n",
    "        break\n",
    "    total += int(grade)\n",
    "    count += 1\n",
    "\n",
    "if count > 0:\n",
    "    average = total / count\n",
    "    print(f\"Средний балл: {average:.2f}\")\n",
    "else:\n",
    "    print(\"Оценок не введено\")"
   ]
  },
  {
   "cell_type": "code",
   "execution_count": 344,
   "id": "8407cbe7",
   "metadata": {},
   "outputs": [
    {
     "name": "stdout",
     "output_type": "stream",
     "text": [
      "Статистика текста:\n",
      "буквы: 15\n",
      "цифры: 4\n",
      "пробелы: 1\n",
      "другие: 0\n"
     ]
    }
   ],
   "source": [
    "text = input(\"Введите текст: \")\n",
    "stats = {\n",
    "    'буквы': 0,\n",
    "    'цифры': 0, \n",
    "    'пробелы': 0,\n",
    "    'другие': 0\n",
    "}\n",
    "\n",
    "for char in text:\n",
    "    if char.isalpha():\n",
    "        stats['буквы'] += 1\n",
    "    elif char.isdigit():\n",
    "        stats['цифры'] += 1\n",
    "    elif char.isspace():\n",
    "        stats['пробелы'] += 1\n",
    "    else:\n",
    "        stats['другие'] += 1\n",
    "\n",
    "print(\"Статистика текста:\")\n",
    "for category, count in stats.items():\n",
    "    print(f\"{category}: {count}\")"
   ]
  },
  {
   "cell_type": "code",
   "execution_count": 345,
   "id": "8185e87d",
   "metadata": {},
   "outputs": [
    {
     "name": "stdout",
     "output_type": "stream",
     "text": [
      "Числа Фибоначчи:\n",
      "0 1 1 2 3 5 8 13 21 34 "
     ]
    }
   ],
   "source": [
    "# Вывести первые N чисел Фибоначчи\n",
    "n = 10\n",
    "a, b = 0, 1\n",
    "\n",
    "print(\"Числа Фибоначчи:\")\n",
    "for i in range(n):\n",
    "    print(a, end=\" \")\n",
    "    a, b = b, a + b"
   ]
  },
  {
   "cell_type": "code",
   "execution_count": 355,
   "id": "22b9bd5b",
   "metadata": {},
   "outputs": [
    {
     "name": "stdout",
     "output_type": "stream",
     "text": [
      "НОД(56, 98) = 300\n"
     ]
    }
   ],
   "source": [
    "# Найти наибольший общий делитель\n",
    "a = 1200\n",
    "b = 300\n",
    "\n",
    "while b != 0:\n",
    "    a, b = b, a % b\n",
    "\n",
    "print(f\"НОД(56, 98) = {a}\")"
   ]
  },
  {
   "cell_type": "code",
   "execution_count": 356,
   "id": "ec86b6f8",
   "metadata": {},
   "outputs": [
    {
     "name": "stdout",
     "output_type": "stream",
     "text": [
      "2 × 2 × 3 × 7\n"
     ]
    }
   ],
   "source": [
    "# Разложить число на простые множители\n",
    "number = 84\n",
    "divisor = 2\n",
    "factors = []\n",
    "\n",
    "while number > 1:\n",
    "    while number % divisor == 0:\n",
    "        factors.append(divisor)\n",
    "        number //= divisor\n",
    "    divisor += 1\n",
    "\n",
    "print(\" × \".join(map(str, factors)))"
   ]
  },
  {
   "cell_type": "code",
   "execution_count": 357,
   "id": "3a8c1050",
   "metadata": {},
   "outputs": [
    {
     "name": "stdout",
     "output_type": "stream",
     "text": [
      "Частота букв:\n",
      "'п': 1\n",
      "'р': 4\n",
      "'о': 4\n",
      "'г': 1\n",
      "'а': 2\n",
      "'м': 2\n",
      "'и': 3\n",
      "'в': 1\n",
      "'н': 3\n",
      "'е': 3\n",
      "'э': 1\n",
      "'т': 2\n",
      "'с': 1\n"
     ]
    }
   ],
   "source": [
    "# Посчитать сколько раз каждая буква встречается в тексте\n",
    "text = \"программирование это интересно\".lower()\n",
    "letter_count = {}\n",
    "\n",
    "for char in text:\n",
    "    if char.isalpha():  # только буквы\n",
    "        if char in letter_count:\n",
    "            letter_count[char] += 1\n",
    "        else:\n",
    "            letter_count[char] = 1\n",
    "\n",
    "print(\"Частота букв:\")\n",
    "for letter, count in letter_count.items():\n",
    "    print(f\"'{letter}': {count}\")"
   ]
  },
  {
   "cell_type": "code",
   "execution_count": 358,
   "id": "b718ccad",
   "metadata": {},
   "outputs": [
    {
     "name": "stdout",
     "output_type": "stream",
     "text": [
      "Средние баллы:\n",
      "Иван: 4.25\n",
      "Мария: 4.75\n",
      "Петр: 3.00\n",
      "Анна: 4.75\n"
     ]
    }
   ],
   "source": [
    "# Посчитать средний балл для каждого студента\n",
    "students = {\n",
    "    'Иван': [4, 5, 3, 5],\n",
    "    'Мария': [5, 5, 4, 5],\n",
    "    'Петр': [3, 4, 3, 2],\n",
    "    'Анна': [5, 4, 5, 5]\n",
    "}\n",
    "\n",
    "averages = {}\n",
    "for name, grades in students.items():\n",
    "    averages[name] = sum(grades) / len(grades)\n",
    "\n",
    "print(\"Средние баллы:\")\n",
    "for name, avg in averages.items():\n",
    "    print(f\"{name}: {avg:.2f}\")"
   ]
  },
  {
   "cell_type": "code",
   "execution_count": 359,
   "id": "63bdae5a",
   "metadata": {},
   "outputs": [
    {
     "name": "stdout",
     "output_type": "stream",
     "text": [
      "10000.0 USD = 750000.00 RUB\n"
     ]
    }
   ],
   "source": [
    "# Конвертировать суммы между валютами\n",
    "exchange_rates = {\n",
    "    'USD': 1.0,\n",
    "    'EUR': 0.85,\n",
    "    'RUB': 75.0,\n",
    "    'JPY': 110.0\n",
    "}\n",
    "\n",
    "amount = float(input(\"Введите сумму: \"))\n",
    "from_currency = input(\"Из валюты (USD/EUR/RUB/JPY): \").upper()\n",
    "to_currency = input(\"В валюту (USD/EUR/RUB/JPY): \").upper()\n",
    "\n",
    "# Конвертация через USD\n",
    "usd_amount = amount / exchange_rates[from_currency]\n",
    "result = usd_amount * exchange_rates[to_currency]\n",
    "\n",
    "print(f\"{amount} {from_currency} = {result:.2f} {to_currency}\")"
   ]
  },
  {
   "cell_type": "code",
   "execution_count": 364,
   "id": "a8dd4842",
   "metadata": {},
   "outputs": [
    {
     "name": "stdout",
     "output_type": "stream",
     "text": [
      "\n",
      "1. Добавить контакт\n",
      "2. Найти контакт\n",
      "3. Показать все контакты\n",
      "4. Выйти\n",
      "\n",
      "Все контакты:\n",
      "\n",
      "1. Добавить контакт\n",
      "2. Найти контакт\n",
      "3. Показать все контакты\n",
      "4. Выйти\n",
      "Контакт аня добавлен!\n",
      "Контакт 3 добавлен!\n",
      "\n",
      "1. Добавить контакт\n",
      "2. Найти контакт\n",
      "3. Показать все контакты\n",
      "4. Выйти\n",
      "\n",
      "Все контакты:\n",
      "аня: 9999\n",
      "3: 33\n",
      "\n",
      "1. Добавить контакт\n",
      "2. Найти контакт\n",
      "3. Показать все контакты\n",
      "4. Выйти\n"
     ]
    }
   ],
   "source": [
    "# Простая телефонная книга\n",
    "phonebook = {}\n",
    "\n",
    "while True:\n",
    "    print(\"\\n1. Добавить контакт\")\n",
    "    print(\"2. Найти контакт\") \n",
    "    print(\"3. Показать все контакты\")\n",
    "    print(\"4. Выйти\")\n",
    "    \n",
    "    choice = input(\"Выберите действие: \")\n",
    "    \n",
    "    if choice == '1':\n",
    "        name = input(\"Имя: Дима\")\n",
    "        phone = input(\"Телефон: 899\")\n",
    "        phonebook[name] = phone\n",
    "        print(f\"Контакт {name} добавлен!\")\n",
    "    if choice == '1':\n",
    "        name = input(\"Имя: Жора\")\n",
    "        phone = input(\"Телефон: 8919\")\n",
    "        phonebook[name] = phone\n",
    "        print(f\"Контакт {name} добавлен!\")\n",
    "    elif choice == '2':\n",
    "        name = input(\"Введите имя для поиска: \")\n",
    "        if name in phonebook:\n",
    "            print(f\"{name}: {phonebook[name]}\")\n",
    "        else:\n",
    "            print(\"Контакт не найден\")\n",
    "            \n",
    "    elif choice == '3':\n",
    "        print(\"\\nВсе контакты:\")\n",
    "        for name, phone in phonebook.items():\n",
    "            print(f\"{name}: {phone}\")\n",
    "            \n",
    "    elif choice == '4':\n",
    "        break"
   ]
  },
  {
   "cell_type": "code",
   "execution_count": 365,
   "id": "9086d7fe",
   "metadata": {},
   "outputs": [
    {
     "name": "stdout",
     "output_type": "stream",
     "text": [
      "Анализ оценок:\n",
      "\n",
      "Математика:\n",
      "  средний: 3.80\n",
      "  максимум: 5\n",
      "  минимум: 2\n",
      "  количество: 5\n",
      "\n",
      "Физика:\n",
      "  средний: 4.00\n",
      "  максимум: 5\n",
      "  минимум: 3\n",
      "  количество: 4\n",
      "\n",
      "История:\n",
      "  средний: 4.80\n",
      "  максимум: 5\n",
      "  минимум: 4\n",
      "  количество: 5\n",
      "\n",
      "Литература:\n",
      "  средний: 3.00\n",
      "  максимум: 4\n",
      "  минимум: 2\n",
      "  количество: 4\n"
     ]
    }
   ],
   "source": [
    "# Проанализировать оценки по предметам\n",
    "grades = {\n",
    "    'Математика': [5, 4, 3, 5, 2],\n",
    "    'Физика': [4, 4, 5, 3],\n",
    "    'История': [5, 5, 4, 5, 5],\n",
    "    'Литература': [3, 4, 3, 2]\n",
    "}\n",
    "\n",
    "analysis = {}\n",
    "\n",
    "for subject, marks in grades.items():\n",
    "    analysis[subject] = {\n",
    "        'средний': sum(marks) / len(marks),\n",
    "        'максимум': max(marks),\n",
    "        'минимум': min(marks),\n",
    "        'количество': len(marks)\n",
    "    }\n",
    "\n",
    "print(\"Анализ оценок:\")\n",
    "for subject, stats in analysis.items():\n",
    "    print(f\"\\n{subject}:\")\n",
    "    for stat_name, value in stats.items():\n",
    "        print(f\"  {stat_name}: {value:.2f}\" if isinstance(value, float) else f\"  {stat_name}: {value}\")"
   ]
  },
  {
   "cell_type": "code",
   "execution_count": 372,
   "id": "a54aace3",
   "metadata": {},
   "outputs": [
    {
     "name": "stdout",
     "output_type": "stream",
     "text": [
      "dict_keys(['name', 'age', 'grades', 'city'])\n",
      "['name', 'age', 'grades', 'city']\n",
      "Ключ: name\n",
      "Ключ: age\n",
      "Ключ: grades\n",
      "Ключ: city\n",
      "dict_values(['Иван', 20, [4, 5, 3, 5], 'Москва'])\n",
      "['Иван', 20, [4, 5, 3, 5], 'Москва']\n",
      "Есть студент Иван\n",
      "dict_items([('name', 'Иван'), ('age', 20), ('grades', [4, 5, 3, 5]), ('city', 'Москва')])\n",
      "name: Иван\n",
      "age: 20\n",
      "grades: [4, 5, 3, 5]\n",
      "city: Москва\n",
      "None\n",
      "16\n",
      "Иван\n",
      "Иван\n",
      "8-800-000-00-00\n",
      "{'name': 'Иван', 'age': 20, 'grades': [4, 5, 3, 5], 'city': 'Москва', 'phone': '8-800-000-00-00'}\n",
      "Иван\n",
      "8-800-000-00-00\n",
      "{'name': 'Иван', 'age': 20, 'grades': [4, 5, 3, 5], 'city': 'Москва', 'phone': '8-800-000-00-00'}\n",
      "{'name': 'Иван', 'age': 20, 'grades': [4, 5, 3, 5], 'city': 'Москва', 'phone': '123-45-67', 'email': 'ivan@mail.ru'}\n",
      "{'name': 'Иван', 'age': 21, 'grades': [4, 5, 3, 5], 'city': 'Санкт-Петербург', 'phone': '123-45-67', 'email': 'ivan@mail.ru'}\n",
      "{'name': 'Иван', 'age': 22, 'grades': [4, 5, 3, 5], 'city': 'Санкт-Петербург', 'phone': '123-45-67', 'email': 'ivan@mail.ru', 'hobby': 'футбол'}\n"
     ]
    }
   ],
   "source": [
    "student = {\n",
    "    'name': 'Иван',\n",
    "    'age': 20,\n",
    "    'grades': [4, 5, 3, 5],\n",
    "    'city': 'Москва'\n",
    "}\n",
    "# Получить все ключи словаря\n",
    "keys = student.keys()\n",
    "print(keys)  # dict_keys(['name', 'age', 'grades', 'city'])\n",
    "print(list(keys))  # ['name', 'age', 'grades', 'city']\n",
    "\n",
    "# Использование в цикле\n",
    "for key in student.keys():\n",
    "    print(f\"Ключ: {key}\")\n",
    "# Получить все значения словаря\n",
    "values = student.values()\n",
    "print(values)  # dict_values(['Иван', 20, [4, 5, 3, 5], 'Москва'])\n",
    "print(list(values))  # ['Иван', 20, [4, 5, 3, 5], 'Москва']\n",
    "\n",
    "# Поиск по значениям\n",
    "if 'Иван' in student.values():\n",
    "    print(\"Есть студент Иван\")\n",
    "# Получить все пары ключ-значение\n",
    "items = student.items()\n",
    "print(items)  # dict_items([('name', 'Иван'), ('age', 20), ...])\n",
    "\n",
    "# Использование в цикле (самый частый случай!)\n",
    "for key, value in student.items():\n",
    "    print(f\"{key}: {value}\")\n",
    "# Обычный доступ - может вызвать ошибку\n",
    "# print(student['phone'])  # KeyError!\n",
    "\n",
    "# Безопасный доступ с get()\n",
    "phone = student.get('phone')\n",
    "print(phone)  # None (не ошибка!)\n",
    "\n",
    "# С значением по умолчанию\n",
    "phone = student.get('phone', '16')\n",
    "print(phone)  # 'Не указан'\n",
    "\n",
    "name = student.get('name', 'Ваня')\n",
    "print(name)  # 'Иван'\n",
    "# Если ключ есть - вернет значение\n",
    "name = student.setdefault('name', 'Аноним')\n",
    "print(name)  # 'Иван' (ключ уже был)\n",
    "\n",
    "# Если ключа нет - установит значение по умолчанию\n",
    "phone = student.setdefault('phone', '8-800-000-00-00')\n",
    "print(phone)  # '8-800-000-00-00'\n",
    "print(student)  # теперь есть ключ 'phone'\n",
    "# Если ключ есть - вернет значение\n",
    "name = student.setdefault('name', 'Аноним')\n",
    "print(name)  # 'Иван' (ключ уже был)\n",
    "\n",
    "# Если ключа нет - установит значение по умолчанию\n",
    "phone = student.setdefault('phone', '8-800-000-00-00')\n",
    "print(phone)  # '8-800-000-00-00'\n",
    "print(student)  # теперь есть ключ 'phone'\n",
    "# Добавление новых пар\n",
    "student.update({'phone': '123-45-67', 'email': 'ivan@mail.ru'})\n",
    "print(student)\n",
    "\n",
    "# Обновление существующих значений\n",
    "student.update({'age': 21, 'city': 'Санкт-Петербург'})\n",
    "print(student)\n",
    "\n",
    "# Можно передать другой словарь\n",
    "new_info = {'hobby': 'футбол', 'age': 22}\n",
    "student.update(new_info)\n",
    "print(student)\n"
   ]
  },
  {
   "cell_type": "code",
   "execution_count": null,
   "id": "3687fd96",
   "metadata": {},
   "outputs": [],
   "source": [
    "#.keys()\tВсе ключи\tdict_keys\n",
    "#.values()\tВсе значения\tdict_values\n",
    "#.items()\tПары ключ-значение\tdict_items\n",
    "#.get(k, d)\tБезопасное получение\tЗначение или d\n",
    "#.setdefault(k, d)\tПолучить или установить\tЗначение\n",
    "#.update(dict)\tОбновить словарь\tNone\n",
    "#.pop(k, d)\tУдалить и вернуть\tЗначение или d\n",
    "#.popitem()\tУдалить последнюю пару\t(key, value)\n",
    "#.clear()\tОчистить словарь\tNone\n",
    "#.copy()\tСоздать копию\tНовый словарь\n"
   ]
  },
  {
   "cell_type": "code",
   "execution_count": 373,
   "id": "49499505",
   "metadata": {},
   "outputs": [
    {
     "name": "stdout",
     "output_type": "stream",
     "text": [
      "Иван\n",
      "None\n",
      "Не указан\n",
      "нет@почты.ру\n"
     ]
    }
   ],
   "source": [
    "student = {'name': 'Иван', 'age': 20, 'city': 'Москва'}\n",
    "\n",
    "# ✅ Безопасное получение существующего ключа\n",
    "name = student.get('name')\n",
    "print(name)  # 'Иван'\n",
    "\n",
    "# ✅ Безопасное получение отсутствующего ключа\n",
    "phone = student.get('phone')\n",
    "print(phone)  # None (не ошибка!)\n",
    "\n",
    "# ✅ С значением по умолчанию\n",
    "phone = student.get('phone', 'Не указан')\n",
    "print(phone)  # 'Не указан'\n",
    "\n",
    "email = student.get('email', 'нет@почты.ру')\n",
    "print(email)  # 'нет@почты.ру'\n",
    "\n",
    "# ❌ Чем отличается от обычного доступа:\n",
    "# print(student['phone'])  # KeyError: 'phone'\n",
    "# print(student['email'])  # KeyError: 'email'"
   ]
  },
  {
   "cell_type": "code",
   "execution_count": 374,
   "id": "23d83483",
   "metadata": {},
   "outputs": [
    {
     "name": "stdout",
     "output_type": "stream",
     "text": [
      "{'яблоко': 3, 'груша': 2, 'банан': 1}\n"
     ]
    }
   ],
   "source": [
    "# Подсчет частоты слов (классический пример)\n",
    "text = \"яблоко груша яблоко банан груша яблоко\"\n",
    "words = text.split()\n",
    "\n",
    "word_count = {}\n",
    "for word in words:\n",
    "    # Вместо громоздкого if-else:\n",
    "    # if word in word_count:\n",
    "    #     word_count[word] += 1\n",
    "    # else:\n",
    "    #     word_count[word] = 1\n",
    "    \n",
    "    # Используем get():\n",
    "    word_count[word] = word_count.get(word, 0) + 1\n",
    "\n",
    "print(word_count)  # {'яблоко': 3, 'груша': 2, 'банан': 1}"
   ]
  },
  {
   "cell_type": "code",
   "execution_count": 376,
   "id": "bbe07364",
   "metadata": {},
   "outputs": [
    {
     "name": "stdout",
     "output_type": "stream",
     "text": [
      "Иван\n",
      "{'name': 'Иван', 'age': 20}\n",
      "8-800-000-00-00\n",
      "{'name': 'Иван', 'age': 20, 'phone': '8-800-000-00-00'}\n",
      "london\n",
      "{'name': 'Иван', 'age': 20, 'phone': '8-800-000-00-00', 'city': 'london'}\n"
     ]
    }
   ],
   "source": [
    "student = {'name': 'Иван', 'age': 20}\n",
    "\n",
    "# ✅ Ключ существует - возвращает значение\n",
    "name = student.setdefault('name', 'Аноним')\n",
    "print(name)  # 'Иван'\n",
    "print(student)  # {'name': 'Иван', 'age': 20} - не изменился\n",
    "\n",
    "# ✅ Ключа нет - устанавливает и возвращает значение\n",
    "phone = student.setdefault('phone', '8-800-000-00-00')\n",
    "print(phone)  # '8-800-000-00-00'\n",
    "print(student)  # теперь есть 'phone'\n",
    "\n",
    "# ✅ Ещё пример\n",
    "city = student.setdefault('city', 'london')\n",
    "print(city)  # 'Неизвестно'\n",
    "print(student)  # добавился 'city'"
   ]
  },
  {
   "cell_type": "code",
   "execution_count": 380,
   "id": "09c49854",
   "metadata": {},
   "outputs": [
    {
     "name": "stdout",
     "output_type": "stream",
     "text": [
      "{'Москва': ['Иван', 'Петр'], 'Санкт-Петербург': ['Мария'], 'Казань': ['Анна']}\n"
     ]
    }
   ],
   "source": [
    "# Группировка данных\n",
    "students = [\n",
    "    {'name': 'Иван', 'city': 'Москва'},\n",
    "    {'name': 'Мария', 'city': 'Санкт-Петербург'},\n",
    "    {'name': 'Петр', 'city': 'Москва'},\n",
    "    {'name': 'Анна', 'city': 'Казань'}\n",
    "]\n",
    "\n",
    "# Группируем студентов по городам\n",
    "cities = {}\n",
    "for student in students:\n",
    "    city = student['city']\n",
    "    # Если города нет - создаем пустой список\n",
    "    cities.setdefault(city, []).append(student['name'])\n",
    "\n",
    "print(cities, end=\"\\n\")\n",
    "# {'Москва': ['Иван', 'Петр'], \n",
    "#  'Санкт-Петербург': ['Мария'], \n",
    "#  'Казань': ['Анна']}"
   ]
  },
  {
   "cell_type": "code",
   "execution_count": 382,
   "id": "c7743d96",
   "metadata": {},
   "outputs": [
    {
     "name": "stdout",
     "output_type": "stream",
     "text": [
      "{'name': 'Иван', 'age': 20, 'phone': '123-45-67', 'email': 'ivan@mail.ru'}\n",
      "{'name': 'Иван', 'age': 21, 'phone': '123-45-67', 'email': 'ivan@mail.ru', 'city': 'Санкт-Петербург'}\n",
      "{'name': 'Иван', 'age': 22, 'phone': '123-45-67', 'email': 'ivan@mail.ru', 'city': 'Санкт-Петербург', 'hobby': 'футбол'}\n",
      "{'name': 'Иван', 'age': 22, 'phone': '123-45-67', 'email': 'ivan@mail.ru', 'city': 'Санкт-Петербург', 'hobby': 'футбол', 'country': 'Россия', 'language': 'русский'}\n"
     ]
    }
   ],
   "source": [
    "student = {'name': 'Иван', 'age': 20}\n",
    "\n",
    "# ✅ Обновление другим словарем\n",
    "student.update({'phone': '123-45-67', 'email': 'ivan@mail.ru'})\n",
    "print(student)\n",
    "# {'name': 'Иван', 'age': 20, 'phone': '123-45-67', 'email': 'ivan@mail.ru'}\n",
    "\n",
    "# ✅ Обновление существующих значений\n",
    "student.update({'age': 21, 'city': 'Санкт-Петербург'})\n",
    "print(student)\n",
    "# {'name': 'Иван', 'age': 21, 'phone': '123-45-67', \n",
    "#  'email': 'ivan@mail.ru', 'city': 'Санкт-Петербург'}\n",
    "\n",
    "# ✅ Обновление через ключевые аргументы\n",
    "student.update(hobby='футбол', age=22)\n",
    "print(student)\n",
    "# добавился 'hobby', обновился 'age'\n",
    "\n",
    "# ✅ Обновление списком пар\n",
    "student.update([('country', 'Россия'), ('language', 'русский')])\n",
    "print(student)"
   ]
  },
  {
   "cell_type": "code",
   "execution_count": 383,
   "id": "67d1b3d7",
   "metadata": {},
   "outputs": [
    {
     "name": "stdout",
     "output_type": "stream",
     "text": [
      "{'theme': 'dark', 'language': 'ru', 'notifications': True, 'font_size': 14}\n"
     ]
    }
   ],
   "source": [
    "# Объединение настроек по умолчанию и пользовательских\n",
    "default_settings = {\n",
    "    'theme': 'light',\n",
    "    'language': 'ru', \n",
    "    'notifications': True\n",
    "}\n",
    "\n",
    "user_settings = {\n",
    "    'theme': 'dark',\n",
    "    'font_size': 14\n",
    "}\n",
    "\n",
    "# Объединяем настройки\n",
    "final_settings = default_settings.copy()\n",
    "final_settings.update(user_settings)\n",
    "\n",
    "print(final_settings)\n",
    "# {'theme': 'dark', 'language': 'ru', \n",
    "#  'notifications': True, 'font_size': 14}"
   ]
  },
  {
   "cell_type": "code",
   "execution_count": 386,
   "id": "32b20ead",
   "metadata": {},
   "outputs": [
    {
     "name": "stdout",
     "output_type": "stream",
     "text": [
      "Москва\n",
      "{'name': 'Иван', 'age': 20}\n",
      "qwewq\n",
      "{'name': 'Иван', 'age': 20}\n"
     ]
    }
   ],
   "source": [
    "student = {'name': 'Иван', 'age': 20, 'city': 'Москва'}\n",
    "\n",
    "# ✅ Удаление существующего ключа\n",
    "city = student.pop('city')\n",
    "print(city)  # 'Москва'\n",
    "print(student)  # {'name': 'Иван', 'age': 20} - города нет\n",
    "\n",
    "# ✅ Удаление с значением по умолчанию\n",
    "country = student.pop('country',\"qwewq\")\n",
    "print(country)  # 'Россия' (не ошибка!)\n",
    "print(student)  # словарь не изменился\n",
    "\n",
    "# ❌ Опасность без значения по умолчанию:\n",
    "# phone = student.pop('phone')  # KeyError: 'phone'"
   ]
  },
  {
   "cell_type": "code",
   "execution_count": 387,
   "id": "afc4b490",
   "metadata": {},
   "outputs": [
    {
     "name": "stdout",
     "output_type": "stream",
     "text": [
      "Обработан заказ order_001 со статусом: в обработке\n",
      "Заказ order_005 не найден\n",
      "{'order_002': 'готов', 'order_003': 'доставляется'}\n"
     ]
    }
   ],
   "source": [
    "# Обработка заказов (удаление обработанных)\n",
    "orders = {\n",
    "    'order_001': 'в обработке',\n",
    "    'order_002': 'готов', \n",
    "    'order_003': 'доставляется'\n",
    "}\n",
    "\n",
    "# Обрабатываем заказ и удаляем его\n",
    "def process_order(order_id):\n",
    "    status = orders.pop(order_id, 'не найден')\n",
    "    if status != 'не найден':\n",
    "        print(f\"Обработан заказ {order_id} со статусом: {status}\")\n",
    "    else:\n",
    "        print(f\"Заказ {order_id} не найден\")\n",
    "\n",
    "process_order('order_001')  # Обработан заказ order_001 со статусом: в обработке\n",
    "process_order('order_005')  # Заказ order_005 не найден\n",
    "\n",
    "print(orders)  # {'order_002': 'готов', 'order_003': 'доставляется'}"
   ]
  },
  {
   "cell_type": "code",
   "execution_count": null,
   "id": "277746c4",
   "metadata": {},
   "outputs": [
    {
     "name": "stdout",
     "output_type": "stream",
     "text": [
      "Привет, мир!\n",
      "Добро пожаловать в Python!\n"
     ]
    }
   ],
   "source": [
    "def приветствие():\n",
    "    \"\"\"Выводит приветствие\"\"\"\n",
    "    print(\"Привет, мир!\")\n",
    "    print(\"Добро пожаловать в Python!\")\n",
    "\n",
    "# Вызов функции\n",
    "приветствие()\n",
    "приветствие()  # можно вызывать много раз"
   ]
  },
  {
   "cell_type": "code",
   "execution_count": 390,
   "id": "74f6d709",
   "metadata": {},
   "outputs": [
    {
     "name": "stdout",
     "output_type": "stream",
     "text": [
      "Привет, Иван!\n",
      "Рад тебя видеть!\n",
      "Привет, Мария!\n",
      "Рад тебя видеть!\n",
      "Привет, Петр!\n",
      "Рад тебя видеть!\n"
     ]
    }
   ],
   "source": [
    "def приветствие(имя):\n",
    "    \"\"\"Приветствует пользователя по имени\"\"\"\n",
    "    print(f\"Привет, {имя}!\")\n",
    "    print(\"Рад тебя видеть!\")\n",
    "\n",
    "# Вызов с разными аргументами\n",
    "приветствие(\"Иван\")\n",
    "приветствие(\"Мария\")\n",
    "приветствие(\"Петр\")"
   ]
  },
  {
   "cell_type": "code",
   "execution_count": 392,
   "id": "30e113d0",
   "metadata": {},
   "outputs": [
    {
     "name": "stdout",
     "output_type": "stream",
     "text": [
      "25\n",
      "9\n",
      "603729\n"
     ]
    }
   ],
   "source": [
    "def квадрат(число):\n",
    "    \"\"\"Возвращает квадрат числа\"\"\"\n",
    "    результат = число * число\n",
    "    return результат\n",
    "\n",
    "# Использование результата\n",
    "x = квадрат(5)\n",
    "print(x)  # 25\n",
    "\n",
    "print(квадрат(3))  # 9\n",
    "print(квадрат(777))  # 49"
   ]
  },
  {
   "cell_type": "code",
   "execution_count": 394,
   "id": "ea48cdfc",
   "metadata": {},
   "outputs": [
    {
     "name": "stdout",
     "output_type": "stream",
     "text": [
      "536\n"
     ]
    }
   ],
   "source": [
    "def сложить(a, b):\n",
    "    \"\"\"Складывает два числа\"\"\"\n",
    "    return a + b\n",
    "\n",
    "результат = сложить(533, 3)\n",
    "print(результат)  # 8"
   ]
  },
  {
   "cell_type": "code",
   "execution_count": 397,
   "id": "4dbde851",
   "metadata": {},
   "outputs": [
    {
     "name": "stdout",
     "output_type": "stream",
     "text": [
      "Привет, Иван!\n",
      "Hello, John!\n",
      "Hola, Maria!\n"
     ]
    }
   ],
   "source": [
    "def приветствие(имя, язык='русский'):\n",
    "    \"\"\"Приветствие на разных языках\"\"\"\n",
    "    if язык == 'русский':\n",
    "        print(f\"Привет, {имя}!\")\n",
    "    elif язык == 'английский':\n",
    "        print(f\"Hello, {имя}!\")\n",
    "    elif язык == 'испанский':\n",
    "        print(f\"Hola, {имя}!\")\n",
    "\n",
    "# Вызовы\n",
    "приветствие(\"Иван\")  # Привет, Иван!\n",
    "приветствие(\"John\", \"английский\")  # Hello, John!\n",
    "приветствие(\"Maria\", \"испанский\")  # Hola, Maria!"
   ]
  },
  {
   "cell_type": "code",
   "execution_count": 398,
   "id": "83251633",
   "metadata": {},
   "outputs": [
    {
     "name": "stdout",
     "output_type": "stream",
     "text": [
      "Иван, 25 лет, г. Москва, Россия\n",
      "Мария, 30 лет, г. Санкт-Петербург, Россия\n",
      "Петр, 22 лет, г. Казань, Россия\n",
      "Анна, 28 лет, г. Киев, Украина\n"
     ]
    }
   ],
   "source": [
    "def создать_пользователя(имя, возраст, город, страна='Россия'):\n",
    "    \"\"\"Создает описание пользователя\"\"\"\n",
    "    описание = f\"{имя}, {возраст} лет, г. {город}, {страна}\"\n",
    "    return описание\n",
    "\n",
    "# Разные способы вызова\n",
    "user1 = создать_пользователя(\"Иван\", 25, \"Москва\")\n",
    "user2 = создать_пользователя(имя=\"Мария\", возраст=30, город=\"Санкт-Петербург\")\n",
    "user3 = создать_пользователя(город=\"Казань\", возраст=22, имя=\"Петр\")\n",
    "user4 = создать_пользователя(\"Анна\", страна=\"Украина\", город=\"Киев\", возраст=28)\n",
    "\n",
    "print(user1)\n",
    "print(user2)\n",
    "print(user3)\n",
    "print(user4)"
   ]
  },
  {
   "cell_type": "code",
   "execution_count": 400,
   "id": "37852cfe",
   "metadata": {},
   "outputs": [
    {
     "name": "stdout",
     "output_type": "stream",
     "text": [
      "511\n"
     ]
    }
   ],
   "source": [
    "def максимальное(a, b):\n",
    "    \"\"\"Возвращает большее из двух чисел\"\"\"\n",
    "    if a > b:\n",
    "        return a\n",
    "    else:\n",
    "        return b\n",
    "\n",
    "макс = максимальное(10, 511)\n",
    "print(макс)  # 10"
   ]
  },
  {
   "cell_type": "code",
   "execution_count": 409,
   "id": "c9da35c0",
   "metadata": {},
   "outputs": [
    {
     "name": "stdout",
     "output_type": "stream",
     "text": [
      "(1530, 1470, 45000, 50.0)\n",
      "Сумма: 1530, Разность: 1470, Произведение: 45000, Частное: 50.0\n"
     ]
    }
   ],
   "source": [
    "def калькулятор(a, b):\n",
    "    \"\"\"Возвращает несколько результатов\"\"\"\n",
    "    сумма = a + b\n",
    "    разность = a - b\n",
    "    произведение = a * b\n",
    "    частное = a / b if b != 0 else \"Ошибка: деление на ноль\"\n",
    "    \n",
    "    return сумма, разность, произведение, частное\n",
    "\n",
    "# Получаем все результаты\n",
    "результаты = калькулятор(1500, 30)\n",
    "print(результаты)  # (12, 8, 20, 5.0)\n",
    "\n",
    "# Или распаковываем в отдельные переменные\n",
    "с, р, п, ч = калькулятор(1500, 30)\n",
    "print(f\"Сумма: {с}, Разность: {р}, Произведение: {п}, Частное: {ч}\")"
   ]
  },
  {
   "cell_type": "code",
   "execution_count": 410,
   "id": "de815fba",
   "metadata": {},
   "outputs": [
    {
     "name": "stdout",
     "output_type": "stream",
     "text": [
      "Слишком короткий пароль!\n",
      "Пароль должен содержать цифры!\n",
      "Пароль должен содержать заглавные буквы!\n",
      "Пароль надежный!\n"
     ]
    }
   ],
   "source": [
    "def проверка_пароля(пароль):\n",
    "    \"\"\"Проверяет надежность пароля\"\"\"\n",
    "    if len(пароль) < 8:\n",
    "        return \"Слишком короткий пароль!\"\n",
    "    \n",
    "    if not any(char.isdigit() for char in пароль):\n",
    "        return \"Пароль должен содержать цифры!\"\n",
    "    \n",
    "    if not any(char.isupper() for char in пароль):\n",
    "        return \"Пароль должен содержать заглавные буквы!\"\n",
    "    \n",
    "    return \"Пароль надежный!\"\n",
    "\n",
    "print(проверка_пароля(\"123\"))  # Слишком короткий пароль!\n",
    "print(проверка_пароля(\"password\"))  # Пароль должен содержать цифры!\n",
    "print(проверка_пароля(\"password123\"))  # Пароль должен содержать заглавные буквы!\n",
    "print(проверка_пароля(\"Password123\"))  # Пароль надежный!"
   ]
  },
  {
   "cell_type": "code",
   "execution_count": null,
   "id": "2bddda56",
   "metadata": {},
   "outputs": [],
   "source": [
    "import math\n",
    "\n",
    "def площадь_круга(радиус):\n",
    "    \"\"\"Вычисляет площадь круга\"\"\"\n",
    "    return math.pi * радиус ** 2\n",
    "\n",
    "def факториал(n):\n",
    "    \"\"\"Вычисляет факториал числа\"\"\"\n",
    "    if n < 0:\n",
    "        return \"Ошибка: факториал отрицательного числа не определен\"\n",
    "    результат = 1\n",
    "    for i in range(1, n + 1):\n",
    "        результат *= i\n",
    "    return результат\n",
    "\n",
    "def является_простым(n):\n",
    "    \"\"\"Проверяет, является ли число простым\"\"\"\n",
    "    if n < 2:\n",
    "        return False\n",
    "    for i in range(2, int(math.sqrt(n)) + 1):\n",
    "        if n % i == 0:\n",
    "            return False\n",
    "    return True\n",
    "\n",
    "# Использование\n",
    "print(f\"Площадь круга: {площадь_круга(5):.2f}\")\n",
    "print(f\"Факториал 5: {факториал(5)}\")\n",
    "print(f\"Число 17 простое: {является_простым(17)}\")"
   ]
  },
  {
   "cell_type": "code",
   "execution_count": null,
   "id": "8f442567",
   "metadata": {},
   "outputs": [],
   "source": [
    "def narcissistic(value):\n",
    "    # 1. Преобразуем число в строку чтобы работать с цифрами\n",
    "    str_value = str(value)\n",
    "    \n",
    "    # 2. Узнаем количество цифр (длину строки)\n",
    "    num_digits = len(str_value)\n",
    "    \n",
    "    # 3. Вычисляем сумму цифр в степени\n",
    "    total = 0\n",
    "    for digit_char in str_value:\n",
    "        digit = int(digit_char)  # Преобразуем символ обратно в число\n",
    "        total += digit ** num_digits  # Возводим в степень и добавляем к сумме\n",
    "    \n",
    "    # 4. Сравниваем сумму с исходным числом\n",
    "    return total == value"
   ]
  },
  {
   "cell_type": "code",
   "execution_count": null,
   "id": "ba27b4a1",
   "metadata": {},
   "outputs": [],
   "source": [
    "def handle_bug(bug):\n",
    "    \"\"\"\n",
    "    Подход Марка Аврелия к багам:\n",
    "    - Не контролируешь? Не переживай\n",
    "    - Контролируешь? Исправляй\n",
    "    - Препятствие = возможность научиться\n",
    "    \"\"\"\n",
    "    if can_fix(bug):\n",
    "        fix(bug)\n",
    "    else:\n",
    "        learn_from(bug)"
   ]
  },
  {
   "cell_type": "code",
   "execution_count": null,
   "id": "c1386def",
   "metadata": {},
   "outputs": [],
   "source": [
    "s = input()\n",
    "\n",
    "for i in range(len(s)-1, -1, -1):\n",
    "    print(s[i])"
   ]
  },
  {
   "cell_type": "code",
   "execution_count": null,
   "id": "ab740f7f",
   "metadata": {},
   "outputs": [],
   "source": [
    "first_name = input()\n",
    "last_name = input()\n",
    "patronymic = input()\n",
    "\n",
    "print(f\"{last_name[0]}{first_name[0]}{patronymic[0]}\")"
   ]
  },
  {
   "cell_type": "code",
   "execution_count": null,
   "id": "4eb09ab2",
   "metadata": {},
   "outputs": [],
   "source": [
    "s = input()\n",
    "total = 0\n",
    "\n",
    "for char in s:\n",
    "    total += int(char)\n",
    "\n",
    "print(total)"
   ]
  }
 ],
 "metadata": {
  "kernelspec": {
   "display_name": "Python 3",
   "language": "python",
   "name": "python3"
  },
  "language_info": {
   "codemirror_mode": {
    "name": "ipython",
    "version": 3
   },
   "file_extension": ".py",
   "mimetype": "text/x-python",
   "name": "python",
   "nbconvert_exporter": "python",
   "pygments_lexer": "ipython3",
   "version": "3.13.7"
  }
 },
 "nbformat": 4,
 "nbformat_minor": 5
}
