{
 "cells": [
  {
   "cell_type": "code",
   "execution_count": 2,
   "id": "c6a8922e",
   "metadata": {},
   "outputs": [
    {
     "name": "stdout",
     "output_type": "stream",
     "text": [
      "A great man doesn't seek to lead.\n",
      "He's called to it. And he answers.\n"
     ]
    }
   ],
   "source": [
    "print(\"A great man doesn't seek to lead.\")\n",
    "print(\"He's called to it. And he answers.\")"
   ]
  },
  {
   "cell_type": "code",
   "execution_count": 1,
   "id": "4f9f1105",
   "metadata": {},
   "outputs": [
    {
     "name": "stdout",
     "output_type": "stream",
     "text": [
      "A great man doesn't seek to lead.\n",
      "He's called to it. And he answers.\n"
     ]
    }
   ],
   "source": [
    "print(\"A great man doesn't seek to lead.\", end='\\n')\n",
    "print(\"He's called to it. And he answers.\", end='\\n')"
   ]
  },
  {
   "cell_type": "code",
   "execution_count": 3,
   "id": "eeba3a79",
   "metadata": {},
   "outputs": [
    {
     "name": "stdout",
     "output_type": "stream",
     "text": [
      "Python\n",
      "\n",
      "C#\n",
      "Java\n",
      "\n",
      "JavaScript\n"
     ]
    }
   ],
   "source": [
    "print('Python')\n",
    "print()\n",
    "print('C#')\n",
    "print('Java')\n",
    "print()\n",
    "print('JavaScript')"
   ]
  },
  {
   "cell_type": "code",
   "execution_count": 4,
   "id": "fde61f9c",
   "metadata": {},
   "outputs": [
    {
     "name": "stdout",
     "output_type": "stream",
     "text": [
      "a*\n",
      "*b*\n",
      "*c#"
     ]
    }
   ],
   "source": [
    "print('a', '\\n', 'b', '\\n', 'c', sep='*', end='#')"
   ]
  },
  {
   "cell_type": "code",
   "execution_count": 5,
   "id": "2bc211f2",
   "metadata": {},
   "outputs": [
    {
     "name": "stdout",
     "output_type": "stream",
     "text": [
      "a*b*cfinish"
     ]
    }
   ],
   "source": [
    "print('a', 'b', 'c', sep='*', end='finish')\n"
   ]
  },
  {
   "cell_type": "code",
   "execution_count": 6,
   "id": "d0e29628",
   "metadata": {},
   "outputs": [
    {
     "name": "stdout",
     "output_type": "stream",
     "text": [
      "Hello_-_everyone! How are you in 2024?+++"
     ]
    }
   ],
   "source": [
    "arg1 = 'Hello'\n",
    "sep1 = '_-_'\n",
    "end2 = '+++'\n",
    "\n",
    "print(arg1, 'everyone', sep=sep1, end='! ')\n",
    "print('How', 'are', 'you', 'in', '2024?', sep=' ', end=end2)\n"
   ]
  },
  {
   "cell_type": "code",
   "execution_count": 8,
   "id": "64838e61",
   "metadata": {},
   "outputs": [
    {
     "name": "stdout",
     "output_type": "stream",
     "text": [
      "Python\n",
      "\n",
      "\n",
      "loh\n"
     ]
    }
   ],
   "source": [
    "print('Python', end='\\n\\n\\n')\n",
    "print(\"loh\")"
   ]
  },
  {
   "cell_type": "code",
   "execution_count": 12,
   "id": "190725ee",
   "metadata": {},
   "outputs": [
    {
     "name": "stdout",
     "output_type": "stream",
     "text": [
      "Python  777  123123\n"
     ]
    }
   ],
   "source": [
    "print('Python', \"123123\",sep='  777  ')\n"
   ]
  },
  {
   "cell_type": "code",
   "execution_count": 13,
   "id": "0b994564",
   "metadata": {},
   "outputs": [
    {
     "name": "stdout",
     "output_type": "stream",
     "text": [
      "31-"
     ]
    }
   ],
   "source": [
    "print('31', end='-')"
   ]
  },
  {
   "cell_type": "code",
   "execution_count": 14,
   "id": "d6fee473",
   "metadata": {},
   "outputs": [
    {
     "name": "stdout",
     "output_type": "stream",
     "text": [
      "31/12/2019\n"
     ]
    }
   ],
   "source": [
    "print('31', '12', '2019', sep='/')\n"
   ]
  },
  {
   "cell_type": "code",
   "execution_count": 15,
   "id": "505ff343",
   "metadata": {},
   "outputs": [
    {
     "name": "stdout",
     "output_type": "stream",
     "text": [
      "a+b\n"
     ]
    }
   ],
   "source": [
    "delimiter = '+'\n",
    "print('a', 'b', sep=delimiter)"
   ]
  },
  {
   "cell_type": "code",
   "execution_count": 16,
   "id": "1dfa2dd0",
   "metadata": {},
   "outputs": [
    {
     "name": "stdout",
     "output_type": "stream",
     "text": [
      "YES#NO!"
     ]
    }
   ],
   "source": [
    "print('YES', sep='!', end='#')\n",
    "print('NO', sep='#', end='!')"
   ]
  },
  {
   "cell_type": "code",
   "execution_count": 17,
   "id": "75d98e14",
   "metadata": {},
   "outputs": [
    {
     "name": "stdout",
     "output_type": "stream",
     "text": [
      "a/b+c*d/"
     ]
    }
   ],
   "source": [
    "delimiter = '/'\n",
    "print('a', 'b', sep=delimiter, end='+')\n",
    "print('c', 'd', sep='*', end=delimiter)"
   ]
  },
  {
   "cell_type": "code",
   "execution_count": 18,
   "id": "c2192f52",
   "metadata": {},
   "outputs": [
    {
     "name": "stdout",
     "output_type": "stream",
     "text": [
      "Mercury*Venus!Mars**Jupiter?"
     ]
    }
   ],
   "source": [
    "print('Mercury', 'Venus', sep='*', end='!')\n",
    "print('Mars', 'Jupiter', sep='**', end='?')\n"
   ]
  },
  {
   "cell_type": "code",
   "execution_count": 19,
   "id": "a09df46f",
   "metadata": {},
   "outputs": [
    {
     "name": "stdout",
     "output_type": "stream",
     "text": [
      "YES#NO+MAYBE*NEVER?"
     ]
    }
   ],
   "source": [
    "sep1 = '#'\n",
    "end2 = '?'\n",
    "print('YES', 'NO', sep=sep1, end='+')\n",
    "print('MAYBE', 'NEVER', sep='*', end=end2)"
   ]
  },
  {
   "cell_type": "code",
   "execution_count": 20,
   "id": "bebf10c6",
   "metadata": {},
   "outputs": [
    {
     "name": "stdout",
     "output_type": "stream",
     "text": [
      "a*b*c\n",
      "d**e**fg+h+i%j-k-l\n",
      "m/n/o!p1q1r%s&t&u\n",
      "v%w%x\n",
      "y/z!"
     ]
    }
   ],
   "source": [
    "print('a', 'b', 'c', sep='*')\n",
    "print('d', 'e', 'f', sep='**', end='')\n",
    "print('g', 'h', 'i', sep='+', end='%')\n",
    "print('j', 'k', 'l', sep='-', end='\\n')\n",
    "print('m', 'n', 'o', sep='/', end='!')\n",
    "print('p', 'q', 'r', sep='1', end='%')\n",
    "print('s', 't', 'u', sep='&', end='\\n')\n",
    "print('v', 'w', 'x', sep='%')\n",
    "print('y', 'z', sep='/', end='!')\n"
   ]
  },
  {
   "cell_type": "code",
   "execution_count": 23,
   "id": "99d97db3",
   "metadata": {},
   "outputs": [
    {
     "name": "stdout",
     "output_type": "stream",
     "text": [
      "БЕСКОНЕЧНОСТЬ_НЕ_ПРЕДЕЛ!\n",
      "БЕСКОНЕЧНОСТЬ_НЕ_ПРЕДЕЛ!\n"
     ]
    }
   ],
   "source": [
    "print('БЕСКОНЕЧНОСТЬ', 'НЕ', 'ПРЕДЕЛ', sep='_', end='')\n",
    "print('!')\n",
    "print('БЕСКОНЕЧНОСТЬ_НЕ_ПРЕДЕЛ', end='')\n",
    "print('!')"
   ]
  },
  {
   "cell_type": "code",
   "execution_count": 25,
   "id": "2523356f",
   "metadata": {},
   "outputs": [
    {
     "name": "stdout",
     "output_type": "stream",
     "text": [
      "БЕСКОНЕЧНОСТЬ_НЕ_ПРЕДЕЛ_!\n"
     ]
    }
   ],
   "source": [
    "print('БЕСКОНЕЧНОСТЬ', 'НЕ', 'ПРЕДЕЛ', '!', sep='_')"
   ]
  },
  {
   "cell_type": "code",
   "execution_count": 26,
   "id": "b3ae07a3",
   "metadata": {},
   "outputs": [
    {
     "name": "stdout",
     "output_type": "stream",
     "text": [
      "БЕСКОНЕЧНОСТЬ_НЕ_ПРЕДЕЛ_!\n",
      "БЕСКОНЕЧНОСТЬ_НЕ_ПРЕДЕЛ!\n",
      "БЕСКОНЕЧНОСТЬ_НЕ_ПРЕДЕЛ!!БЕСКОНЕЧНОСТЬ_НЕ_ПРЕДЕЛ!\n",
      "БЕСКОНЕЧНОСТЬ_НЕ_ПРЕДЕЛ!\n",
      "БЕСКОНЕЧНОСТЬ_НЕ_ПРЕДЕЛ!"
     ]
    }
   ],
   "source": [
    "print('БЕСКОНЕЧНОСТЬ', 'НЕ', 'ПРЕДЕЛ', '!', sep='_')\n",
    "\n",
    "print('БЕСКОНЕЧНОСТЬ_НЕ_ПРЕДЕЛ!')\n",
    "\n",
    "print('БЕСКОНЕЧНОСТЬ', 'НЕ', 'ПРЕДЕЛ!', sep='_', end='!')\n",
    "\n",
    "print('БЕСКОНЕЧНОСТЬ', 'НЕ', 'ПРЕДЕЛ', sep='_', end='')\n",
    "print('!')\n",
    "\n",
    "print('БЕСКОНЕЧНОСТЬ_НЕ_ПРЕДЕЛ', end='')\n",
    "print('!')\n",
    "\n",
    "print('БЕСКОНЕЧНОСТЬ_', 'НЕ_', 'ПРЕДЕЛ!', sep='', end='')"
   ]
  },
  {
   "cell_type": "code",
   "execution_count": 30,
   "id": "c520ad5b",
   "metadata": {},
   "outputs": [
    {
     "name": "stdout",
     "output_type": "stream",
     "text": [
      "БЕСКОНЕЧНОСТЬ_НЕ_ПРЕДЕЛ!!"
     ]
    }
   ],
   "source": [
    "\n",
    "print('БЕСКОНЕЧНОСТЬ', 'НЕ', 'ПРЕДЕЛ!', sep='_', end='!')\n",
    "\n"
   ]
  },
  {
   "cell_type": "code",
   "execution_count": 33,
   "id": "756669f3",
   "metadata": {},
   "outputs": [
    {
     "name": "stdout",
     "output_type": "stream",
     "text": [
      "<вторая строка><строка-разделитель><третья строка><строка-разделитель><четвертая строка>\n"
     ]
    }
   ],
   "source": [
    " # Считываем данные\n",
    "separator = input()      # строка-разделитель\n",
    "line1 = input()          # вторая строка\n",
    "line2 = input()          # третья строка\n",
    "line3 = input()          # четвёртая строка\n",
    "\n",
    "# Выводим с использованием sep\n",
    "print(line1, line2, line3, sep=separator)\n"
   ]
  },
  {
   "cell_type": "code",
   "execution_count": 36,
   "id": "e07f4b38",
   "metadata": {},
   "outputs": [
    {
     "name": "stdout",
     "output_type": "stream",
     "text": [
      "Gvido Timur\n",
      "Timur Gvido\n"
     ]
    }
   ],
   "source": [
    "name1 = 'Timur'\n",
    "name2 = 'Gvido'\n",
    "\n",
    "name1, name2 = name2, name1\n",
    "print(name1 , name2)\n",
    "print(name2 , name1)"
   ]
  },
  {
   "cell_type": "code",
   "execution_count": 37,
   "id": "adabd5e3",
   "metadata": {},
   "outputs": [
    {
     "name": "stdout",
     "output_type": "stream",
     "text": [
      "My name**is**Python+My name**is**Python+"
     ]
    }
   ],
   "source": [
    "print(\"My name\", \"is\", \"Python\", sep=\"**\", end=\"+\")\n",
    "print(\"My name\", \"is\", \"Python\", sep=\"**\", end=\"+\")"
   ]
  },
  {
   "cell_type": "code",
   "execution_count": 38,
   "id": "48600df9",
   "metadata": {},
   "outputs": [
    {
     "name": "stdout",
     "output_type": "stream",
     "text": [
      "Follow PEP8!\n",
      "Follow PEP8!\n",
      "Follow PEP8!\n",
      "Follow PEP8!\n",
      "Follow**PEP8\n",
      "Follow**PEP8\n"
     ]
    }
   ],
   "source": [
    "print(\"Follow PEP8!\")\n",
    "\n",
    "print(\"Follow PEP8!\")\n",
    "\n",
    "print(\"Follow\", \"PEP8!\")\n",
    "\n",
    "print(\"Follow\", \"PEP8!\")\n",
    "\n",
    "print(\"Follow\", \"PEP8\", sep=\"**\")\n",
    "\n",
    "print(\"Follow\", \"PEP8\", sep=\"**\")\n",
    "\n",
    "name = input()\n",
    "\n",
    "name = input()"
   ]
  },
  {
   "cell_type": "code",
   "execution_count": 39,
   "id": "ac2237b6",
   "metadata": {},
   "outputs": [
    {
     "name": "stdout",
     "output_type": "stream",
     "text": [
      "Follow PEP8!\n",
      "Follow PEP8!\n",
      "Follow PEP8!\n",
      "Follow PEP8!\n",
      "Follow**PEP8\n",
      "Follow**PEP8\n"
     ]
    },
    {
     "ename": "KeyboardInterrupt",
     "evalue": "Interrupted by user",
     "output_type": "error",
     "traceback": [
      "\u001b[31m---------------------------------------------------------------------------\u001b[39m",
      "\u001b[31mKeyboardInterrupt\u001b[39m                         Traceback (most recent call last)",
      "\u001b[36mCell\u001b[39m\u001b[36m \u001b[39m\u001b[32mIn[39]\u001b[39m\u001b[32m, line 13\u001b[39m\n\u001b[32m      9\u001b[39m \u001b[38;5;28mprint\u001b[39m(\u001b[33m'\u001b[39m\u001b[33mFollow\u001b[39m\u001b[33m'\u001b[39m,\u001b[33m'\u001b[39m\u001b[33mPEP8\u001b[39m\u001b[33m'\u001b[39m, sep = \u001b[33m'\u001b[39m\u001b[33m**\u001b[39m\u001b[33m'\u001b[39m)\n\u001b[32m     11\u001b[39m \u001b[38;5;28mprint\u001b[39m(\u001b[33m'\u001b[39m\u001b[33mFollow\u001b[39m\u001b[33m'\u001b[39m, \u001b[33m'\u001b[39m\u001b[33mPEP8\u001b[39m\u001b[33m'\u001b[39m, sep=\u001b[33m'\u001b[39m\u001b[33m**\u001b[39m\u001b[33m'\u001b[39m)\n\u001b[32m---> \u001b[39m\u001b[32m13\u001b[39m name = \u001b[38;5;28;43minput\u001b[39;49m\u001b[43m(\u001b[49m\u001b[43m)\u001b[49m\n\u001b[32m     15\u001b[39m name=\u001b[38;5;28minput\u001b[39m()\n",
      "\u001b[36mFile \u001b[39m\u001b[32m~/Library/Python/3.13/lib/python/site-packages/ipykernel/kernelbase.py:1275\u001b[39m, in \u001b[36mKernel.raw_input\u001b[39m\u001b[34m(self, prompt)\u001b[39m\n\u001b[32m   1273\u001b[39m     msg = \u001b[33m\"\u001b[39m\u001b[33mraw_input was called, but this frontend does not support input requests.\u001b[39m\u001b[33m\"\u001b[39m\n\u001b[32m   1274\u001b[39m     \u001b[38;5;28;01mraise\u001b[39;00m StdinNotImplementedError(msg)\n\u001b[32m-> \u001b[39m\u001b[32m1275\u001b[39m \u001b[38;5;28;01mreturn\u001b[39;00m \u001b[38;5;28;43mself\u001b[39;49m\u001b[43m.\u001b[49m\u001b[43m_input_request\u001b[49m\u001b[43m(\u001b[49m\n\u001b[32m   1276\u001b[39m \u001b[43m    \u001b[49m\u001b[38;5;28;43mstr\u001b[39;49m\u001b[43m(\u001b[49m\u001b[43mprompt\u001b[49m\u001b[43m)\u001b[49m\u001b[43m,\u001b[49m\n\u001b[32m   1277\u001b[39m \u001b[43m    \u001b[49m\u001b[38;5;28;43mself\u001b[39;49m\u001b[43m.\u001b[49m\u001b[43m_parent_ident\u001b[49m\u001b[43m[\u001b[49m\u001b[33;43m\"\u001b[39;49m\u001b[33;43mshell\u001b[39;49m\u001b[33;43m\"\u001b[39;49m\u001b[43m]\u001b[49m\u001b[43m,\u001b[49m\n\u001b[32m   1278\u001b[39m \u001b[43m    \u001b[49m\u001b[38;5;28;43mself\u001b[39;49m\u001b[43m.\u001b[49m\u001b[43mget_parent\u001b[49m\u001b[43m(\u001b[49m\u001b[33;43m\"\u001b[39;49m\u001b[33;43mshell\u001b[39;49m\u001b[33;43m\"\u001b[39;49m\u001b[43m)\u001b[49m\u001b[43m,\u001b[49m\n\u001b[32m   1279\u001b[39m \u001b[43m    \u001b[49m\u001b[43mpassword\u001b[49m\u001b[43m=\u001b[49m\u001b[38;5;28;43;01mFalse\u001b[39;49;00m\u001b[43m,\u001b[49m\n\u001b[32m   1280\u001b[39m \u001b[43m\u001b[49m\u001b[43m)\u001b[49m\n",
      "\u001b[36mFile \u001b[39m\u001b[32m~/Library/Python/3.13/lib/python/site-packages/ipykernel/kernelbase.py:1320\u001b[39m, in \u001b[36mKernel._input_request\u001b[39m\u001b[34m(self, prompt, ident, parent, password)\u001b[39m\n\u001b[32m   1317\u001b[39m \u001b[38;5;28;01mexcept\u001b[39;00m \u001b[38;5;167;01mKeyboardInterrupt\u001b[39;00m:\n\u001b[32m   1318\u001b[39m     \u001b[38;5;66;03m# re-raise KeyboardInterrupt, to truncate traceback\u001b[39;00m\n\u001b[32m   1319\u001b[39m     msg = \u001b[33m\"\u001b[39m\u001b[33mInterrupted by user\u001b[39m\u001b[33m\"\u001b[39m\n\u001b[32m-> \u001b[39m\u001b[32m1320\u001b[39m     \u001b[38;5;28;01mraise\u001b[39;00m \u001b[38;5;167;01mKeyboardInterrupt\u001b[39;00m(msg) \u001b[38;5;28;01mfrom\u001b[39;00m\u001b[38;5;250m \u001b[39m\u001b[38;5;28;01mNone\u001b[39;00m\n\u001b[32m   1321\u001b[39m \u001b[38;5;28;01mexcept\u001b[39;00m \u001b[38;5;167;01mException\u001b[39;00m:\n\u001b[32m   1322\u001b[39m     \u001b[38;5;28mself\u001b[39m.log.warning(\u001b[33m\"\u001b[39m\u001b[33mInvalid Message:\u001b[39m\u001b[33m\"\u001b[39m, exc_info=\u001b[38;5;28;01mTrue\u001b[39;00m)\n",
      "\u001b[31mKeyboardInterrupt\u001b[39m: Interrupted by user"
     ]
    }
   ],
   "source": [
    "print('Follow PEP8!')\n",
    "\n",
    "print ('Follow PEP8!')\n",
    "\n",
    "print('Follow', 'PEP8!')\n",
    "\n",
    "print('Follow','PEP8!')\n",
    "\n",
    "print('Follow','PEP8', sep = '**')\n",
    "\n",
    "print('Follow', 'PEP8', sep='**')\n",
    "\n",
    "name = input()\n",
    "\n",
    "name=input()"
   ]
  },
  {
   "cell_type": "code",
   "execution_count": 40,
   "id": "3127bbd1",
   "metadata": {},
   "outputs": [
    {
     "name": "stdout",
     "output_type": "stream",
     "text": [
      "Python+C#=awesome\n"
     ]
    }
   ],
   "source": [
    "# print('Java')\n",
    "# print('Ruby')\n",
    "# print('Scala')\n",
    "print('Python', end='+')  # print('C++')\n",
    "# print('GO')\n",
    "print('C#', end='=')  # print('C')\n",
    "print('awesome')\n",
    "# finish"
   ]
  },
  {
   "cell_type": "code",
   "execution_count": 44,
   "id": "099be65e",
   "metadata": {},
   "outputs": [
    {
     "name": "stdout",
     "output_type": "stream",
     "text": [
      "-3\n",
      "1\n",
      "-7\n",
      "1.0\n",
      "-3.0\n"
     ]
    }
   ],
   "source": [
    "a = 7\n",
    "b = -3\n",
    "\n",
    "print(-a + b + 7)\n",
    "print(a + 2 * b)\n",
    "print(-a + b + 3)\n",
    "print((a + b) / 4)\n",
    "print((a + 2) / b)"
   ]
  },
  {
   "cell_type": "code",
   "execution_count": 46,
   "id": "b769066f",
   "metadata": {},
   "outputs": [
    {
     "name": "stdout",
     "output_type": "stream",
     "text": [
      "-50\n"
     ]
    }
   ],
   "source": [
    "s = 0\n",
    "k = 30\n",
    "d = k - 5\n",
    "k = 2 * d\n",
    "s = k - 100\n",
    "\n",
    "print(s)"
   ]
  },
  {
   "cell_type": "code",
   "execution_count": 48,
   "id": "1e68c8e3",
   "metadata": {},
   "outputs": [
    {
     "name": "stdout",
     "output_type": "stream",
     "text": [
      "20\n"
     ]
    }
   ],
   "source": [
    "x = 3 \n",
    "y = 4 \n",
    "z = x + y \n",
    "z = z + 1 \n",
    "x = y \n",
    "y = 5\n",
    "x = z + y + 7\n",
    "\n",
    "print(x)"
   ]
  },
  {
   "cell_type": "code",
   "execution_count": 55,
   "id": "4b8ca966",
   "metadata": {},
   "outputs": [
    {
     "name": "stdout",
     "output_type": "stream",
     "text": [
      "1 2 3\n"
     ]
    }
   ],
   "source": [
    "name = input()\n",
    "name_2 = int(name) + 1\n",
    "name_3 = int(name) + 2\n",
    "print(name,name_2,name_3)"
   ]
  },
  {
   "cell_type": "code",
   "execution_count": 63,
   "id": "478b8914",
   "metadata": {},
   "outputs": [
    {
     "name": "stdout",
     "output_type": "stream",
     "text": [
      "369\n"
     ]
    }
   ],
   "source": [
    "name = int(input())\n",
    "name_2 = int(input())\n",
    "name_3 = int(input())\n",
    "s = name + name_2 + name_3\n",
    "print(int(s))"
   ]
  },
  {
   "cell_type": "code",
   "execution_count": 65,
   "id": "3fe77d81",
   "metadata": {},
   "outputs": [
    {
     "ename": "ValueError",
     "evalue": "invalid literal for int() with base 10: ''",
     "output_type": "error",
     "traceback": [
      "\u001b[31m---------------------------------------------------------------------------\u001b[39m",
      "\u001b[31mValueError\u001b[39m                                Traceback (most recent call last)",
      "\u001b[36mCell\u001b[39m\u001b[36m \u001b[39m\u001b[32mIn[65]\u001b[39m\u001b[32m, line 1\u001b[39m\n\u001b[32m----> \u001b[39m\u001b[32m1\u001b[39m name = \u001b[38;5;28;43mint\u001b[39;49m\u001b[43m(\u001b[49m\u001b[38;5;28;43minput\u001b[39;49m\u001b[43m(\u001b[49m\u001b[43m)\u001b[49m\u001b[43m)\u001b[49m\n\u001b[32m      2\u001b[39m name_2 = \u001b[38;5;28mint\u001b[39m(\u001b[38;5;28minput\u001b[39m())\n\u001b[32m      3\u001b[39m name_3 = \u001b[38;5;28mint\u001b[39m(\u001b[38;5;28minput\u001b[39m())\n",
      "\u001b[31mValueError\u001b[39m: invalid literal for int() with base 10: ''"
     ]
    }
   ],
   "source": [
    "name = int(input())\n",
    "name_2 = int(input())\n",
    "name_3 = int(input())\n",
    "name_4 = int(input())\n",
    "s = name + name_2 + name_3 + name_4\n",
    "summa = s * 3\n",
    "print(summa)"
   ]
  },
  {
   "cell_type": "code",
   "execution_count": 67,
   "id": "2ded472c",
   "metadata": {},
   "outputs": [
    {
     "name": "stdout",
     "output_type": "stream",
     "text": [
      "27\n"
     ]
    }
   ],
   "source": [
    "a = 3 ** 3\n",
    "print(a)"
   ]
  },
  {
   "cell_type": "code",
   "execution_count": 73,
   "id": "dff35f70",
   "metadata": {},
   "outputs": [
    {
     "name": "stdout",
     "output_type": "stream",
     "text": [
      "131\n"
     ]
    }
   ],
   "source": [
    "a = int(input())\n",
    "b = int(input())\n",
    "\n",
    "\n",
    "\n",
    "future = 3 * ((a + b) ** 3) + 275 * (b ** 2) - 127 * a - 41\n",
    "print(future)\n"
   ]
  },
  {
   "cell_type": "code",
   "execution_count": 76,
   "id": "22f19d86",
   "metadata": {},
   "outputs": [
    {
     "name": "stdout",
     "output_type": "stream",
     "text": [
      "Следующее за числом 11 число: 12\n",
      "Для числа 11 предыдущее число: 10\n"
     ]
    }
   ],
   "source": [
    "name = int(input())\n",
    "name_2 = name - 1\n",
    "name_3 = name + 1 \n",
    "print(\"Следующее за числом\" , name , \"число:\" , name_3)\n",
    "print(\"Для числа\", name , \"предыдущее число:\" , name_2)"
   ]
  },
  {
   "cell_type": "code",
   "execution_count": 79,
   "id": "025ee309",
   "metadata": {},
   "outputs": [
    {
     "name": "stdout",
     "output_type": "stream",
     "text": [
      "Объем = 15625\n",
      "Площадь полной поверхности = 3750\n"
     ]
    }
   ],
   "source": [
    "a = int(input())\n",
    "V = a ** 3\n",
    "S =  6 * (a ** 2)\n",
    "print(\"Объем =\" , V)\n",
    "print(\"Площадь полной поверхности =\" , S )"
   ]
  },
  {
   "cell_type": "code",
   "execution_count": null,
   "id": "4f8fcc5a",
   "metadata": {},
   "outputs": [
    {
     "name": "stdout",
     "output_type": "stream",
     "text": [
      "2 + 7 = 9\n",
      "2 - 7 = -5\n",
      "2 * 7 = 14\n"
     ]
    }
   ],
   "source": [
    "a = int(input())\n",
    "b = int(input())\n",
    "S = a + b\n",
    "R = a - b \n",
    "P = a * b\n",
    "print( a , \"+\" , b ,\"=\" , S )\n",
    "print(a , \"-\" , b , \"=\" , R )\n",
    "print(a , \"*\", b ,  \"=\",  P)\n"
   ]
  },
  {
   "cell_type": "code",
   "execution_count": 95,
   "id": "7898d6ad",
   "metadata": {},
   "outputs": [
    {
     "name": "stdout",
     "output_type": "stream",
     "text": [
      "11\n"
     ]
    }
   ],
   "source": [
    "# Считываем входные данные\n",
    "a1 = int(input())  # первый член прогрессии\n",
    "d = int(input())   # разность прогрессии\n",
    "n = int(input())   # номер члена прогрессии\n",
    "\n",
    "# Формула n-го члена арифметической прогрессии\n",
    "an = a1 + d * (n - 1)\n",
    "\n",
    "# Вывод результата\n",
    "print(an)\n"
   ]
  },
  {
   "cell_type": "code",
   "execution_count": null,
   "id": "735f4a17",
   "metadata": {},
   "outputs": [
    {
     "name": "stdout",
     "output_type": "stream",
     "text": [
      "7--14--42--28--35\n"
     ]
    }
   ],
   "source": [
    "a1 = int(input())\n",
    "a2 = a1 * 2\n",
    "a3 = a2 * 3\n",
    "a4 = a1 * 4\n",
    "a5 = a1 * 5\n",
    "print(a1, a2, a3, a4, a5, sep=\"---\")"
   ]
  },
  {
   "cell_type": "code",
   "execution_count": 99,
   "id": "77e5bbce",
   "metadata": {},
   "outputs": [
    {
     "name": "stdout",
     "output_type": "stream",
     "text": [
      "256\n",
      "5\n",
      "3\n",
      "0\n",
      "0\n"
     ]
    }
   ],
   "source": [
    "print(2 ** 2 ** 3)     # 2 ** (2 ** 3) = 2 ** 8\n",
    "print(5 % 9)\n",
    "print(3 % 13)\n",
    "print(5 // 9)\n",
    "print(3 // 13)\n",
    "#Обратите внимание: при 0 < n < m результатом деления n % m является число n, а результатом деления n // m является число 0."
   ]
  },
  {
   "cell_type": "code",
   "execution_count": 107,
   "id": "5fe049aa",
   "metadata": {},
   "outputs": [
    {
     "name": "stdout",
     "output_type": "stream",
     "text": [
      "6\n"
     ]
    }
   ],
   "source": [
    "print(18 % 12)\n"
   ]
  },
  {
   "cell_type": "code",
   "execution_count": 109,
   "id": "0d5e1890",
   "metadata": {},
   "outputs": [
    {
     "name": "stdout",
     "output_type": "stream",
     "text": [
      "-100\n",
      "-1000\n"
     ]
    }
   ],
   "source": [
    "print(-10**2)\n",
    "print(-10**3)"
   ]
  },
  {
   "cell_type": "code",
   "execution_count": 111,
   "id": "3ef91eb5",
   "metadata": {},
   "outputs": [
    {
     "name": "stdout",
     "output_type": "stream",
     "text": [
      "100\n",
      "-1000\n"
     ]
    }
   ],
   "source": [
    "print((-10)**2)\n",
    "print((-10)**3)"
   ]
  },
  {
   "cell_type": "code",
   "execution_count": 117,
   "id": "7a52c588",
   "metadata": {},
   "outputs": [
    {
     "name": "stdout",
     "output_type": "stream",
     "text": [
      "-13\n"
     ]
    }
   ],
   "source": [
    "print(-123 // 10)\n"
   ]
  },
  {
   "cell_type": "code",
   "execution_count": 119,
   "id": "e9b1eee8",
   "metadata": {},
   "outputs": [
    {
     "name": "stdout",
     "output_type": "stream",
     "text": [
      "29\n"
     ]
    }
   ],
   "source": [
    "a = 15 // (16 % 7)\n",
    "b = 34 % a * 5 - 29 % 5 * 2\n",
    "print(a + b)"
   ]
  },
  {
   "cell_type": "code",
   "execution_count": 121,
   "id": "e42b61ff",
   "metadata": {},
   "outputs": [
    {
     "name": "stdout",
     "output_type": "stream",
     "text": [
      "2\n"
     ]
    }
   ],
   "source": [
    "a = 82 // 3**2 % 7\n",
    "print(a)"
   ]
  },
  {
   "cell_type": "code",
   "execution_count": 127,
   "id": "fd752147",
   "metadata": {},
   "outputs": [
    {
     "name": "stdout",
     "output_type": "stream",
     "text": [
      "9\n"
     ]
    }
   ],
   "source": [
    "# Считываем входные данные\n",
    "a1 = int(input())  # первый член прогрессии\n",
    "d = int(input())   # разность прогрессии\n",
    "n = int(input())   # номер члена прогрессии\n",
    "\n",
    "# Формула n-го члена арифметической прогрессии\n",
    "an = a1 + (d * (n - 1))\n",
    "\n",
    "# Вывод результата\n",
    "print(an)"
   ]
  },
  {
   "cell_type": "code",
   "execution_count": 130,
   "id": "ae851e82",
   "metadata": {},
   "outputs": [
    {
     "name": "stdout",
     "output_type": "stream",
     "text": [
      "16\n"
     ]
    }
   ],
   "source": [
    "# Считываем входные данные\n",
    "a1 = int(input())  # первый член прогрессии\n",
    "d = int(input())   # знаменатель (множитель) прогрессии\n",
    "n = int(input())   # номер члена прогрессии\n",
    "\n",
    "# Формула n-го члена геометрической прогрессии\n",
    "an = a1 * (d ** (n - 1))\n",
    "\n",
    "# Вывод результата\n",
    "print(an)\n"
   ]
  },
  {
   "cell_type": "code",
   "execution_count": 135,
   "id": "0bd0e668",
   "metadata": {},
   "outputs": [
    {
     "name": "stdout",
     "output_type": "stream",
     "text": [
      "0\n"
     ]
    }
   ],
   "source": [
    "name = int(input())\n",
    "name_2 = name // 100\n",
    "print(name_2)\n"
   ]
  },
  {
   "cell_type": "code",
   "execution_count": 143,
   "id": "9ac49899",
   "metadata": {},
   "outputs": [
    {
     "name": "stdout",
     "output_type": "stream",
     "text": [
      "2\n",
      "0\n"
     ]
    }
   ],
   "source": [
    "name = int(input())\n",
    "name_2 = int(input())\n",
    "name_3 = name_2 // name\n",
    "name_4 =  name_2 % name\n",
    "print(name_3, end=\"\\n\")\n",
    "print(name_4)"
   ]
  },
  {
   "cell_type": "code",
   "execution_count": 146,
   "id": "71f03cb7",
   "metadata": {},
   "outputs": [
    {
     "name": "stdout",
     "output_type": "stream",
     "text": [
      "111\n",
      "111\n",
      "111\n"
     ]
    }
   ],
   "source": [
    "n = int(input())\n",
    "print((n + 1) // 2)\n",
    "# Считываем население Вселенной\n",
    "n = int(input())\n",
    "\n",
    "# Вычисляем количество выживших\n",
    "survivors = (n + 1) // 2  # округление вверх для нечетных чисел\n",
    "\n",
    "# Выводим результат\n",
    "print(survivors)\n",
    "n = int(input())\n",
    "\n",
    "if n % 2 == 0:  # если число чётное\n",
    "    print(n // 2)\n",
    "else:           # если нечётное\n",
    "    print(n // 2 + 1)\n"
   ]
  },
  {
   "cell_type": "code",
   "execution_count": 148,
   "id": "9680b1eb",
   "metadata": {},
   "outputs": [
    {
     "name": "stdout",
     "output_type": "stream",
     "text": [
      "30 мин - это 0 час 30 минут\n"
     ]
    }
   ],
   "source": [
    "name = int(input())\n",
    "name_2 = name // 60\n",
    "name_3 = name % 60 \n",
    "print(name, \"мин - это\", name_2, \"час\", name_3, \"минут\")"
   ]
  },
  {
   "cell_type": "code",
   "execution_count": 154,
   "id": "d4e924d9",
   "metadata": {},
   "outputs": [
    {
     "name": "stdout",
     "output_type": "stream",
     "text": [
      "0\n"
     ]
    }
   ],
   "source": [
    "name = int(input())\n",
    "name_2 = name // 4\n",
    "print(name_2)"
   ]
  },
  {
   "cell_type": "code",
   "execution_count": 153,
   "id": "c3ba6508",
   "metadata": {},
   "outputs": [
    {
     "name": "stdout",
     "output_type": "stream",
     "text": [
      "1\n"
     ]
    }
   ],
   "source": [
    "n = int(input())              # 1. Считываем номер места\n",
    "print((n - 1) // 4 + 1)       # 2. Вычисляем номер купе и выводим\n"
   ]
  },
  {
   "cell_type": "code",
   "execution_count": null,
   "id": "f7ef1288",
   "metadata": {},
   "outputs": [],
   "source": [
    "num = 754\n",
    "a = num % 10             # вычисляем последнюю цифру числа\n",
    "b = (num % 100) // 10    # вычисляем среднюю цифру числа\n",
    "c = num // 100           # вычисляем первую цифру числа\n",
    "\n",
    "print(a)\n",
    "print(b)\n",
    "print(c)\n",
    "\n",
    "#Алгоритм получения цифр n-значного числа\n",
    "\n",
    "#Несложно понять, по какому алгоритму можно получить каждую цифру n-значного числа num:\n",
    "\n",
    "#Последняя цифра: num % 10\n",
    "#Предпоследняя цифра: (num // 10) % 10\n",
    "#Предпредпоследняя цифра: (num // 100) % 10\n",
    "#...\n",
    "#Третья цифра: (num // 10 ** (n - 3)) % 10\n",
    "#Вторая цифра: (num // 10 ** (n - 2)) % 10\n",
    "#Первая цифра: num // 10 ** (n - 1)\n",
    "#Запишем формулу для вычисления i-й цифры n-значного числа num в общем виде:\n",
    "\n",
    "(num // 10 ** (n - i)) % 10\n",
    "\n",
    "#Также предложим другой алгоритм получения каждой цифры n-значного числа num:\n",
    "\n",
    "#Последняя цифра: num % 10\n",
    "#Предпоследняя цифра: (num % 100) // 10\n",
    "#Предпредпоследняя цифра: (num % 1000) // 100\n",
    "#...\n",
    "#Третья цифра: (num % 10 ** (n - 2)) // (10 ** (n - 3))\n",
    "#торая цифра: (num % 10 ** (n - 1)) // (10 ** (n - 2))\n",
    "#Первая цифра: (num % 10 ** n) // (10 ** (n - 1))\n",
    "#Мы можем записать формулу для вычисления i-й цифры n-значного числа num в общем виде:\n",
    "\n",
    "num % 10 ** (n + 1 - i) // (10 ** (n - i))"
   ]
  },
  {
   "cell_type": "code",
   "execution_count": 156,
   "id": "fb3bc25d",
   "metadata": {},
   "outputs": [
    {
     "name": "stdout",
     "output_type": "stream",
     "text": [
      "Число десятков = 111\n",
      "Число единиц = 3\n"
     ]
    }
   ],
   "source": [
    "num = int(input())\n",
    "last_digit = num % 10\n",
    "first_digit = num // 10\n",
    "\n",
    "print('Число десятков =', first_digit)\n",
    "print('Число единиц =', last_digit)"
   ]
  },
  {
   "cell_type": "code",
   "execution_count": 160,
   "id": "2fac273c",
   "metadata": {},
   "outputs": [
    {
     "name": "stdout",
     "output_type": "stream",
     "text": [
      "Сумма цифр = 15\n"
     ]
    }
   ],
   "source": [
    "num = int(input())\n",
    "last_digit = num % 10\n",
    "first_digit = num // 10\n",
    "\n",
    "print('Сумма цифр =', last_digit + first_digit)"
   ]
  },
  {
   "cell_type": "code",
   "execution_count": 170,
   "id": "73d8cb3a",
   "metadata": {},
   "outputs": [
    {
     "name": "stdout",
     "output_type": "stream",
     "text": [
      "Искомое число = 21\n"
     ]
    }
   ],
   "source": [
    "num = int(input())\n",
    "last_digit = num % 10\n",
    "first_digit = num // 10\n",
    "\n",
    "print('Искомое число =', last_digit * 10 + first_digit)"
   ]
  },
  {
   "cell_type": "code",
   "execution_count": 173,
   "id": "310a14e8",
   "metadata": {},
   "outputs": [
    {
     "name": "stdout",
     "output_type": "stream",
     "text": [
      "1,2,3\n"
     ]
    }
   ],
   "source": [
    "num = int(input())\n",
    "digit3 = num % 10\n",
    "digit2 = (num // 10) % 10\n",
    "digit1 = num // 100\n",
    "\n",
    "print(digit1, digit2, digit3, sep=',')"
   ]
  },
  {
   "cell_type": "code",
   "execution_count": 179,
   "id": "66dd3278",
   "metadata": {},
   "outputs": [
    {
     "name": "stdout",
     "output_type": "stream",
     "text": [
      "Сумма цифр = 6\n",
      "Произведение цифр = 6\n"
     ]
    }
   ],
   "source": [
    "name = int(input())\n",
    "name_2 = name % 10\n",
    "name_3 = (name //10) % 10\n",
    "name_4 = name // 100\n",
    "S = int(name_2 + name_3 + name_4)\n",
    "P = int(name_2 * name_3 * name_4)\n",
    "print(\"Сумма цифр =\", S)\n",
    "print(\"Произведение цифр =\", P)"
   ]
  },
  {
   "cell_type": "code",
   "execution_count": 188,
   "id": "f1a78648",
   "metadata": {},
   "outputs": [
    {
     "name": "stdout",
     "output_type": "stream",
     "text": [
      "123\n",
      "132\n",
      "213\n",
      "231\n",
      "312\n",
      "321\n"
     ]
    }
   ],
   "source": [
    "num = int(input())\n",
    "c = num % 10             # вычисляем последнюю цифру числа\n",
    "b = (num % 100) // 10    # вычисляем среднюю цифру числа\n",
    "a = num // 100           # вычисляем первую цифру числа\n",
    "print(a,b,c, sep=\"\")\n",
    "print(a,c,b, sep=\"\")\n",
    "print(b,a,c, sep=\"\")\n",
    "print(b,c,a, sep=\"\")\n",
    "print(c,a,b, sep=\"\")\n",
    "print(c,b,a, sep=\"\")\n"
   ]
  },
  {
   "cell_type": "code",
   "execution_count": 196,
   "id": "8173137b",
   "metadata": {},
   "outputs": [
    {
     "name": "stdout",
     "output_type": "stream",
     "text": [
      "Цифра в позиции тысяч равна 1\n",
      "Цифра в позиции сотен равна 2\n",
      "Цифра в позиции десятков равна 3\n",
      "Цифра в позиции единиц равна 4\n"
     ]
    }
   ],
   "source": [
    "name = int(input())\n",
    "a = name // 1000\n",
    "b = (name // 100) % 10\n",
    "c = (name % 100) // 10\n",
    "d = name % 10\n",
    "print(\"Цифра в позиции тысяч равна\" , a)\n",
    "print(\"Цифра в позиции сотен равна\", b)\n",
    "print(\"Цифра в позиции десятков равна\",c)\n",
    "print(\"Цифра в позиции единиц равна\",d)"
   ]
  },
  {
   "cell_type": "code",
   "execution_count": null,
   "id": "14212e78",
   "metadata": {},
   "outputs": [],
   "source": [
    "#Последняя цифра: num % 10\n",
    "#Предпоследняя цифра: (num // 10) % 10\n",
    "#Предпредпоследняя цифра: (num // 100) % 10\n",
    "...\n",
    "#Третья цифра: (num // 10 ** (n - 3)) % 10\n",
    "#Вторая цифра: (num // 10 ** (n - 2)) % 10\n",
    "#Первая цифра: num // 10 ** (n - 1)\n",
    "#или\n",
    "\n",
    "#Последняя цифра: num % 10\n",
    "#Предпоследняя цифра: (num % 100) // 10\n",
    "#Предпредпоследняя цифра: (num % 1000) // 100\n",
    "...\n",
    "#Третья цифра: (num % 10 ** (n - 2)) // (10 ** (n - 3))\n",
    "#Вторая цифра: (num % 10 ** (n - 1)) // (10 ** (n - 2))\n",
    "#Первая цифра: (num % 10 ** n) // (10 ** (n - 1))"
   ]
  },
  {
   "cell_type": "code",
   "execution_count": 208,
   "id": "a84ae95f",
   "metadata": {},
   "outputs": [
    {
     "name": "stdout",
     "output_type": "stream",
     "text": [
      "1 чётное\n"
     ]
    }
   ],
   "source": [
    "i = 1\n",
    "if i // 2 != 0:\n",
    "    print(i, 'нечётное')\n",
    "else:\n",
    "    print(i, 'чётное')"
   ]
  },
  {
   "cell_type": "code",
   "execution_count": 210,
   "id": "83eda52b",
   "metadata": {},
   "outputs": [
    {
     "name": "stdout",
     "output_type": "stream",
     "text": [
      "Пароль не принят\n"
     ]
    }
   ],
   "source": [
    "name = input()\n",
    "name_2 = input()\n",
    "if name == name_2:\n",
    "    print(\"Пароль принят\")\n",
    "else:\n",
    "    print(\"Пароль не принят\")"
   ]
  },
  {
   "cell_type": "code",
   "execution_count": 213,
   "id": "d6afc2a3",
   "metadata": {},
   "outputs": [
    {
     "name": "stdout",
     "output_type": "stream",
     "text": [
      "Чётное\n"
     ]
    }
   ],
   "source": [
    "name = int(input())\n",
    "if name % 2 == 0:\n",
    "    print('Чётное')\n",
    "else:\n",
    "    print('Нечётное')"
   ]
  },
  {
   "cell_type": "code",
   "execution_count": 217,
   "id": "0d631582",
   "metadata": {},
   "outputs": [
    {
     "name": "stdout",
     "output_type": "stream",
     "text": [
      "НЕТ\n"
     ]
    }
   ],
   "source": [
    "n = int(input())\n",
    "\n",
    "a = n // 1000        # первая цифра\n",
    "b = (n // 100) % 10  # вторая цифра\n",
    "c = (n // 10) % 10   # третья цифра\n",
    "d = n % 10           # четвёртая цифра\n",
    "\n",
    "if a + d == b - c:\n",
    "    print(\"ДА\")\n",
    "else:\n",
    "    print(\"НЕТ\")\n"
   ]
  },
  {
   "cell_type": "code",
   "execution_count": 219,
   "id": "94e27944",
   "metadata": {},
   "outputs": [
    {
     "name": "stdout",
     "output_type": "stream",
     "text": [
      "Доступ разрешен\n"
     ]
    }
   ],
   "source": [
    "name = int(input())\n",
    "if name >= 18:\n",
    "    print(\"Доступ разрешен\")\n",
    "else:\n",
    "    print(\"Доступ запрещен\")"
   ]
  },
  {
   "cell_type": "code",
   "execution_count": 224,
   "id": "9e58b28d",
   "metadata": {},
   "outputs": [
    {
     "name": "stdout",
     "output_type": "stream",
     "text": [
      "NO\n"
     ]
    }
   ],
   "source": [
    "a = int(input())\n",
    "b = int(input())\n",
    "c = int(input())\n",
    "\n",
    "if b - a == c - b:\n",
    "    print(\"YES\")\n",
    "else:\n",
    "    print(\"NO\")\n"
   ]
  },
  {
   "cell_type": "code",
   "execution_count": 226,
   "id": "ee88be7c",
   "metadata": {},
   "outputs": [
    {
     "name": "stdout",
     "output_type": "stream",
     "text": [
      "9\n"
     ]
    }
   ],
   "source": [
    "name = int(input())\n",
    "name_2 = int(input())\n",
    "if name > name_2:\n",
    "    print(name_2)\n",
    "else:\n",
    "    print(name)\n"
   ]
  },
  {
   "cell_type": "code",
   "execution_count": 227,
   "id": "ad315b26",
   "metadata": {},
   "outputs": [
    {
     "name": "stdout",
     "output_type": "stream",
     "text": [
      "2\n"
     ]
    }
   ],
   "source": [
    "a = int(input())\n",
    "b = int(input())\n",
    "c = int(input())\n",
    "d = int(input())\n",
    "\n",
    "print(min(a, b, c, d))\n"
   ]
  },
  {
   "cell_type": "code",
   "execution_count": 233,
   "id": "66a68d27",
   "metadata": {},
   "outputs": [
    {
     "name": "stdout",
     "output_type": "stream",
     "text": [
      "старость\n"
     ]
    }
   ],
   "source": [
    "name = int(input())\n",
    "if name <= 13:\n",
    "    print(\"дество\")\n",
    "elif  14 <= name <= 24:\n",
    "    print(\"молодость\")\n",
    "elif 25 <= name <= 59:\n",
    "    print(\"зрелость\")\n",
    "else:\n",
    "    print(\"старость\")"
   ]
  },
  {
   "cell_type": "code",
   "execution_count": 234,
   "id": "700206f2",
   "metadata": {},
   "outputs": [
    {
     "name": "stdout",
     "output_type": "stream",
     "text": [
      "14\n"
     ]
    }
   ],
   "source": [
    "a = int(input())\n",
    "b = int(input())\n",
    "c = int(input())\n",
    "\n",
    "s = 0\n",
    "if a > 0:\n",
    "    s += a\n",
    "if b > 0:\n",
    "    s += b\n",
    "if c > 0:\n",
    "    s += c\n",
    "\n",
    "print(s)\n"
   ]
  }
 ],
 "metadata": {
  "kernelspec": {
   "display_name": "Python 3",
   "language": "python",
   "name": "python3"
  },
  "language_info": {
   "codemirror_mode": {
    "name": "ipython",
    "version": 3
   },
   "file_extension": ".py",
   "mimetype": "text/x-python",
   "name": "python",
   "nbconvert_exporter": "python",
   "pygments_lexer": "ipython3",
   "version": "3.13.7"
  }
 },
 "nbformat": 4,
 "nbformat_minor": 5
}
